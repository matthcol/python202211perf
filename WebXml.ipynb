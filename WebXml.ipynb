{
 "cells": [
  {
   "cell_type": "markdown",
   "id": "11952d74-2e0d-435e-bca0-06ab89a2bf85",
   "metadata": {},
   "source": [
    "# Web, Web Scrapping, XML\n",
    "- XML\n",
    "    . xml.etree (python)\n",
    "    . lxml (better): XSD, XSL, XPATH, CSS selector (complément)\n",
    "- HTML/XML\n",
    "    - BeautifulSoup : https://www.crummy.com/software/BeautifulSoup/bs4/doc/\n",
    "- Web Scrapping\n",
    "    - Scrapy: https://scrapy.org/\n",
    "    - spécialisé dans un site:  Cinemagoer (ImdbPy)"
   ]
  },
  {
   "cell_type": "code",
   "execution_count": null,
   "id": "dfab8a8d-7219-4bcc-850b-547a7dd82241",
   "metadata": {},
   "outputs": [],
   "source": [
    "#__next > main > div > section.ipc-page-background.ipc-page-background--base.sc-9b716f3b-0.hWwhTB > section > div:nth-child(4) > section > section > div.sc-80d4314-0.fjPRnj > div.sc-80d4314-1.fbQftq > h1"
   ]
  },
  {
   "cell_type": "code",
   "execution_count": 1,
   "id": "ed265ece-e428-4bb0-a3d9-5bd43958507e",
   "metadata": {},
   "outputs": [],
   "source": [
    "from imdb import Cinemagoer\n",
    "\n",
    "# create an instance of the Cinemagoer class\n",
    "ia = Cinemagoer()"
   ]
  },
  {
   "cell_type": "code",
   "execution_count": 3,
   "id": "cf83b4aa-a36c-405d-8e8b-3df23f9b7588",
   "metadata": {},
   "outputs": [
    {
     "data": {
      "text/plain": [
       "[<Movie id:0133093[http] title:_The Matrix (1999)_>,\n",
       " <Movie id:0106062[http] title:_\"Matrix\" (1993)_>,\n",
       " <Movie id:11749868[http] title:_Matrix (2020)_>,\n",
       " <Movie id:10838180[http] title:_The Matrix Resurrections (2021)_>,\n",
       " <Movie id:0234215[http] title:_The Matrix Reloaded (2003)_>,\n",
       " <Movie id:0242653[http] title:_The Matrix Revolutions (2003)_>,\n",
       " <Movie id:9847360[http] title:_A Glitch in the Matrix (2021)_>,\n",
       " <Movie id:0270841[http] title:_Cyber Wars (2004)_>,\n",
       " <Movie id:17202326[http] title:_Matriarch (2022)_>,\n",
       " <Movie id:0328832[http] title:_The Animatrix (2003) (V)_>,\n",
       " <Movie id:0365467[http] title:_Making 'The Matrix' (1999) (TV)_>,\n",
       " <Movie id:0364888[http] title:_\"Threat Matrix\" (2003)_>,\n",
       " <Movie id:0277828[http] title:_Enter the Matrix (2003) (VG)_>,\n",
       " <Movie id:9642498[http] title:_The Matrix (2016)_>,\n",
       " <Movie id:0410519[http] title:_The Matrix Recalibrated (2004) (V)_>,\n",
       " <Movie id:0211096[http] title:_V-World Matrix (1999) (V)_>,\n",
       " <Movie id:0390244[http] title:_The Matrix Online (2005) (VG)_>,\n",
       " <Movie id:11574780[http] title:_The Matrix Redeemed (2020)_>,\n",
       " <Movie id:15081902[http] title:_Beatrix (2021)_>,\n",
       " <Movie id:12355912[http] title:_The Matrix: Reborn (2020) (TV)_>]"
      ]
     },
     "execution_count": 3,
     "metadata": {},
     "output_type": "execute_result"
    }
   ],
   "source": [
    "res = ia.search_movie('Matrix')\n",
    "res"
   ]
  }
 ],
 "metadata": {
  "kernelspec": {
   "display_name": "Python 3 (ipykernel)",
   "language": "python",
   "name": "python3"
  },
  "language_info": {
   "codemirror_mode": {
    "name": "ipython",
    "version": 3
   },
   "file_extension": ".py",
   "mimetype": "text/x-python",
   "name": "python",
   "nbconvert_exporter": "python",
   "pygments_lexer": "ipython3",
   "version": "3.9.12"
  }
 },
 "nbformat": 4,
 "nbformat_minor": 5
}
