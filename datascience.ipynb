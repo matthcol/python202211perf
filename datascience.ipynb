{
 "cells": [
  {
   "cell_type": "code",
   "execution_count": 1,
   "id": "173eac5d-1899-4017-826d-66020dad99af",
   "metadata": {},
   "outputs": [],
   "source": [
    "import numpy as np\n",
    "import matplotlib.pyplot as plt\n",
    "import pandas as pd\n",
    "import sys"
   ]
  },
  {
   "cell_type": "markdown",
   "id": "ccdb5e3a-6212-4012-91dd-7477f4e11ded",
   "metadata": {},
   "source": [
    "## Numpy\n",
    "https://numpy.org/doc/stable/reference/index.html#reference"
   ]
  },
  {
   "cell_type": "code",
   "execution_count": 2,
   "id": "a3e29450-0cb4-4d31-b0a3-e6d4c84fe319",
   "metadata": {},
   "outputs": [],
   "source": [
    "y = np.random.normal(10, 3, 10000)"
   ]
  },
  {
   "cell_type": "code",
   "execution_count": 3,
   "id": "57c47e3f-d30f-4d5a-b706-2c78ff9fdecd",
   "metadata": {},
   "outputs": [
    {
     "data": {
      "text/plain": [
       "numpy.ndarray"
      ]
     },
     "execution_count": 3,
     "metadata": {},
     "output_type": "execute_result"
    }
   ],
   "source": [
    "type(y)"
   ]
  },
  {
   "cell_type": "code",
   "execution_count": 4,
   "id": "86e18df3-4798-40e0-8e04-e68003b884aa",
   "metadata": {},
   "outputs": [
    {
     "data": {
      "text/plain": [
       "array([ 8.58233323, 13.83998365,  5.24889827, ..., 10.5611802 ,\n",
       "        8.16124068,  9.22500855])"
      ]
     },
     "execution_count": 4,
     "metadata": {},
     "output_type": "execute_result"
    }
   ],
   "source": [
    "y"
   ]
  },
  {
   "cell_type": "code",
   "execution_count": 5,
   "id": "94f18f7e-7373-4441-b499-90e6171cbbdb",
   "metadata": {},
   "outputs": [
    {
     "data": {
      "text/plain": [
       "(10000,)"
      ]
     },
     "execution_count": 5,
     "metadata": {},
     "output_type": "execute_result"
    }
   ],
   "source": [
    "y.shape"
   ]
  },
  {
   "cell_type": "code",
   "execution_count": 6,
   "id": "c5cb3358-8886-4f0b-920e-02d03280f969",
   "metadata": {},
   "outputs": [
    {
     "data": {
      "text/plain": [
       "  C_CONTIGUOUS : True\n",
       "  F_CONTIGUOUS : True\n",
       "  OWNDATA : True\n",
       "  WRITEABLE : True\n",
       "  ALIGNED : True\n",
       "  WRITEBACKIFCOPY : False\n",
       "  UPDATEIFCOPY : False"
      ]
     },
     "execution_count": 6,
     "metadata": {},
     "output_type": "execute_result"
    }
   ],
   "source": [
    "y.flags"
   ]
  },
  {
   "cell_type": "code",
   "execution_count": 7,
   "id": "7db5f890-08ca-4ca0-b7b7-4dc28b17eff3",
   "metadata": {},
   "outputs": [
    {
     "data": {
      "text/plain": [
       "True"
      ]
     },
     "execution_count": 7,
     "metadata": {},
     "output_type": "execute_result"
    }
   ],
   "source": [
    "y.flags.owndata"
   ]
  },
  {
   "cell_type": "code",
   "execution_count": 8,
   "id": "6c25dfd3",
   "metadata": {},
   "outputs": [
    {
     "ename": "AttributeError",
     "evalue": "'numpy.ndarray' object has no attribute 'city'",
     "output_type": "error",
     "traceback": [
      "\u001b[1;31m---------------------------------------------------------------------------\u001b[0m",
      "\u001b[1;31mAttributeError\u001b[0m                            Traceback (most recent call last)",
      "\u001b[1;32m~\\AppData\\Local\\Temp\\ipykernel_4756\\188208983.py\u001b[0m in \u001b[0;36m<cell line: 1>\u001b[1;34m()\u001b[0m\n\u001b[1;32m----> 1\u001b[1;33m \u001b[0my\u001b[0m\u001b[1;33m.\u001b[0m\u001b[0mcity\u001b[0m \u001b[1;33m=\u001b[0m \u001b[1;34m\"Toulouse\"\u001b[0m\u001b[1;33m\u001b[0m\u001b[1;33m\u001b[0m\u001b[0m\n\u001b[0m",
      "\u001b[1;31mAttributeError\u001b[0m: 'numpy.ndarray' object has no attribute 'city'"
     ]
    }
   ],
   "source": [
    "y.city = \"Toulouse\""
   ]
  },
  {
   "cell_type": "code",
   "execution_count": null,
   "id": "ded92814",
   "metadata": {},
   "outputs": [],
   "source": [
    "del y.shape"
   ]
  },
  {
   "cell_type": "code",
   "execution_count": null,
   "id": "aae022e3",
   "metadata": {},
   "outputs": [],
   "source": [
    "y.shape"
   ]
  },
  {
   "cell_type": "code",
   "execution_count": null,
   "id": "9d64d85d",
   "metadata": {},
   "outputs": [],
   "source": [
    "y.shape = (10, 1000)"
   ]
  },
  {
   "cell_type": "code",
   "execution_count": null,
   "id": "369cb4e3",
   "metadata": {},
   "outputs": [],
   "source": [
    "y.shape = (3,3)"
   ]
  },
  {
   "cell_type": "code",
   "execution_count": null,
   "id": "93d19bde-b62c-45c1-8bca-a87cfa648432",
   "metadata": {},
   "outputs": [],
   "source": [
    "_ = plt.hist(y, 1000)"
   ]
  },
  {
   "cell_type": "code",
   "execution_count": 9,
   "id": "34dd930c-e883-4101-96ad-f25d7f24be63",
   "metadata": {},
   "outputs": [
    {
     "name": "stdout",
     "output_type": "stream",
     "text": [
      "ValueError: The truth value of an array with more than one element is ambiguous. Use a.any() or a.all()\n"
     ]
    }
   ],
   "source": [
    "# ndarray has no truth value\n",
    "try:\n",
    "    bool(y)\n",
    "except ValueError as e:\n",
    "    print(\"ValueError:\", e)"
   ]
  },
  {
   "cell_type": "code",
   "execution_count": 10,
   "id": "ab510013-0d2b-4a84-b408-8d06cc136265",
   "metadata": {},
   "outputs": [
    {
     "data": {
      "text/plain": [
       "array([False, False, False, ..., False, False, False])"
      ]
     },
     "execution_count": 10,
     "metadata": {},
     "output_type": "execute_result"
    }
   ],
   "source": [
    "y == 3"
   ]
  },
  {
   "cell_type": "code",
   "execution_count": 11,
   "id": "b94d99b3-c2ec-46ca-9f4b-7ed930098d18",
   "metadata": {},
   "outputs": [
    {
     "data": {
      "text/plain": [
       "array([False, False, False, ..., False, False, False])"
      ]
     },
     "execution_count": 11,
     "metadata": {},
     "output_type": "execute_result"
    }
   ],
   "source": [
    "3 == y"
   ]
  },
  {
   "cell_type": "code",
   "execution_count": 12,
   "id": "07517028-a555-40eb-9730-cfdd1c77eaf4",
   "metadata": {},
   "outputs": [
    {
     "data": {
      "text/plain": [
       "array([11.58233323, 16.83998365,  8.24889827, ..., 13.5611802 ,\n",
       "       11.16124068, 12.22500855])"
      ]
     },
     "execution_count": 12,
     "metadata": {},
     "output_type": "execute_result"
    }
   ],
   "source": [
    "3 + y"
   ]
  },
  {
   "cell_type": "code",
   "execution_count": 13,
   "id": "0862a65e-d67a-4368-b91b-f5acbabe55af",
   "metadata": {},
   "outputs": [
    {
     "data": {
      "text/plain": [
       "array([13.83998365, 10.2647389 , 10.79713753, ..., 10.40237937,\n",
       "       11.66164257, 10.5611802 ])"
      ]
     },
     "execution_count": 13,
     "metadata": {},
     "output_type": "execute_result"
    }
   ],
   "source": [
    "y[y>10]"
   ]
  },
  {
   "cell_type": "code",
   "execution_count": 14,
   "id": "483841de-5c00-492d-8158-762b01d8963e",
   "metadata": {},
   "outputs": [],
   "source": [
    "assert y.__getitem__(0) == y[0]"
   ]
  },
  {
   "cell_type": "code",
   "execution_count": 15,
   "id": "9684314f-e85c-403e-a604-4086f6ff18f6",
   "metadata": {},
   "outputs": [
    {
     "data": {
      "text/plain": [
       "1"
      ]
     },
     "execution_count": 15,
     "metadata": {},
     "output_type": "execute_result"
    }
   ],
   "source": [
    "(1,2,3)[0]"
   ]
  },
  {
   "cell_type": "code",
   "execution_count": 16,
   "id": "bfd7e262-f799-4f5e-ab14-07ce60afa6cb",
   "metadata": {},
   "outputs": [
    {
     "name": "stdout",
     "output_type": "stream",
     "text": [
      "TypeError: 'tuple' object does not support item assignment\n"
     ]
    }
   ],
   "source": [
    "# TypeError: 'tuple' object does not support item assignment\n",
    "t = (1,2,3)\n",
    "try:\n",
    "    t[0] = 2\n",
    "except TypeError as e:\n",
    "    print(\"TypeError:\",e)"
   ]
  },
  {
   "cell_type": "code",
   "execution_count": 17,
   "id": "8aba3b5d-6a45-4fb6-b6e6-22fd89976f8b",
   "metadata": {},
   "outputs": [
    {
     "data": {
      "text/plain": [
       "array([[0., 0., 0., ..., 0., 0., 0.],\n",
       "       [0., 0., 0., ..., 0., 0., 0.],\n",
       "       [0., 0., 0., ..., 0., 0., 0.],\n",
       "       ...,\n",
       "       [0., 0., 0., ..., 0., 0., 0.],\n",
       "       [0., 0., 0., ..., 0., 0., 0.],\n",
       "       [0., 0., 0., ..., 0., 0., 0.]], dtype=float32)"
      ]
     },
     "execution_count": 17,
     "metadata": {},
     "output_type": "execute_result"
    }
   ],
   "source": [
    "mat = np.zeros((100,100), dtype=np.float32)\n",
    "mat"
   ]
  },
  {
   "cell_type": "code",
   "execution_count": 18,
   "id": "33890b90-ff3f-479a-b420-78d7a0e524b0",
   "metadata": {},
   "outputs": [
    {
     "data": {
      "text/plain": [
       "array([[1, 1, 1, ..., 1, 1, 1],\n",
       "       [1, 1, 1, ..., 1, 1, 1],\n",
       "       [1, 1, 1, ..., 1, 1, 1],\n",
       "       ...,\n",
       "       [1, 1, 1, ..., 1, 1, 1],\n",
       "       [1, 1, 1, ..., 1, 1, 1],\n",
       "       [1, 1, 1, ..., 1, 1, 1]], dtype=uint8)"
      ]
     },
     "execution_count": 18,
     "metadata": {},
     "output_type": "execute_result"
    }
   ],
   "source": [
    "image = np.ones((100,100), dtype=np.uint8)\n",
    "image"
   ]
  },
  {
   "cell_type": "code",
   "execution_count": 19,
   "id": "45cd141c-ce9d-4ec6-998e-970310c0fc09",
   "metadata": {},
   "outputs": [
    {
     "data": {
      "text/plain": [
       "array([[129,   1,   1, ...,   1,   1,   1],\n",
       "       [  1,   1,   1, ...,   1,   1,   1],\n",
       "       [129,   1,   1, ...,   1,   1,   1],\n",
       "       ...,\n",
       "       [  1,   1,   1, ...,   1,   1,   1],\n",
       "       [129,   1,   1, ...,   1,   1,   1],\n",
       "       [  1,   1,   1, ...,   1,   1,   1]], dtype=uint8)"
      ]
     },
     "execution_count": 19,
     "metadata": {},
     "output_type": "execute_result"
    }
   ],
   "source": [
    "image[::2, ::4] = 129\n",
    "image"
   ]
  },
  {
   "cell_type": "code",
   "execution_count": 20,
   "id": "de0c70a2-c5af-4f62-932e-f65567d2b015",
   "metadata": {},
   "outputs": [
    {
     "data": {
      "text/plain": [
       "array([[ 13, 141, 141, ..., 141, 141, 141],\n",
       "       [141, 141, 141, ..., 141, 141, 141],\n",
       "       [ 13, 141, 141, ..., 141, 141, 141],\n",
       "       ...,\n",
       "       [141, 141, 141, ..., 141, 141, 141],\n",
       "       [ 13, 141, 141, ..., 141, 141, 141],\n",
       "       [141, 141, 141, ..., 141, 141, 141]], dtype=uint8)"
      ]
     },
     "execution_count": 20,
     "metadata": {},
     "output_type": "execute_result"
    }
   ],
   "source": [
    "image += 140\n",
    "image"
   ]
  },
  {
   "cell_type": "code",
   "execution_count": 21,
   "id": "c230c5f1-4e8a-4490-8346-734c3a82b184",
   "metadata": {},
   "outputs": [
    {
     "data": {
      "text/plain": [
       "array([[353, 481, 481, ..., 481, 481, 481],\n",
       "       [481, 481, 481, ..., 481, 481, 481],\n",
       "       [353, 481, 481, ..., 481, 481, 481],\n",
       "       ...,\n",
       "       [481, 481, 481, ..., 481, 481, 481],\n",
       "       [353, 481, 481, ..., 481, 481, 481],\n",
       "       [481, 481, 481, ..., 481, 481, 481]], dtype=uint16)"
      ]
     },
     "execution_count": 21,
     "metadata": {},
     "output_type": "execute_result"
    }
   ],
   "source": [
    "image + 340"
   ]
  },
  {
   "cell_type": "code",
   "execution_count": 22,
   "id": "440e3ce6-dc6d-4a8a-9808-9f1994be24d3",
   "metadata": {},
   "outputs": [],
   "source": [
    "image += 340"
   ]
  },
  {
   "cell_type": "code",
   "execution_count": 23,
   "id": "a29b6b78-43cb-47b2-88b0-7cc16f69ac9f",
   "metadata": {},
   "outputs": [
    {
     "data": {
      "text/plain": [
       "array([[ 97, 225, 225, ..., 225, 225, 225],\n",
       "       [225, 225, 225, ..., 225, 225, 225],\n",
       "       [ 97, 225, 225, ..., 225, 225, 225],\n",
       "       ...,\n",
       "       [225, 225, 225, ..., 225, 225, 225],\n",
       "       [ 97, 225, 225, ..., 225, 225, 225],\n",
       "       [225, 225, 225, ..., 225, 225, 225]], dtype=uint8)"
      ]
     },
     "execution_count": 23,
     "metadata": {},
     "output_type": "execute_result"
    }
   ],
   "source": [
    "image"
   ]
  },
  {
   "cell_type": "code",
   "execution_count": 24,
   "id": "e1b7ad48-9c45-4ff3-a7eb-cd77565e8cae",
   "metadata": {},
   "outputs": [
    {
     "data": {
      "text/plain": [
       "  C_CONTIGUOUS : True\n",
       "  F_CONTIGUOUS : False\n",
       "  OWNDATA : True\n",
       "  WRITEABLE : True\n",
       "  ALIGNED : True\n",
       "  WRITEBACKIFCOPY : False\n",
       "  UPDATEIFCOPY : False"
      ]
     },
     "execution_count": 24,
     "metadata": {},
     "output_type": "execute_result"
    }
   ],
   "source": [
    "image.flags"
   ]
  },
  {
   "cell_type": "code",
   "execution_count": 25,
   "id": "6ff1ed7e-76ea-40d4-95a3-3a68cde7687f",
   "metadata": {},
   "outputs": [
    {
     "data": {
      "text/plain": [
       "  C_CONTIGUOUS : False\n",
       "  F_CONTIGUOUS : True\n",
       "  OWNDATA : False\n",
       "  WRITEABLE : True\n",
       "  ALIGNED : True\n",
       "  WRITEBACKIFCOPY : False\n",
       "  UPDATEIFCOPY : False"
      ]
     },
     "execution_count": 25,
     "metadata": {},
     "output_type": "execute_result"
    }
   ],
   "source": [
    "image.T.flags"
   ]
  },
  {
   "cell_type": "code",
   "execution_count": 26,
   "id": "00d1f29b-3532-433e-9377-e5f576e55d62",
   "metadata": {},
   "outputs": [
    {
     "name": "stdout",
     "output_type": "stream",
     "text": [
      "33\n",
      "33\n"
     ]
    }
   ],
   "source": [
    "image.T[1,2]=33\n",
    "print(image.T[1,2])\n",
    "print(image[2,1])"
   ]
  },
  {
   "cell_type": "code",
   "execution_count": 27,
   "id": "7e903162-4bbb-41ce-8eb8-60be58d8cbb7",
   "metadata": {},
   "outputs": [
    {
     "data": {
      "text/plain": [
       "  C_CONTIGUOUS : False\n",
       "  F_CONTIGUOUS : False\n",
       "  OWNDATA : False\n",
       "  WRITEABLE : False\n",
       "  ALIGNED : True\n",
       "  WRITEBACKIFCOPY : False\n",
       "  UPDATEIFCOPY : False"
      ]
     },
     "execution_count": 27,
     "metadata": {},
     "output_type": "execute_result"
    }
   ],
   "source": [
    "d = image.diagonal()\n",
    "d.flags"
   ]
  },
  {
   "cell_type": "code",
   "execution_count": 28,
   "id": "b60c3871-97ea-4d46-bb98-a2ea2d2136b9",
   "metadata": {},
   "outputs": [
    {
     "ename": "ValueError",
     "evalue": "assignment destination is read-only",
     "output_type": "error",
     "traceback": [
      "\u001b[1;31m---------------------------------------------------------------------------\u001b[0m",
      "\u001b[1;31mValueError\u001b[0m                                Traceback (most recent call last)",
      "\u001b[1;32m~\\AppData\\Local\\Temp\\ipykernel_4756\\413597101.py\u001b[0m in \u001b[0;36m<cell line: 1>\u001b[1;34m()\u001b[0m\n\u001b[1;32m----> 1\u001b[1;33m \u001b[0md\u001b[0m\u001b[1;33m[\u001b[0m\u001b[1;33m:\u001b[0m\u001b[1;33m:\u001b[0m\u001b[1;36m2\u001b[0m\u001b[1;33m]\u001b[0m \u001b[1;33m=\u001b[0m \u001b[1;36m44\u001b[0m\u001b[1;33m\u001b[0m\u001b[1;33m\u001b[0m\u001b[0m\n\u001b[0m",
      "\u001b[1;31mValueError\u001b[0m: assignment destination is read-only"
     ]
    }
   ],
   "source": [
    "d[::2] = 44"
   ]
  },
  {
   "cell_type": "code",
   "execution_count": 29,
   "id": "2bf66e9b-45df-4038-8afa-69d8da701375",
   "metadata": {},
   "outputs": [],
   "source": [
    "square = np.array(\n",
    "    [[2,7,6],\n",
    "    [9,5,1],\n",
    "    [4,3,8]])"
   ]
  },
  {
   "cell_type": "code",
   "execution_count": 30,
   "id": "67db9aaf-15c2-4973-bcdb-073ea5fdb1b6",
   "metadata": {},
   "outputs": [
    {
     "data": {
      "text/plain": [
       "dtype('int32')"
      ]
     },
     "execution_count": 30,
     "metadata": {},
     "output_type": "execute_result"
    }
   ],
   "source": [
    "square.dtype"
   ]
  },
  {
   "cell_type": "code",
   "execution_count": 31,
   "id": "d6a259b0-d016-4153-993f-f157f27ab623",
   "metadata": {},
   "outputs": [
    {
     "data": {
      "text/plain": [
       "28"
      ]
     },
     "execution_count": 31,
     "metadata": {},
     "output_type": "execute_result"
    }
   ],
   "source": [
    "sys.getsizeof(7)"
   ]
  },
  {
   "cell_type": "code",
   "execution_count": 32,
   "id": "a19b3525-b169-4361-8492-94650da707d9",
   "metadata": {},
   "outputs": [
    {
     "data": {
      "text/plain": [
       "array([[2, 7, 6],\n",
       "       [9, 5, 1],\n",
       "       [4, 3, 8]], dtype=uint8)"
      ]
     },
     "execution_count": 32,
     "metadata": {},
     "output_type": "execute_result"
    }
   ],
   "source": [
    "square = np.array(\n",
    "    [[2,7,6],\n",
    "    [9,5,1],\n",
    "    [4,3,8]],\n",
    "    dtype='uint8')\n",
    "square"
   ]
  },
  {
   "cell_type": "code",
   "execution_count": 33,
   "id": "feadf426-f7b6-497f-85e3-826640bd869f",
   "metadata": {},
   "outputs": [
    {
     "data": {
      "text/plain": [
       "45"
      ]
     },
     "execution_count": 33,
     "metadata": {},
     "output_type": "execute_result"
    }
   ],
   "source": [
    "np.sum(square)"
   ]
  },
  {
   "cell_type": "code",
   "execution_count": 34,
   "id": "bac9f5b7-49ae-49ba-9462-b2e5221c5d38",
   "metadata": {},
   "outputs": [
    {
     "data": {
      "text/plain": [
       "45"
      ]
     },
     "execution_count": 34,
     "metadata": {},
     "output_type": "execute_result"
    }
   ],
   "source": [
    "square.sum()"
   ]
  },
  {
   "cell_type": "code",
   "execution_count": 35,
   "id": "b0d0fe90-e4dc-401b-af85-328b53006ef8",
   "metadata": {},
   "outputs": [
    {
     "data": {
      "text/plain": [
       "array([[ 5, 10,  9],\n",
       "       [12,  8,  4],\n",
       "       [ 7,  6, 11]], dtype=uint8)"
      ]
     },
     "execution_count": 35,
     "metadata": {},
     "output_type": "execute_result"
    }
   ],
   "source": [
    "3 + square"
   ]
  },
  {
   "cell_type": "code",
   "execution_count": 36,
   "id": "0c955861-3fb5-484c-a6ca-6736f175747a",
   "metadata": {},
   "outputs": [
    {
     "data": {
      "text/plain": [
       "array([7, 6, 9, 8], dtype=uint8)"
      ]
     },
     "execution_count": 36,
     "metadata": {},
     "output_type": "execute_result"
    }
   ],
   "source": [
    "square[square>5]"
   ]
  },
  {
   "cell_type": "code",
   "execution_count": 37,
   "id": "f83769e1-23d4-44cf-aedd-172c48450670",
   "metadata": {},
   "outputs": [
    {
     "data": {
      "text/plain": [
       "array([[False,  True,  True],\n",
       "       [ True, False, False],\n",
       "       [False, False,  True]])"
      ]
     },
     "execution_count": 37,
     "metadata": {},
     "output_type": "execute_result"
    }
   ],
   "source": [
    "square>5"
   ]
  },
  {
   "cell_type": "code",
   "execution_count": 38,
   "id": "a962204e-e14e-434b-a39c-345420848e7c",
   "metadata": {},
   "outputs": [
    {
     "name": "stdout",
     "output_type": "stream",
     "text": [
      "[[2 7 6]\n",
      " [9 5 1]\n",
      " [4 3 8]]\n",
      "[[7]\n",
      " [3]]\n"
     ]
    }
   ],
   "source": [
    "print(square)\n",
    "extract = square[::2, 1::2]\n",
    "print(extract)"
   ]
  },
  {
   "cell_type": "code",
   "execution_count": 39,
   "id": "e58c255c-3295-4593-bdca-1e472bb887ad",
   "metadata": {},
   "outputs": [
    {
     "name": "stdout",
     "output_type": "stream",
     "text": [
      "[[2 7 6]\n",
      " [9 5 1]\n",
      " [4 3 8]]\n",
      "[[6 7 2]\n",
      " [1 5 9]\n",
      " [8 3 4]]\n"
     ]
    }
   ],
   "source": [
    "print(square)\n",
    "extract = square[::, ::-1]\n",
    "print(extract)"
   ]
  },
  {
   "cell_type": "code",
   "execution_count": 40,
   "id": "3ef2b1d8-5215-46a0-8d60-328e65be19cd",
   "metadata": {},
   "outputs": [
    {
     "name": "stdout",
     "output_type": "stream",
     "text": [
      "[[2 7 6]\n",
      " [9 5 1]\n",
      " [4 3 8]]\n",
      "[[6 7 2]\n",
      " [1 5 9]\n",
      " [8 3 4]]\n"
     ]
    }
   ],
   "source": [
    "print(square)\n",
    "extract = square[slice(None), slice(None,None,-1)]\n",
    "print(extract)"
   ]
  },
  {
   "cell_type": "code",
   "execution_count": 41,
   "id": "8176a6b6-aa56-46e5-a7a7-6aabf207d4f4",
   "metadata": {},
   "outputs": [
    {
     "data": {
      "text/plain": [
       "\u001b[1;31mInit signature:\u001b[0m \u001b[0mslice\u001b[0m\u001b[1;33m(\u001b[0m\u001b[0mself\u001b[0m\u001b[1;33m,\u001b[0m \u001b[1;33m/\u001b[0m\u001b[1;33m,\u001b[0m \u001b[1;33m*\u001b[0m\u001b[0margs\u001b[0m\u001b[1;33m,\u001b[0m \u001b[1;33m**\u001b[0m\u001b[0mkwargs\u001b[0m\u001b[1;33m)\u001b[0m\u001b[1;33m\u001b[0m\u001b[1;33m\u001b[0m\u001b[0m\n",
       "\u001b[1;31mDocstring:\u001b[0m     \n",
       "slice(stop)\n",
       "slice(start, stop[, step])\n",
       "\n",
       "Create a slice object.  This is used for extended slicing (e.g. a[0:10:2]).\n",
       "\u001b[1;31mType:\u001b[0m           type\n",
       "\u001b[1;31mSubclasses:\u001b[0m     \n"
      ]
     },
     "metadata": {},
     "output_type": "display_data"
    }
   ],
   "source": [
    "slice?"
   ]
  },
  {
   "cell_type": "code",
   "execution_count": 42,
   "id": "b202c59e-d793-4e7f-b2d7-87970e69277e",
   "metadata": {},
   "outputs": [
    {
     "data": {
      "text/plain": [
       "array([15, 15, 15], dtype=uint32)"
      ]
     },
     "execution_count": 42,
     "metadata": {},
     "output_type": "execute_result"
    }
   ],
   "source": [
    "square.sum(axis=0)"
   ]
  },
  {
   "cell_type": "code",
   "execution_count": 43,
   "id": "d3c643ae-7544-48d3-b5cc-76f3c6d55857",
   "metadata": {},
   "outputs": [],
   "source": [
    "squareKoRow = np.array(\n",
    "    [[2,3,6],\n",
    "    [9,5,1],\n",
    "    [4,7,8]])"
   ]
  },
  {
   "cell_type": "code",
   "execution_count": 44,
   "id": "57969f54-7adc-4395-940a-a7d0e5ea4840",
   "metadata": {},
   "outputs": [
    {
     "data": {
      "text/plain": [
       "array([15, 15, 15])"
      ]
     },
     "execution_count": 44,
     "metadata": {},
     "output_type": "execute_result"
    }
   ],
   "source": [
    "# sums on each column\n",
    "squareKoRow.sum(axis=0)"
   ]
  },
  {
   "cell_type": "code",
   "execution_count": 45,
   "id": "e219aedf-a071-44dc-b0a4-206ddf71d3ac",
   "metadata": {},
   "outputs": [
    {
     "data": {
      "text/plain": [
       "array([11, 15, 19])"
      ]
     },
     "execution_count": 45,
     "metadata": {},
     "output_type": "execute_result"
    }
   ],
   "source": [
    "# sums on each row\n",
    "squareKoRow.sum(axis=1)"
   ]
  },
  {
   "cell_type": "code",
   "execution_count": 46,
   "id": "30c0736c-a160-49e3-b784-b98bbe1ae540",
   "metadata": {},
   "outputs": [],
   "source": [
    "def isMagic(square):\n",
    "    n,_ = square.shape\n",
    "    sm = n*(n**2+1)//2\n",
    "    return all(np.sum(square, axis=0) == sm) \\\n",
    "            and all(np.sum(square, axis=1) == sm) \\\n",
    "            and (np.sum(square.diagonal()) == sm) \\\n",
    "            and (np.sum(square[::-1].diagonal()) == sm) "
   ]
  },
  {
   "cell_type": "code",
   "execution_count": 47,
   "id": "dba280e5-2bc3-45bd-b017-6f05956f546e",
   "metadata": {},
   "outputs": [],
   "source": [
    "assert 15.0 == 15"
   ]
  },
  {
   "cell_type": "code",
   "execution_count": 48,
   "id": "f800bc33-e1d4-4397-9e5d-1c1ff14d5d71",
   "metadata": {},
   "outputs": [],
   "source": [
    "assert isMagic(square)\n",
    "assert not isMagic(squareKoRow)"
   ]
  },
  {
   "cell_type": "code",
   "execution_count": 49,
   "id": "ac0e2cb8-d178-4029-9d71-65437b6c0974",
   "metadata": {},
   "outputs": [],
   "source": [
    "from carremagic_ex_np import d_ca"
   ]
  },
  {
   "cell_type": "code",
   "execution_count": 50,
   "id": "ae90ff1a-a699-4ef4-aaee-a4dc49a69b74",
   "metadata": {},
   "outputs": [
    {
     "data": {
      "text/plain": [
       "{'ca3': True,\n",
       " 'ca3_no_diag': False,\n",
       " 'ca3_no_lig': False,\n",
       " 'ca3_no_col': False,\n",
       " 'ca3_no_lig_diag': False,\n",
       " 'ca4_ok': True,\n",
       " 'albrecht_durer': True,\n",
       " 'josep_maria_subirachs': False,\n",
       " 'ca_5_semi_diabolik': True,\n",
       " 'benjamin_franklin': False,\n",
       " 'general_cazalas': True,\n",
       " 'willem_barink_8': True,\n",
       " 'willem_barink_12': True}"
      ]
     },
     "execution_count": 50,
     "metadata": {},
     "output_type": "execute_result"
    }
   ],
   "source": [
    "{ name: isMagic(square) for name,square in d_ca.items() }"
   ]
  },
  {
   "cell_type": "code",
   "execution_count": 52,
   "id": "d1a2fb4f-d644-446b-8c9b-7f769f85b0f0",
   "metadata": {},
   "outputs": [],
   "source": [
    "squareBF = d_ca['benjamin_franklin']"
   ]
  },
  {
   "cell_type": "code",
   "execution_count": 56,
   "id": "32f48472-cd7f-43de-897e-5727b68b575c",
   "metadata": {},
   "outputs": [
    {
     "name": "stdout",
     "output_type": "stream",
     "text": [
      "[260 260 260 260 260 260 260 260]\n",
      "[260 260 260 260 260 260 260 260]\n",
      "228\n",
      "292\n"
     ]
    }
   ],
   "source": [
    "print(squareBF.sum(axis=0))\n",
    "print(squareBF.sum(axis=1))\n",
    "print(squareBF.diagonal().sum())\n",
    "print(squareBF[::-1].diagonal().sum())"
   ]
  },
  {
   "cell_type": "code",
   "execution_count": 55,
   "id": "29fd0414-e24e-4126-a477-bf4855b7feea",
   "metadata": {},
   "outputs": [
    {
     "data": {
      "text/plain": [
       "260"
      ]
     },
     "execution_count": 55,
     "metadata": {},
     "output_type": "execute_result"
    }
   ],
   "source": [
    "n=8\n",
    "n*(n**2+1)//2"
   ]
  }
 ],
 "metadata": {
  "kernelspec": {
   "display_name": "Python 3 (ipykernel)",
   "language": "python",
   "name": "python3"
  },
  "language_info": {
   "codemirror_mode": {
    "name": "ipython",
    "version": 3
   },
   "file_extension": ".py",
   "mimetype": "text/x-python",
   "name": "python",
   "nbconvert_exporter": "python",
   "pygments_lexer": "ipython3",
   "version": "3.9.12"
  },
  "vscode": {
   "interpreter": {
    "hash": "a42704ac41a61a688343fec3580f7dab585536e630effb53d2c7a2b03cac372a"
   }
  }
 },
 "nbformat": 4,
 "nbformat_minor": 5
}
