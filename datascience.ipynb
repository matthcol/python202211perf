{
 "cells": [
  {
   "cell_type": "code",
   "execution_count": 1,
   "id": "173eac5d-1899-4017-826d-66020dad99af",
   "metadata": {},
   "outputs": [],
   "source": [
    "import numpy as np\n",
    "import matplotlib.pyplot as plt\n",
    "import pandas as pd\n",
    "import sys"
   ]
  },
  {
   "cell_type": "markdown",
   "id": "ccdb5e3a-6212-4012-91dd-7477f4e11ded",
   "metadata": {},
   "source": [
    "## Numpy\n",
    "https://numpy.org/doc/stable/reference/index.html#reference"
   ]
  },
  {
   "cell_type": "code",
   "execution_count": 2,
   "id": "a3e29450-0cb4-4d31-b0a3-e6d4c84fe319",
   "metadata": {},
   "outputs": [],
   "source": [
    "y = np.random.normal(10, 3, 10000)"
   ]
  },
  {
   "cell_type": "code",
   "execution_count": 3,
   "id": "57c47e3f-d30f-4d5a-b706-2c78ff9fdecd",
   "metadata": {},
   "outputs": [
    {
     "data": {
      "text/plain": [
       "numpy.ndarray"
      ]
     },
     "execution_count": 3,
     "metadata": {},
     "output_type": "execute_result"
    }
   ],
   "source": [
    "type(y)"
   ]
  },
  {
   "cell_type": "code",
   "execution_count": 4,
   "id": "86e18df3-4798-40e0-8e04-e68003b884aa",
   "metadata": {},
   "outputs": [
    {
     "data": {
      "text/plain": [
       "array([12.47245852,  5.2307818 , 13.98591286, ...,  6.59778769,\n",
       "       11.64466216, 16.76170573])"
      ]
     },
     "execution_count": 4,
     "metadata": {},
     "output_type": "execute_result"
    }
   ],
   "source": [
    "y"
   ]
  },
  {
   "cell_type": "code",
   "execution_count": 5,
   "id": "94f18f7e-7373-4441-b499-90e6171cbbdb",
   "metadata": {},
   "outputs": [
    {
     "data": {
      "text/plain": [
       "(10000,)"
      ]
     },
     "execution_count": 5,
     "metadata": {},
     "output_type": "execute_result"
    }
   ],
   "source": [
    "y.shape"
   ]
  },
  {
   "cell_type": "code",
   "execution_count": 6,
   "id": "c5cb3358-8886-4f0b-920e-02d03280f969",
   "metadata": {},
   "outputs": [
    {
     "data": {
      "text/plain": [
       "  C_CONTIGUOUS : True\n",
       "  F_CONTIGUOUS : True\n",
       "  OWNDATA : True\n",
       "  WRITEABLE : True\n",
       "  ALIGNED : True\n",
       "  WRITEBACKIFCOPY : False\n",
       "  UPDATEIFCOPY : False"
      ]
     },
     "execution_count": 6,
     "metadata": {},
     "output_type": "execute_result"
    }
   ],
   "source": [
    "y.flags"
   ]
  },
  {
   "cell_type": "code",
   "execution_count": 7,
   "id": "7db5f890-08ca-4ca0-b7b7-4dc28b17eff3",
   "metadata": {},
   "outputs": [
    {
     "data": {
      "text/plain": [
       "True"
      ]
     },
     "execution_count": 7,
     "metadata": {},
     "output_type": "execute_result"
    }
   ],
   "source": [
    "y.flags.owndata"
   ]
  },
  {
   "cell_type": "code",
   "execution_count": 8,
   "id": "93d19bde-b62c-45c1-8bca-a87cfa648432",
   "metadata": {},
   "outputs": [
    {
     "data": {
      "image/png": "[encoded data removed]",
      "text/plain": [
       "<Figure size 432x288 with 1 Axes>"
      ]
     },
     "metadata": {
      "needs_background": "light"
     },
     "output_type": "display_data"
    }
   ],
   "source": [
    "_ = plt.hist(y, 1000)"
   ]
  },
  {
   "cell_type": "code",
   "execution_count": 9,
   "id": "ab510013-0d2b-4a84-b408-8d06cc136265",
   "metadata": {},
   "outputs": [
    {
     "data": {
      "text/plain": [
       "array([False, False, False, ..., False, False, False])"
      ]
     },
     "execution_count": 9,
     "metadata": {},
     "output_type": "execute_result"
    }
   ],
   "source": [
    "y == 3"
   ]
  },
  {
   "cell_type": "code",
   "execution_count": 10,
   "id": "b94d99b3-c2ec-46ca-9f4b-7ed930098d18",
   "metadata": {},
   "outputs": [
    {
     "data": {
      "text/plain": [
       "array([False, False, False, ..., False, False, False])"
      ]
     },
     "execution_count": 10,
     "metadata": {},
     "output_type": "execute_result"
    }
   ],
   "source": [
    "3 == y"
   ]
  },
  {
   "cell_type": "code",
   "execution_count": 11,
   "id": "07517028-a555-40eb-9730-cfdd1c77eaf4",
   "metadata": {},
   "outputs": [
    {
     "data": {
      "text/plain": [
       "array([15.47245852,  8.2307818 , 16.98591286, ...,  9.59778769,\n",
       "       14.64466216, 19.76170573])"
      ]
     },
     "execution_count": 11,
     "metadata": {},
     "output_type": "execute_result"
    }
   ],
   "source": [
    "3 + y"
   ]
  },
  {
   "cell_type": "code",
   "execution_count": 12,
   "id": "0862a65e-d67a-4368-b91b-f5acbabe55af",
   "metadata": {},
   "outputs": [
    {
     "data": {
      "text/plain": [
       "array([12.47245852, 13.98591286, 11.12715445, ..., 12.12457537,\n",
       "       11.64466216, 16.76170573])"
      ]
     },
     "execution_count": 12,
     "metadata": {},
     "output_type": "execute_result"
    }
   ],
   "source": [
    "y[y>10]"
   ]
  },
  {
   "cell_type": "code",
   "execution_count": 13,
   "id": "483841de-5c00-492d-8158-762b01d8963e",
   "metadata": {},
   "outputs": [],
   "source": [
    "assert y.__getitem__(0) == y[0]"
   ]
  },
  {
   "cell_type": "code",
   "execution_count": 14,
   "id": "9684314f-e85c-403e-a604-4086f6ff18f6",
   "metadata": {},
   "outputs": [
    {
     "data": {
      "text/plain": [
       "1"
      ]
     },
     "execution_count": 14,
     "metadata": {},
     "output_type": "execute_result"
    }
   ],
   "source": [
    "(1,2,3)[0]"
   ]
  },
  {
   "cell_type": "code",
   "execution_count": 15,
   "id": "bfd7e262-f799-4f5e-ab14-07ce60afa6cb",
   "metadata": {},
   "outputs": [
    {
     "name": "stdout",
     "output_type": "stream",
     "text": [
      "TypeError: 'tuple' object does not support item assignment\n"
     ]
    }
   ],
   "source": [
    "# TypeError: 'tuple' object does not support item assignment\n",
    "t = (1,2,3)\n",
    "try:\n",
    "    t[0] = 2\n",
    "except TypeError as e:\n",
    "    print(\"TypeError:\",e)"
   ]
  },
  {
   "cell_type": "code",
   "execution_count": 16,
   "id": "6c25dfd3",
   "metadata": {},
   "outputs": [
    {
     "name": "stdout",
     "output_type": "stream",
     "text": [
      "AttributeError: 'numpy.ndarray' object has no attribute 'city'\n"
     ]
    }
   ],
   "source": [
    "try:\n",
    "    y.city = \"Toulouse\"\n",
    "except AttributeError as e:\n",
    "    print('AttributeError:',e)"
   ]
  },
  {
   "cell_type": "code",
   "execution_count": 17,
   "id": "ded92814",
   "metadata": {},
   "outputs": [
    {
     "name": "stdout",
     "output_type": "stream",
     "text": [
      "AttributeError: Cannot delete array shape\n"
     ]
    }
   ],
   "source": [
    "try:\n",
    "    del y.shape\n",
    "except AttributeError as e:\n",
    "    print('AttributeError:', e)"
   ]
  },
  {
   "cell_type": "code",
   "execution_count": 18,
   "id": "aae022e3",
   "metadata": {},
   "outputs": [
    {
     "data": {
      "text/plain": [
       "(10000,)"
      ]
     },
     "execution_count": 18,
     "metadata": {},
     "output_type": "execute_result"
    }
   ],
   "source": [
    "y.shape"
   ]
  },
  {
   "cell_type": "code",
   "execution_count": 19,
   "id": "9d64d85d",
   "metadata": {},
   "outputs": [],
   "source": [
    "y.shape = (10, 1000)"
   ]
  },
  {
   "cell_type": "code",
   "execution_count": 20,
   "id": "369cb4e3",
   "metadata": {},
   "outputs": [
    {
     "name": "stdout",
     "output_type": "stream",
     "text": [
      "ValueError: cannot reshape array of size 10000 into shape (3,3)\n"
     ]
    }
   ],
   "source": [
    "try:\n",
    "    y.shape = (3,3)\n",
    "except ValueError as e:\n",
    "    print('ValueError:',e)"
   ]
  },
  {
   "cell_type": "code",
   "execution_count": 21,
   "id": "34dd930c-e883-4101-96ad-f25d7f24be63",
   "metadata": {},
   "outputs": [
    {
     "name": "stdout",
     "output_type": "stream",
     "text": [
      "ValueError: The truth value of an array with more than one element is ambiguous. Use a.any() or a.all()\n"
     ]
    }
   ],
   "source": [
    "# ndarray has no truth value\n",
    "try:\n",
    "    bool(y)\n",
    "except ValueError as e:\n",
    "    print(\"ValueError:\", e)"
   ]
  },
  {
   "cell_type": "code",
   "execution_count": 22,
   "id": "8aba3b5d-6a45-4fb6-b6e6-22fd89976f8b",
   "metadata": {},
   "outputs": [
    {
     "data": {
      "text/plain": [
       "array([[0., 0., 0., ..., 0., 0., 0.],\n",
       "       [0., 0., 0., ..., 0., 0., 0.],\n",
       "       [0., 0., 0., ..., 0., 0., 0.],\n",
       "       ...,\n",
       "       [0., 0., 0., ..., 0., 0., 0.],\n",
       "       [0., 0., 0., ..., 0., 0., 0.],\n",
       "       [0., 0., 0., ..., 0., 0., 0.]], dtype=float32)"
      ]
     },
     "execution_count": 22,
     "metadata": {},
     "output_type": "execute_result"
    }
   ],
   "source": [
    "mat = np.zeros((100,100), dtype=np.float32)\n",
    "mat"
   ]
  },
  {
   "cell_type": "code",
   "execution_count": 23,
   "id": "33890b90-ff3f-479a-b420-78d7a0e524b0",
   "metadata": {},
   "outputs": [
    {
     "data": {
      "text/plain": [
       "array([[1, 1, 1, ..., 1, 1, 1],\n",
       "       [1, 1, 1, ..., 1, 1, 1],\n",
       "       [1, 1, 1, ..., 1, 1, 1],\n",
       "       ...,\n",
       "       [1, 1, 1, ..., 1, 1, 1],\n",
       "       [1, 1, 1, ..., 1, 1, 1],\n",
       "       [1, 1, 1, ..., 1, 1, 1]], dtype=uint8)"
      ]
     },
     "execution_count": 23,
     "metadata": {},
     "output_type": "execute_result"
    }
   ],
   "source": [
    "image = np.ones((100,100), dtype=np.uint8)\n",
    "image"
   ]
  },
  {
   "cell_type": "code",
   "execution_count": 24,
   "id": "45cd141c-ce9d-4ec6-998e-970310c0fc09",
   "metadata": {},
   "outputs": [
    {
     "data": {
      "text/plain": [
       "array([[129,   1,   1, ...,   1,   1,   1],\n",
       "       [  1,   1,   1, ...,   1,   1,   1],\n",
       "       [129,   1,   1, ...,   1,   1,   1],\n",
       "       ...,\n",
       "       [  1,   1,   1, ...,   1,   1,   1],\n",
       "       [129,   1,   1, ...,   1,   1,   1],\n",
       "       [  1,   1,   1, ...,   1,   1,   1]], dtype=uint8)"
      ]
     },
     "execution_count": 24,
     "metadata": {},
     "output_type": "execute_result"
    }
   ],
   "source": [
    "image[::2, ::4] = 129\n",
    "image"
   ]
  },
  {
   "cell_type": "code",
   "execution_count": 25,
   "id": "de0c70a2-c5af-4f62-932e-f65567d2b015",
   "metadata": {},
   "outputs": [
    {
     "data": {
      "text/plain": [
       "array([[ 13, 141, 141, ..., 141, 141, 141],\n",
       "       [141, 141, 141, ..., 141, 141, 141],\n",
       "       [ 13, 141, 141, ..., 141, 141, 141],\n",
       "       ...,\n",
       "       [141, 141, 141, ..., 141, 141, 141],\n",
       "       [ 13, 141, 141, ..., 141, 141, 141],\n",
       "       [141, 141, 141, ..., 141, 141, 141]], dtype=uint8)"
      ]
     },
     "execution_count": 25,
     "metadata": {},
     "output_type": "execute_result"
    }
   ],
   "source": [
    "image += 140\n",
    "image"
   ]
  },
  {
   "cell_type": "code",
   "execution_count": 26,
   "id": "c230c5f1-4e8a-4490-8346-734c3a82b184",
   "metadata": {},
   "outputs": [
    {
     "data": {
      "text/plain": [
       "array([[353, 481, 481, ..., 481, 481, 481],\n",
       "       [481, 481, 481, ..., 481, 481, 481],\n",
       "       [353, 481, 481, ..., 481, 481, 481],\n",
       "       ...,\n",
       "       [481, 481, 481, ..., 481, 481, 481],\n",
       "       [353, 481, 481, ..., 481, 481, 481],\n",
       "       [481, 481, 481, ..., 481, 481, 481]], dtype=uint16)"
      ]
     },
     "execution_count": 26,
     "metadata": {},
     "output_type": "execute_result"
    }
   ],
   "source": [
    "image + 340"
   ]
  },
  {
   "cell_type": "code",
   "execution_count": 27,
   "id": "440e3ce6-dc6d-4a8a-9808-9f1994be24d3",
   "metadata": {},
   "outputs": [],
   "source": [
    "image += 340"
   ]
  },
  {
   "cell_type": "code",
   "execution_count": 28,
   "id": "a29b6b78-43cb-47b2-88b0-7cc16f69ac9f",
   "metadata": {},
   "outputs": [
    {
     "data": {
      "text/plain": [
       "array([[ 97, 225, 225, ..., 225, 225, 225],\n",
       "       [225, 225, 225, ..., 225, 225, 225],\n",
       "       [ 97, 225, 225, ..., 225, 225, 225],\n",
       "       ...,\n",
       "       [225, 225, 225, ..., 225, 225, 225],\n",
       "       [ 97, 225, 225, ..., 225, 225, 225],\n",
       "       [225, 225, 225, ..., 225, 225, 225]], dtype=uint8)"
      ]
     },
     "execution_count": 28,
     "metadata": {},
     "output_type": "execute_result"
    }
   ],
   "source": [
    "image"
   ]
  },
  {
   "cell_type": "code",
   "execution_count": 29,
   "id": "e1b7ad48-9c45-4ff3-a7eb-cd77565e8cae",
   "metadata": {},
   "outputs": [
    {
     "data": {
      "text/plain": [
       "  C_CONTIGUOUS : True\n",
       "  F_CONTIGUOUS : False\n",
       "  OWNDATA : True\n",
       "  WRITEABLE : True\n",
       "  ALIGNED : True\n",
       "  WRITEBACKIFCOPY : False\n",
       "  UPDATEIFCOPY : False"
      ]
     },
     "execution_count": 29,
     "metadata": {},
     "output_type": "execute_result"
    }
   ],
   "source": [
    "image.flags"
   ]
  },
  {
   "cell_type": "code",
   "execution_count": 30,
   "id": "6ff1ed7e-76ea-40d4-95a3-3a68cde7687f",
   "metadata": {},
   "outputs": [
    {
     "data": {
      "text/plain": [
       "  C_CONTIGUOUS : False\n",
       "  F_CONTIGUOUS : True\n",
       "  OWNDATA : False\n",
       "  WRITEABLE : True\n",
       "  ALIGNED : True\n",
       "  WRITEBACKIFCOPY : False\n",
       "  UPDATEIFCOPY : False"
      ]
     },
     "execution_count": 30,
     "metadata": {},
     "output_type": "execute_result"
    }
   ],
   "source": [
    "image.T.flags"
   ]
  },
  {
   "cell_type": "code",
   "execution_count": 31,
   "id": "00d1f29b-3532-433e-9377-e5f576e55d62",
   "metadata": {},
   "outputs": [
    {
     "name": "stdout",
     "output_type": "stream",
     "text": [
      "33\n",
      "33\n"
     ]
    }
   ],
   "source": [
    "image.T[1,2]=33\n",
    "print(image.T[1,2])\n",
    "print(image[2,1])"
   ]
  },
  {
   "cell_type": "code",
   "execution_count": 32,
   "id": "7e903162-4bbb-41ce-8eb8-60be58d8cbb7",
   "metadata": {},
   "outputs": [
    {
     "data": {
      "text/plain": [
       "  C_CONTIGUOUS : False\n",
       "  F_CONTIGUOUS : False\n",
       "  OWNDATA : False\n",
       "  WRITEABLE : False\n",
       "  ALIGNED : True\n",
       "  WRITEBACKIFCOPY : False\n",
       "  UPDATEIFCOPY : False"
      ]
     },
     "execution_count": 32,
     "metadata": {},
     "output_type": "execute_result"
    }
   ],
   "source": [
    "d = image.diagonal()\n",
    "d.flags"
   ]
  },
  {
   "cell_type": "code",
   "execution_count": 33,
   "id": "b60c3871-97ea-4d46-bb98-a2ea2d2136b9",
   "metadata": {},
   "outputs": [
    {
     "name": "stdout",
     "output_type": "stream",
     "text": [
      "ValueError: assignment destination is read-only\n"
     ]
    }
   ],
   "source": [
    "try: \n",
    "    d[::2] = 44\n",
    "except ValueError as e:\n",
    "    print('ValueError:', e)"
   ]
  },
  {
   "cell_type": "code",
   "execution_count": 34,
   "id": "2bf66e9b-45df-4038-8afa-69d8da701375",
   "metadata": {},
   "outputs": [],
   "source": [
    "square = np.array(\n",
    "    [[2,7,6],\n",
    "    [9,5,1],\n",
    "    [4,3,8]])"
   ]
  },
  {
   "cell_type": "code",
   "execution_count": 35,
   "id": "67db9aaf-15c2-4973-bcdb-073ea5fdb1b6",
   "metadata": {},
   "outputs": [
    {
     "data": {
      "text/plain": [
       "dtype('int32')"
      ]
     },
     "execution_count": 35,
     "metadata": {},
     "output_type": "execute_result"
    }
   ],
   "source": [
    "square.dtype"
   ]
  },
  {
   "cell_type": "code",
   "execution_count": 36,
   "id": "d6a259b0-d016-4153-993f-f157f27ab623",
   "metadata": {},
   "outputs": [
    {
     "data": {
      "text/plain": [
       "28"
      ]
     },
     "execution_count": 36,
     "metadata": {},
     "output_type": "execute_result"
    }
   ],
   "source": [
    "sys.getsizeof(7)"
   ]
  },
  {
   "cell_type": "code",
   "execution_count": 37,
   "id": "a19b3525-b169-4361-8492-94650da707d9",
   "metadata": {},
   "outputs": [
    {
     "data": {
      "text/plain": [
       "array([[2, 7, 6],\n",
       "       [9, 5, 1],\n",
       "       [4, 3, 8]], dtype=uint8)"
      ]
     },
     "execution_count": 37,
     "metadata": {},
     "output_type": "execute_result"
    }
   ],
   "source": [
    "square = np.array(\n",
    "    [[2,7,6],\n",
    "    [9,5,1],\n",
    "    [4,3,8]],\n",
    "    dtype='uint8')\n",
    "square"
   ]
  },
  {
   "cell_type": "code",
   "execution_count": 38,
   "id": "feadf426-f7b6-497f-85e3-826640bd869f",
   "metadata": {},
   "outputs": [
    {
     "data": {
      "text/plain": [
       "45"
      ]
     },
     "execution_count": 38,
     "metadata": {},
     "output_type": "execute_result"
    }
   ],
   "source": [
    "np.sum(square)"
   ]
  },
  {
   "cell_type": "code",
   "execution_count": 39,
   "id": "bac9f5b7-49ae-49ba-9462-b2e5221c5d38",
   "metadata": {},
   "outputs": [
    {
     "data": {
      "text/plain": [
       "45"
      ]
     },
     "execution_count": 39,
     "metadata": {},
     "output_type": "execute_result"
    }
   ],
   "source": [
    "square.sum()"
   ]
  },
  {
   "cell_type": "code",
   "execution_count": 40,
   "id": "b0d0fe90-e4dc-401b-af85-328b53006ef8",
   "metadata": {},
   "outputs": [
    {
     "data": {
      "text/plain": [
       "array([[ 5, 10,  9],\n",
       "       [12,  8,  4],\n",
       "       [ 7,  6, 11]], dtype=uint8)"
      ]
     },
     "execution_count": 40,
     "metadata": {},
     "output_type": "execute_result"
    }
   ],
   "source": [
    "3 + square"
   ]
  },
  {
   "cell_type": "code",
   "execution_count": 41,
   "id": "0c955861-3fb5-484c-a6ca-6736f175747a",
   "metadata": {},
   "outputs": [
    {
     "data": {
      "text/plain": [
       "array([7, 6, 9, 8], dtype=uint8)"
      ]
     },
     "execution_count": 41,
     "metadata": {},
     "output_type": "execute_result"
    }
   ],
   "source": [
    "square[square>5]"
   ]
  },
  {
   "cell_type": "code",
   "execution_count": 42,
   "id": "f83769e1-23d4-44cf-aedd-172c48450670",
   "metadata": {},
   "outputs": [
    {
     "data": {
      "text/plain": [
       "array([[False,  True,  True],\n",
       "       [ True, False, False],\n",
       "       [False, False,  True]])"
      ]
     },
     "execution_count": 42,
     "metadata": {},
     "output_type": "execute_result"
    }
   ],
   "source": [
    "square>5"
   ]
  },
  {
   "cell_type": "code",
   "execution_count": 43,
   "id": "a962204e-e14e-434b-a39c-345420848e7c",
   "metadata": {},
   "outputs": [
    {
     "name": "stdout",
     "output_type": "stream",
     "text": [
      "[[2 7 6]\n",
      " [9 5 1]\n",
      " [4 3 8]]\n",
      "[[7]\n",
      " [3]]\n"
     ]
    }
   ],
   "source": [
    "print(square)\n",
    "extract = square[::2, 1::2]\n",
    "print(extract)"
   ]
  },
  {
   "cell_type": "code",
   "execution_count": 44,
   "id": "e58c255c-3295-4593-bdca-1e472bb887ad",
   "metadata": {},
   "outputs": [
    {
     "name": "stdout",
     "output_type": "stream",
     "text": [
      "[[2 7 6]\n",
      " [9 5 1]\n",
      " [4 3 8]]\n",
      "[[6 7 2]\n",
      " [1 5 9]\n",
      " [8 3 4]]\n"
     ]
    }
   ],
   "source": [
    "print(square)\n",
    "extract = square[::, ::-1]\n",
    "print(extract)"
   ]
  },
  {
   "cell_type": "code",
   "execution_count": 45,
   "id": "3ef2b1d8-5215-46a0-8d60-328e65be19cd",
   "metadata": {},
   "outputs": [
    {
     "name": "stdout",
     "output_type": "stream",
     "text": [
      "[[2 7 6]\n",
      " [9 5 1]\n",
      " [4 3 8]]\n",
      "[[6 7 2]\n",
      " [1 5 9]\n",
      " [8 3 4]]\n"
     ]
    }
   ],
   "source": [
    "print(square)\n",
    "extract = square[slice(None), slice(None,None,-1)]\n",
    "print(extract)"
   ]
  },
  {
   "cell_type": "code",
   "execution_count": 46,
   "id": "8176a6b6-aa56-46e5-a7a7-6aabf207d4f4",
   "metadata": {},
   "outputs": [
    {
     "data": {
      "text/plain": [
       "\u001b[1;31mInit signature:\u001b[0m \u001b[0mslice\u001b[0m\u001b[1;33m(\u001b[0m\u001b[0mself\u001b[0m\u001b[1;33m,\u001b[0m \u001b[1;33m/\u001b[0m\u001b[1;33m,\u001b[0m \u001b[1;33m*\u001b[0m\u001b[0margs\u001b[0m\u001b[1;33m,\u001b[0m \u001b[1;33m**\u001b[0m\u001b[0mkwargs\u001b[0m\u001b[1;33m)\u001b[0m\u001b[1;33m\u001b[0m\u001b[1;33m\u001b[0m\u001b[0m\n",
       "\u001b[1;31mDocstring:\u001b[0m     \n",
       "slice(stop)\n",
       "slice(start, stop[, step])\n",
       "\n",
       "Create a slice object.  This is used for extended slicing (e.g. a[0:10:2]).\n",
       "\u001b[1;31mType:\u001b[0m           type\n",
       "\u001b[1;31mSubclasses:\u001b[0m     \n"
      ]
     },
     "metadata": {},
     "output_type": "display_data"
    }
   ],
   "source": [
    "slice?"
   ]
  },
  {
   "cell_type": "code",
   "execution_count": 47,
   "id": "b202c59e-d793-4e7f-b2d7-87970e69277e",
   "metadata": {},
   "outputs": [
    {
     "data": {
      "text/plain": [
       "array([15, 15, 15], dtype=uint32)"
      ]
     },
     "execution_count": 47,
     "metadata": {},
     "output_type": "execute_result"
    }
   ],
   "source": [
    "square.sum(axis=0)"
   ]
  },
  {
   "cell_type": "code",
   "execution_count": 48,
   "id": "d3c643ae-7544-48d3-b5cc-76f3c6d55857",
   "metadata": {},
   "outputs": [],
   "source": [
    "squareKoRow = np.array(\n",
    "    [[2,3,6],\n",
    "    [9,5,1],\n",
    "    [4,7,8]])"
   ]
  },
  {
   "cell_type": "code",
   "execution_count": 49,
   "id": "57969f54-7adc-4395-940a-a7d0e5ea4840",
   "metadata": {},
   "outputs": [
    {
     "data": {
      "text/plain": [
       "array([15, 15, 15])"
      ]
     },
     "execution_count": 49,
     "metadata": {},
     "output_type": "execute_result"
    }
   ],
   "source": [
    "# sums on each column\n",
    "squareKoRow.sum(axis=0)"
   ]
  },
  {
   "cell_type": "code",
   "execution_count": 50,
   "id": "e219aedf-a071-44dc-b0a4-206ddf71d3ac",
   "metadata": {},
   "outputs": [
    {
     "data": {
      "text/plain": [
       "array([11, 15, 19])"
      ]
     },
     "execution_count": 50,
     "metadata": {},
     "output_type": "execute_result"
    }
   ],
   "source": [
    "# sums on each row\n",
    "squareKoRow.sum(axis=1)"
   ]
  },
  {
   "cell_type": "code",
   "execution_count": 51,
   "id": "30c0736c-a160-49e3-b784-b98bbe1ae540",
   "metadata": {},
   "outputs": [],
   "source": [
    "def isMagic(square):\n",
    "    n,_ = square.shape\n",
    "    sm = n*(n**2+1)//2\n",
    "    return all(np.sum(square, axis=0) == sm) \\\n",
    "            and all(np.sum(square, axis=1) == sm) \\\n",
    "            and (np.sum(square.diagonal()) == sm) \\\n",
    "            and (np.sum(square[::-1].diagonal()) == sm) "
   ]
  },
  {
   "cell_type": "code",
   "execution_count": 52,
   "id": "dba280e5-2bc3-45bd-b017-6f05956f546e",
   "metadata": {},
   "outputs": [],
   "source": [
    "assert 15.0 == 15"
   ]
  },
  {
   "cell_type": "code",
   "execution_count": 53,
   "id": "f800bc33-e1d4-4397-9e5d-1c1ff14d5d71",
   "metadata": {},
   "outputs": [],
   "source": [
    "assert isMagic(square)\n",
    "assert not isMagic(squareKoRow)"
   ]
  },
  {
   "cell_type": "code",
   "execution_count": 54,
   "id": "ac0e2cb8-d178-4029-9d71-65437b6c0974",
   "metadata": {},
   "outputs": [],
   "source": [
    "from carremagic_ex_np import d_ca"
   ]
  },
  {
   "cell_type": "code",
   "execution_count": 55,
   "id": "ae90ff1a-a699-4ef4-aaee-a4dc49a69b74",
   "metadata": {},
   "outputs": [
    {
     "data": {
      "text/plain": [
       "{'ca3': True,\n",
       " 'ca3_no_diag': False,\n",
       " 'ca3_no_lig': False,\n",
       " 'ca3_no_col': False,\n",
       " 'ca3_no_lig_diag': False,\n",
       " 'ca4_ok': True,\n",
       " 'albrecht_durer': True,\n",
       " 'josep_maria_subirachs': False,\n",
       " 'ca_5_semi_diabolik': True,\n",
       " 'benjamin_franklin': False,\n",
       " 'general_cazalas': True,\n",
       " 'willem_barink_8': True,\n",
       " 'willem_barink_12': True}"
      ]
     },
     "execution_count": 55,
     "metadata": {},
     "output_type": "execute_result"
    }
   ],
   "source": [
    "{ name: isMagic(square) for name,square in d_ca.items() }"
   ]
  },
  {
   "cell_type": "code",
   "execution_count": 56,
   "id": "d1a2fb4f-d644-446b-8c9b-7f769f85b0f0",
   "metadata": {},
   "outputs": [],
   "source": [
    "squareBF = d_ca['benjamin_franklin']"
   ]
  },
  {
   "cell_type": "code",
   "execution_count": 57,
   "id": "32f48472-cd7f-43de-897e-5727b68b575c",
   "metadata": {},
   "outputs": [
    {
     "name": "stdout",
     "output_type": "stream",
     "text": [
      "[260 260 260 260 260 260 260 260]\n",
      "[260 260 260 260 260 260 260 260]\n",
      "228\n",
      "292\n"
     ]
    }
   ],
   "source": [
    "print(squareBF.sum(axis=0))\n",
    "print(squareBF.sum(axis=1))\n",
    "print(squareBF.diagonal().sum())\n",
    "print(squareBF[::-1].diagonal().sum())"
   ]
  },
  {
   "cell_type": "code",
   "execution_count": 58,
   "id": "29fd0414-e24e-4126-a477-bf4855b7feea",
   "metadata": {},
   "outputs": [
    {
     "data": {
      "text/plain": [
       "260"
      ]
     },
     "execution_count": 58,
     "metadata": {},
     "output_type": "execute_result"
    }
   ],
   "source": [
    "n=8\n",
    "n*(n**2+1)//2"
   ]
  },
  {
   "cell_type": "code",
   "execution_count": 59,
   "id": "425874c6-eb28-44f3-aab1-507cc5b13e64",
   "metadata": {},
   "outputs": [
    {
     "name": "stdout",
     "output_type": "stream",
     "text": [
      "ValueError: The truth value of an array with more than one element is ambiguous. Use a.any() or a.all()\n"
     ]
    }
   ],
   "source": [
    "try:\n",
    "    squareBF[(squareBF < 10) or (squareBF>60)]\n",
    "except ValueError as e:\n",
    "    print('ValueError:', e)"
   ]
  },
  {
   "cell_type": "code",
   "execution_count": 60,
   "id": "400b6d84-25cb-412b-904c-a16d3cb697cb",
   "metadata": {},
   "outputs": [
    {
     "data": {
      "text/plain": [
       "array([61,  4,  3, 62,  5,  6,  7,  9,  8, 63,  2,  1, 64])"
      ]
     },
     "execution_count": 60,
     "metadata": {},
     "output_type": "execute_result"
    }
   ],
   "source": [
    "# use elementwise logical operator: & (and), | (or), ~ (not), ^ (xor) \n",
    "squareBF[(squareBF < 10) | (squareBF>60)]"
   ]
  },
  {
   "cell_type": "code",
   "execution_count": 61,
   "id": "e898421c-c07a-4207-95a5-cb17b9d76dd7",
   "metadata": {},
   "outputs": [
    {
     "data": {
      "text/plain": [
       "(array([0, 0, 1, 1, 2, 3, 4, 5, 5, 6, 6, 7, 7], dtype=int64),\n",
       " array([1, 2, 1, 2, 2, 1, 2, 0, 1, 1, 2, 1, 2], dtype=int64))"
      ]
     },
     "execution_count": 61,
     "metadata": {},
     "output_type": "execute_result"
    }
   ],
   "source": [
    "coords = np.where((squareBF < 10) | (squareBF>60))\n",
    "coords"
   ]
  },
  {
   "cell_type": "code",
   "execution_count": 62,
   "id": "2d021f10-ff3e-492d-8884-cb4a3f01317c",
   "metadata": {},
   "outputs": [
    {
     "name": "stdout",
     "output_type": "stream",
     "text": [
      "0 1 61\n",
      "0 2 4\n",
      "1 1 3\n",
      "1 2 62\n",
      "2 2 5\n",
      "3 1 6\n",
      "4 2 7\n",
      "5 0 9\n",
      "5 1 8\n",
      "6 1 63\n",
      "6 2 2\n",
      "7 1 1\n",
      "7 2 64\n"
     ]
    }
   ],
   "source": [
    "for row, col in zip(*coords):\n",
    "    print(row, col, squareBF[row,col])"
   ]
  },
  {
   "cell_type": "code",
   "execution_count": 63,
   "id": "a4012ee2-507f-4b1d-96c6-d74da610186a",
   "metadata": {},
   "outputs": [
    {
     "data": {
      "text/plain": [
       "array([[0, 1],\n",
       "       [0, 2],\n",
       "       [1, 1],\n",
       "       [1, 2],\n",
       "       [2, 2],\n",
       "       [3, 1],\n",
       "       [4, 2],\n",
       "       [5, 0],\n",
       "       [5, 1],\n",
       "       [6, 1],\n",
       "       [6, 2],\n",
       "       [7, 1],\n",
       "       [7, 2]], dtype=int64)"
      ]
     },
     "execution_count": 63,
     "metadata": {},
     "output_type": "execute_result"
    }
   ],
   "source": [
    "coords2 = np.argwhere((squareBF < 10) | (squareBF>60))\n",
    "coords2"
   ]
  },
  {
   "cell_type": "code",
   "execution_count": 64,
   "id": "f7bfc82e-8f29-4b97-8b66-0d8dccfb01bd",
   "metadata": {},
   "outputs": [
    {
     "name": "stdout",
     "output_type": "stream",
     "text": [
      "0 1 61\n",
      "0 2 4\n",
      "1 1 3\n",
      "1 2 62\n",
      "2 2 5\n",
      "3 1 6\n",
      "4 2 7\n",
      "5 0 9\n",
      "5 1 8\n",
      "6 1 63\n",
      "6 2 2\n",
      "7 1 1\n",
      "7 2 64\n"
     ]
    }
   ],
   "source": [
    "for row, col in coords2:\n",
    "    print(row, col, squareBF[row,col])"
   ]
  },
  {
   "cell_type": "code",
   "execution_count": 65,
   "id": "b9c108c7-4063-4dd9-bd15-199aaa851f97",
   "metadata": {},
   "outputs": [],
   "source": [
    "# IEEE754: inf, nan"
   ]
  },
  {
   "cell_type": "code",
   "execution_count": 66,
   "id": "9e51af67-886e-4b08-985d-958e8ca4ac80",
   "metadata": {},
   "outputs": [],
   "source": [
    "data = np.random.normal(10,3,(1000,1000))\n",
    "data[data < 4] = np.nan"
   ]
  },
  {
   "cell_type": "code",
   "execution_count": 67,
   "id": "e646e3a4-4b50-4ce0-8b45-3cfe85d342f1",
   "metadata": {},
   "outputs": [
    {
     "data": {
      "text/plain": [
       "True"
      ]
     },
     "execution_count": 67,
     "metadata": {},
     "output_type": "execute_result"
    }
   ],
   "source": [
    "np.any(np.isnan(data))"
   ]
  },
  {
   "cell_type": "code",
   "execution_count": 68,
   "id": "e0bd4ed1-f4ae-47a3-95c8-4fc1a389ee1b",
   "metadata": {},
   "outputs": [
    {
     "data": {
      "text/plain": [
       "nan"
      ]
     },
     "execution_count": 68,
     "metadata": {},
     "output_type": "execute_result"
    }
   ],
   "source": [
    "data.sum()"
   ]
  },
  {
   "cell_type": "code",
   "execution_count": 69,
   "id": "05f207ec-b480-467b-a4d3-8eee317dfec8",
   "metadata": {},
   "outputs": [
    {
     "data": {
      "text/plain": [
       "(nan, nan, nan)"
      ]
     },
     "execution_count": 69,
     "metadata": {},
     "output_type": "execute_result"
    }
   ],
   "source": [
    "np.mean(data), np.std(data), np.min(data)"
   ]
  },
  {
   "cell_type": "code",
   "execution_count": 70,
   "id": "a5e40dc3-7c29-4b8f-982b-706e58607516",
   "metadata": {},
   "outputs": [
    {
     "data": {
      "text/plain": [
       "(9933730.81621025, 10.16366337269063, 2.8238401449692816, 4.000008637278533)"
      ]
     },
     "execution_count": 70,
     "metadata": {},
     "output_type": "execute_result"
    }
   ],
   "source": [
    "np.nansum(data), np.nanmean(data), np.nanstd(data), np.nanmin(data)"
   ]
  },
  {
   "cell_type": "code",
   "execution_count": 71,
   "id": "428cbe44-217e-4a17-bd4a-623a9c362114",
   "metadata": {},
   "outputs": [
    {
     "data": {
      "text/plain": [
       "masked_array(\n",
       "  data=[[13.732646953334555, 11.100914355273803, 10.813699316180525, ...,\n",
       "         6.131466245075475, 11.082519756842427, 12.279875794342365],\n",
       "        [14.774737260179261, 11.222403485214093, 10.975368008834515, ...,\n",
       "         5.3143785701683655, 9.271211704630153, 8.620649111035881],\n",
       "        [9.599000417509885, 11.120844322875934, 7.948451537702776, ...,\n",
       "         7.8962797215937375, 11.478764456654106, 8.346450691236178],\n",
       "        ...,\n",
       "        [7.086044906020526, 16.535483987884252, 11.449903584713349, ...,\n",
       "         9.790609776853154, 5.5969836598430005, 7.897569259123743],\n",
       "        [14.762880381467077, 7.5324213777313185, 6.0148893111422215, ...,\n",
       "         13.257776470294047, 8.343312508694401, 13.160056750626861],\n",
       "        [11.009940051490386, 12.324220134366579, 10.9410243059904, ...,\n",
       "         11.839912224600354, 10.73183198256698, 8.150744291342322]],\n",
       "  mask=[[False, False, False, ..., False, False, False],\n",
       "        [False, False, False, ..., False, False, False],\n",
       "        [False, False, False, ..., False, False, False],\n",
       "        ...,\n",
       "        [False, False, False, ..., False, False, False],\n",
       "        [False, False, False, ..., False, False, False],\n",
       "        [False, False, False, ..., False, False, False]],\n",
       "  fill_value=1e+20)"
      ]
     },
     "execution_count": 71,
     "metadata": {},
     "output_type": "execute_result"
    }
   ],
   "source": [
    "dataM = np.ma.masked_invalid(data)\n",
    "dataM"
   ]
  },
  {
   "cell_type": "code",
   "execution_count": 72,
   "id": "a49c9984-12d9-4c0e-b296-bc17ea54c2f3",
   "metadata": {},
   "outputs": [
    {
     "data": {
      "text/plain": [
       "(10.16366337269063, 2.8238401449692816)"
      ]
     },
     "execution_count": 72,
     "metadata": {},
     "output_type": "execute_result"
    }
   ],
   "source": [
    "dataM.mean(), dataM.std()"
   ]
  },
  {
   "cell_type": "markdown",
   "id": "c65572a8-2707-4bdd-bcab-215ec7e7ab22",
   "metadata": {},
   "source": [
    "## Pandas"
   ]
  },
  {
   "cell_type": "code",
   "execution_count": 73,
   "id": "3a53cc29-1206-4d73-83d1-5c61eb691c6c",
   "metadata": {},
   "outputs": [
    {
     "data": {
      "text/html": [
       "<div>\n",
       "<style scoped>\n",
       "    .dataframe tbody tr th:only-of-type {\n",
       "        vertical-align: middle;\n",
       "    }\n",
       "\n",
       "    .dataframe tbody tr th {\n",
       "        vertical-align: top;\n",
       "    }\n",
       "\n",
       "    .dataframe thead th {\n",
       "        text-align: right;\n",
       "    }\n",
       "</style>\n",
       "<table border=\"1\" class=\"dataframe\">\n",
       "  <thead>\n",
       "    <tr style=\"text-align: right;\">\n",
       "      <th></th>\n",
       "      <th>data</th>\n",
       "      <th>id</th>\n",
       "      <th>humidite</th>\n",
       "      <th>direction_du_vecteur_de_vent_max</th>\n",
       "      <th>pluie_intensite_max</th>\n",
       "      <th>pression</th>\n",
       "      <th>direction_du_vecteur_vent_moyen</th>\n",
       "      <th>type_de_station</th>\n",
       "      <th>pluie</th>\n",
       "      <th>direction_du_vecteur_de_rafale_de_vent_max</th>\n",
       "      <th>force_moyenne_du_vecteur_vent</th>\n",
       "      <th>force_rafale_max</th>\n",
       "      <th>temperature</th>\n",
       "      <th>heure_de_paris</th>\n",
       "      <th>heure_utc</th>\n",
       "    </tr>\n",
       "  </thead>\n",
       "  <tbody>\n",
       "    <tr>\n",
       "      <th>0</th>\n",
       "      <td>0241288f826808220b386c00</td>\n",
       "      <td>1</td>\n",
       "      <td>77</td>\n",
       "      <td>12.0</td>\n",
       "      <td>0.0</td>\n",
       "      <td>98900.0</td>\n",
       "      <td>260</td>\n",
       "      <td>ISS</td>\n",
       "      <td>0.0</td>\n",
       "      <td>270.0</td>\n",
       "      <td>16.0</td>\n",
       "      <td>27.0</td>\n",
       "      <td>12.0</td>\n",
       "      <td>2021-02-01 17:45:00+01:00</td>\n",
       "      <td>2021-02-01 16:45:00+00:00</td>\n",
       "    </tr>\n",
       "    <tr>\n",
       "      <th>1</th>\n",
       "      <td>0241294f52a80811a0186000</td>\n",
       "      <td>1</td>\n",
       "      <td>85</td>\n",
       "      <td>12.0</td>\n",
       "      <td>0.0</td>\n",
       "      <td>90000.0</td>\n",
       "      <td>258</td>\n",
       "      <td>ISS</td>\n",
       "      <td>0.0</td>\n",
       "      <td>270.0</td>\n",
       "      <td>13.0</td>\n",
       "      <td>24.0</td>\n",
       "      <td>11.4</td>\n",
       "      <td>2021-02-01 19:15:00+01:00</td>\n",
       "      <td>2021-02-01 18:15:00+00:00</td>\n",
       "    </tr>\n",
       "    <tr>\n",
       "      <th>2</th>\n",
       "      <td>024129af5eb007c1c0147400</td>\n",
       "      <td>1</td>\n",
       "      <td>86</td>\n",
       "      <td>10.0</td>\n",
       "      <td>0.0</td>\n",
       "      <td>90000.0</td>\n",
       "      <td>248</td>\n",
       "      <td>ISS</td>\n",
       "      <td>0.0</td>\n",
       "      <td>225.0</td>\n",
       "      <td>14.0</td>\n",
       "      <td>29.0</td>\n",
       "      <td>11.7</td>\n",
       "      <td>2021-02-01 20:00:00+01:00</td>\n",
       "      <td>2021-02-01 19:00:00+00:00</td>\n",
       "    </tr>\n",
       "    <tr>\n",
       "      <th>3</th>\n",
       "      <td>02412aef42a800000b960800</td>\n",
       "      <td>1</td>\n",
       "      <td>85</td>\n",
       "      <td>11.0</td>\n",
       "      <td>0.0</td>\n",
       "      <td>99200.0</td>\n",
       "      <td>0</td>\n",
       "      <td>ISS</td>\n",
       "      <td>0.0</td>\n",
       "      <td>247.5</td>\n",
       "      <td>0.0</td>\n",
       "      <td>2.0</td>\n",
       "      <td>11.0</td>\n",
       "      <td>2021-02-01 22:30:00+01:00</td>\n",
       "      <td>2021-02-01 21:30:00+00:00</td>\n",
       "    </tr>\n",
       "    <tr>\n",
       "      <th>4</th>\n",
       "      <td>024222cf1aa807706b941400</td>\n",
       "      <td>1</td>\n",
       "      <td>85</td>\n",
       "      <td>10.0</td>\n",
       "      <td>0.0</td>\n",
       "      <td>99200.0</td>\n",
       "      <td>238</td>\n",
       "      <td>ISS</td>\n",
       "      <td>0.0</td>\n",
       "      <td>225.0</td>\n",
       "      <td>3.0</td>\n",
       "      <td>5.0</td>\n",
       "      <td>10.6</td>\n",
       "      <td>2021-02-02 06:15:00+01:00</td>\n",
       "      <td>2021-02-02 05:15:00+00:00</td>\n",
       "    </tr>\n",
       "  </tbody>\n",
       "</table>\n",
       "</div>"
      ],
      "text/plain": [
       "                       data  id  humidite  direction_du_vecteur_de_vent_max  \\\n",
       "0  0241288f826808220b386c00   1        77                              12.0   \n",
       "1  0241294f52a80811a0186000   1        85                              12.0   \n",
       "2  024129af5eb007c1c0147400   1        86                              10.0   \n",
       "3  02412aef42a800000b960800   1        85                              11.0   \n",
       "4  024222cf1aa807706b941400   1        85                              10.0   \n",
       "\n",
       "   pluie_intensite_max  pression  direction_du_vecteur_vent_moyen  \\\n",
       "0                  0.0   98900.0                              260   \n",
       "1                  0.0   90000.0                              258   \n",
       "2                  0.0   90000.0                              248   \n",
       "3                  0.0   99200.0                                0   \n",
       "4                  0.0   99200.0                              238   \n",
       "\n",
       "  type_de_station  pluie  direction_du_vecteur_de_rafale_de_vent_max  \\\n",
       "0             ISS    0.0                                       270.0   \n",
       "1             ISS    0.0                                       270.0   \n",
       "2             ISS    0.0                                       225.0   \n",
       "3             ISS    0.0                                       247.5   \n",
       "4             ISS    0.0                                       225.0   \n",
       "\n",
       "   force_moyenne_du_vecteur_vent  force_rafale_max  temperature  \\\n",
       "0                           16.0              27.0         12.0   \n",
       "1                           13.0              24.0         11.4   \n",
       "2                           14.0              29.0         11.7   \n",
       "3                            0.0               2.0         11.0   \n",
       "4                            3.0               5.0         10.6   \n",
       "\n",
       "              heure_de_paris                 heure_utc  \n",
       "0  2021-02-01 17:45:00+01:00 2021-02-01 16:45:00+00:00  \n",
       "1  2021-02-01 19:15:00+01:00 2021-02-01 18:15:00+00:00  \n",
       "2  2021-02-01 20:00:00+01:00 2021-02-01 19:00:00+00:00  \n",
       "3  2021-02-01 22:30:00+01:00 2021-02-01 21:30:00+00:00  \n",
       "4  2021-02-02 06:15:00+01:00 2021-02-02 05:15:00+00:00  "
      ]
     },
     "execution_count": 73,
     "metadata": {},
     "output_type": "execute_result"
    }
   ],
   "source": [
    "dfMeteo = pd.read_csv('data/01-station-meteo-toulouse-meteopole.csv', \n",
    "                      sep=';', parse_dates=['heure_de_paris','heure_utc'])\n",
    "dfMeteo.head(5)"
   ]
  },
  {
   "cell_type": "code",
   "execution_count": 74,
   "id": "f2327a4f-4837-4172-ac98-8795927380c1",
   "metadata": {},
   "outputs": [
    {
     "name": "stdout",
     "output_type": "stream",
     "text": [
      "<class 'pandas.core.frame.DataFrame'>\n",
      "RangeIndex: 121769 entries, 0 to 121768\n",
      "Data columns (total 15 columns):\n",
      " #   Column                                      Non-Null Count   Dtype              \n",
      "---  ------                                      --------------   -----              \n",
      " 0   data                                        121769 non-null  object             \n",
      " 1   id                                          121769 non-null  int64              \n",
      " 2   humidite                                    121769 non-null  int64              \n",
      " 3   direction_du_vecteur_de_vent_max            121766 non-null  float64            \n",
      " 4   pluie_intensite_max                         121764 non-null  float64            \n",
      " 5   pression                                    121766 non-null  float64            \n",
      " 6   direction_du_vecteur_vent_moyen             121769 non-null  int64              \n",
      " 7   type_de_station                             121764 non-null  object             \n",
      " 8   pluie                                       121769 non-null  float64            \n",
      " 9   direction_du_vecteur_de_rafale_de_vent_max  121766 non-null  float64            \n",
      " 10  force_moyenne_du_vecteur_vent               121766 non-null  float64            \n",
      " 11  force_rafale_max                            121766 non-null  float64            \n",
      " 12  temperature                                 121769 non-null  float64            \n",
      " 13  heure_de_paris                              121764 non-null  object             \n",
      " 14  heure_utc                                   121764 non-null  datetime64[ns, UTC]\n",
      "dtypes: datetime64[ns, UTC](1), float64(8), int64(3), object(3)\n",
      "memory usage: 13.9+ MB\n"
     ]
    }
   ],
   "source": [
    "dfMeteo.info()"
   ]
  },
  {
   "cell_type": "code",
   "execution_count": 75,
   "id": "a270b5a1-e2ea-4a25-96db-3e30782f6661",
   "metadata": {},
   "outputs": [
    {
     "data": {
      "text/html": [
       "<div>\n",
       "<style scoped>\n",
       "    .dataframe tbody tr th:only-of-type {\n",
       "        vertical-align: middle;\n",
       "    }\n",
       "\n",
       "    .dataframe tbody tr th {\n",
       "        vertical-align: top;\n",
       "    }\n",
       "\n",
       "    .dataframe thead th {\n",
       "        text-align: right;\n",
       "    }\n",
       "</style>\n",
       "<table border=\"1\" class=\"dataframe\">\n",
       "  <thead>\n",
       "    <tr style=\"text-align: right;\">\n",
       "      <th></th>\n",
       "      <th>data</th>\n",
       "      <th>id</th>\n",
       "      <th>humidite</th>\n",
       "      <th>direction_du_vecteur_de_vent_max</th>\n",
       "      <th>pluie_intensite_max</th>\n",
       "      <th>pression</th>\n",
       "      <th>direction_du_vecteur_vent_moyen</th>\n",
       "      <th>type_de_station</th>\n",
       "      <th>pluie</th>\n",
       "      <th>direction_du_vecteur_de_rafale_de_vent_max</th>\n",
       "      <th>force_moyenne_du_vecteur_vent</th>\n",
       "      <th>force_rafale_max</th>\n",
       "      <th>temperature</th>\n",
       "      <th>heure_de_paris</th>\n",
       "      <th>heure_utc</th>\n",
       "    </tr>\n",
       "  </thead>\n",
       "  <tbody>\n",
       "    <tr>\n",
       "      <th>63673</th>\n",
       "      <td>01400000000000</td>\n",
       "      <td>0</td>\n",
       "      <td>0</td>\n",
       "      <td>NaN</td>\n",
       "      <td>NaN</td>\n",
       "      <td>NaN</td>\n",
       "      <td>0</td>\n",
       "      <td>NaN</td>\n",
       "      <td>0.0</td>\n",
       "      <td>NaN</td>\n",
       "      <td>NaN</td>\n",
       "      <td>NaN</td>\n",
       "      <td>-50.0</td>\n",
       "      <td>NaN</td>\n",
       "      <td>NaT</td>\n",
       "    </tr>\n",
       "    <tr>\n",
       "      <th>82370</th>\n",
       "      <td>03200000000000</td>\n",
       "      <td>1</td>\n",
       "      <td>0</td>\n",
       "      <td>NaN</td>\n",
       "      <td>NaN</td>\n",
       "      <td>NaN</td>\n",
       "      <td>0</td>\n",
       "      <td>NaN</td>\n",
       "      <td>0.0</td>\n",
       "      <td>NaN</td>\n",
       "      <td>NaN</td>\n",
       "      <td>NaN</td>\n",
       "      <td>-50.0</td>\n",
       "      <td>NaN</td>\n",
       "      <td>NaT</td>\n",
       "    </tr>\n",
       "    <tr>\n",
       "      <th>97764</th>\n",
       "      <td>03000000000000</td>\n",
       "      <td>1</td>\n",
       "      <td>0</td>\n",
       "      <td>NaN</td>\n",
       "      <td>NaN</td>\n",
       "      <td>NaN</td>\n",
       "      <td>0</td>\n",
       "      <td>NaN</td>\n",
       "      <td>0.0</td>\n",
       "      <td>NaN</td>\n",
       "      <td>NaN</td>\n",
       "      <td>NaN</td>\n",
       "      <td>-50.0</td>\n",
       "      <td>NaN</td>\n",
       "      <td>NaT</td>\n",
       "    </tr>\n",
       "  </tbody>\n",
       "</table>\n",
       "</div>"
      ],
      "text/plain": [
       "                 data  id  humidite  direction_du_vecteur_de_vent_max  \\\n",
       "63673  01400000000000   0         0                               NaN   \n",
       "82370  03200000000000   1         0                               NaN   \n",
       "97764  03000000000000   1         0                               NaN   \n",
       "\n",
       "       pluie_intensite_max  pression  direction_du_vecteur_vent_moyen  \\\n",
       "63673                  NaN       NaN                                0   \n",
       "82370                  NaN       NaN                                0   \n",
       "97764                  NaN       NaN                                0   \n",
       "\n",
       "      type_de_station  pluie  direction_du_vecteur_de_rafale_de_vent_max  \\\n",
       "63673             NaN    0.0                                         NaN   \n",
       "82370             NaN    0.0                                         NaN   \n",
       "97764             NaN    0.0                                         NaN   \n",
       "\n",
       "       force_moyenne_du_vecteur_vent  force_rafale_max  temperature  \\\n",
       "63673                            NaN               NaN        -50.0   \n",
       "82370                            NaN               NaN        -50.0   \n",
       "97764                            NaN               NaN        -50.0   \n",
       "\n",
       "      heure_de_paris heure_utc  \n",
       "63673            NaN       NaT  \n",
       "82370            NaN       NaT  \n",
       "97764            NaN       NaT  "
      ]
     },
     "execution_count": 75,
     "metadata": {},
     "output_type": "execute_result"
    }
   ],
   "source": [
    "dfMeteo.loc[dfMeteo.pression.isna()]"
   ]
  },
  {
   "cell_type": "code",
   "execution_count": 76,
   "id": "12008697-02ca-4376-bc02-220e830e55bf",
   "metadata": {},
   "outputs": [
    {
     "data": {
      "text/html": [
       "<div>\n",
       "<style scoped>\n",
       "    .dataframe tbody tr th:only-of-type {\n",
       "        vertical-align: middle;\n",
       "    }\n",
       "\n",
       "    .dataframe tbody tr th {\n",
       "        vertical-align: top;\n",
       "    }\n",
       "\n",
       "    .dataframe thead th {\n",
       "        text-align: right;\n",
       "    }\n",
       "</style>\n",
       "<table border=\"1\" class=\"dataframe\">\n",
       "  <thead>\n",
       "    <tr style=\"text-align: right;\">\n",
       "      <th></th>\n",
       "      <th>data</th>\n",
       "      <th>id</th>\n",
       "      <th>humidite</th>\n",
       "    </tr>\n",
       "  </thead>\n",
       "  <tbody>\n",
       "    <tr>\n",
       "      <th>0</th>\n",
       "      <td>0241288f826808220b386c00</td>\n",
       "      <td>1</td>\n",
       "      <td>77</td>\n",
       "    </tr>\n",
       "    <tr>\n",
       "      <th>1</th>\n",
       "      <td>0241294f52a80811a0186000</td>\n",
       "      <td>1</td>\n",
       "      <td>85</td>\n",
       "    </tr>\n",
       "    <tr>\n",
       "      <th>2</th>\n",
       "      <td>024129af5eb007c1c0147400</td>\n",
       "      <td>1</td>\n",
       "      <td>86</td>\n",
       "    </tr>\n",
       "  </tbody>\n",
       "</table>\n",
       "</div>"
      ],
      "text/plain": [
       "                       data  id  humidite\n",
       "0  0241288f826808220b386c00   1        77\n",
       "1  0241294f52a80811a0186000   1        85\n",
       "2  024129af5eb007c1c0147400   1        86"
      ]
     },
     "execution_count": 76,
     "metadata": {},
     "output_type": "execute_result"
    }
   ],
   "source": [
    "dfMeteo.iloc[:3,:3]"
   ]
  },
  {
   "cell_type": "code",
   "execution_count": 77,
   "id": "4a5c66c2-e270-476c-be90-18ab868f53a3",
   "metadata": {},
   "outputs": [
    {
     "data": {
      "text/plain": [
       "Timestamp('2021-02-01 16:45:00+0000', tz='UTC')"
      ]
     },
     "execution_count": 77,
     "metadata": {},
     "output_type": "execute_result"
    }
   ],
   "source": [
    "dfMeteo.heure_utc[0]"
   ]
  },
  {
   "cell_type": "code",
   "execution_count": 78,
   "id": "729ecb09-0de7-4d36-82ef-77b1d343e2a0",
   "metadata": {},
   "outputs": [
    {
     "data": {
      "text/plain": [
       "datetime.datetime(2021, 2, 1, 17, 45, tzinfo=tzoffset(None, 3600))"
      ]
     },
     "execution_count": 78,
     "metadata": {},
     "output_type": "execute_result"
    }
   ],
   "source": [
    "dfMeteo.heure_de_paris[0]"
   ]
  },
  {
   "cell_type": "code",
   "execution_count": 79,
   "id": "b654bf42-5adb-41e7-9ce3-98f5ea829cc9",
   "metadata": {},
   "outputs": [
    {
     "data": {
      "text/html": [
       "<div>\n",
       "<style scoped>\n",
       "    .dataframe tbody tr th:only-of-type {\n",
       "        vertical-align: middle;\n",
       "    }\n",
       "\n",
       "    .dataframe tbody tr th {\n",
       "        vertical-align: top;\n",
       "    }\n",
       "\n",
       "    .dataframe thead th {\n",
       "        text-align: right;\n",
       "    }\n",
       "</style>\n",
       "<table border=\"1\" class=\"dataframe\">\n",
       "  <thead>\n",
       "    <tr style=\"text-align: right;\">\n",
       "      <th></th>\n",
       "      <th>data</th>\n",
       "      <th>id</th>\n",
       "      <th>humidite</th>\n",
       "      <th>direction_du_vecteur_de_vent_max</th>\n",
       "      <th>pluie_intensite_max</th>\n",
       "      <th>pression</th>\n",
       "      <th>direction_du_vecteur_vent_moyen</th>\n",
       "      <th>type_de_station</th>\n",
       "      <th>pluie</th>\n",
       "      <th>direction_du_vecteur_de_rafale_de_vent_max</th>\n",
       "      <th>force_moyenne_du_vecteur_vent</th>\n",
       "      <th>force_rafale_max</th>\n",
       "      <th>temperature</th>\n",
       "      <th>heure_de_paris</th>\n",
       "      <th>heure_utc</th>\n",
       "    </tr>\n",
       "  </thead>\n",
       "  <tbody>\n",
       "    <tr>\n",
       "      <th>6146</th>\n",
       "      <td>02dc0673a5d80300ac384000</td>\n",
       "      <td>1</td>\n",
       "      <td>59</td>\n",
       "      <td>12.0</td>\n",
       "      <td>0.0</td>\n",
       "      <td>99700.0</td>\n",
       "      <td>96</td>\n",
       "      <td>ISS</td>\n",
       "      <td>0.0</td>\n",
       "      <td>270.0</td>\n",
       "      <td>5.0</td>\n",
       "      <td>16.0</td>\n",
       "      <td>28.9</td>\n",
       "      <td>2019-06-28 14:30:00+02:00</td>\n",
       "      <td>2019-06-28 12:30:00+00:00</td>\n",
       "    </tr>\n",
       "    <tr>\n",
       "      <th>6147</th>\n",
       "      <td>02da0ab3995000024c0a8000</td>\n",
       "      <td>1</td>\n",
       "      <td>42</td>\n",
       "      <td>5.0</td>\n",
       "      <td>0.0</td>\n",
       "      <td>99600.0</td>\n",
       "      <td>0</td>\n",
       "      <td>ISS</td>\n",
       "      <td>0.0</td>\n",
       "      <td>112.5</td>\n",
       "      <td>18.0</td>\n",
       "      <td>32.0</td>\n",
       "      <td>28.6</td>\n",
       "      <td>2019-06-26 23:00:00+02:00</td>\n",
       "      <td>2019-06-26 21:00:00+00:00</td>\n",
       "    </tr>\n",
       "    <tr>\n",
       "      <th>6148</th>\n",
       "      <td>02d80873855800020b8a7400</td>\n",
       "      <td>1</td>\n",
       "      <td>43</td>\n",
       "      <td>5.0</td>\n",
       "      <td>0.0</td>\n",
       "      <td>99200.0</td>\n",
       "      <td>0</td>\n",
       "      <td>ISS</td>\n",
       "      <td>0.0</td>\n",
       "      <td>112.5</td>\n",
       "      <td>16.0</td>\n",
       "      <td>29.0</td>\n",
       "      <td>28.1</td>\n",
       "      <td>2019-06-24 18:30:00+02:00</td>\n",
       "      <td>2019-06-24 16:30:00+00:00</td>\n",
       "    </tr>\n",
       "    <tr>\n",
       "      <th>6149</th>\n",
       "      <td>02d807738d6800020b887400</td>\n",
       "      <td>1</td>\n",
       "      <td>45</td>\n",
       "      <td>4.0</td>\n",
       "      <td>0.0</td>\n",
       "      <td>99200.0</td>\n",
       "      <td>0</td>\n",
       "      <td>ISS</td>\n",
       "      <td>0.0</td>\n",
       "      <td>90.0</td>\n",
       "      <td>16.0</td>\n",
       "      <td>29.0</td>\n",
       "      <td>28.3</td>\n",
       "      <td>2019-06-24 16:30:00+02:00</td>\n",
       "      <td>2019-06-24 14:30:00+00:00</td>\n",
       "    </tr>\n",
       "    <tr>\n",
       "      <th>6150</th>\n",
       "      <td>02d706539d9800018b886000</td>\n",
       "      <td>1</td>\n",
       "      <td>51</td>\n",
       "      <td>4.0</td>\n",
       "      <td>0.0</td>\n",
       "      <td>99200.0</td>\n",
       "      <td>0</td>\n",
       "      <td>ISS</td>\n",
       "      <td>0.0</td>\n",
       "      <td>90.0</td>\n",
       "      <td>12.0</td>\n",
       "      <td>24.0</td>\n",
       "      <td>28.7</td>\n",
       "      <td>2019-06-23 14:15:00+02:00</td>\n",
       "      <td>2019-06-23 12:15:00+00:00</td>\n",
       "    </tr>\n",
       "    <tr>\n",
       "      <th>...</th>\n",
       "      <td>...</td>\n",
       "      <td>...</td>\n",
       "      <td>...</td>\n",
       "      <td>...</td>\n",
       "      <td>...</td>\n",
       "      <td>...</td>\n",
       "      <td>...</td>\n",
       "      <td>...</td>\n",
       "      <td>...</td>\n",
       "      <td>...</td>\n",
       "      <td>...</td>\n",
       "      <td>...</td>\n",
       "      <td>...</td>\n",
       "      <td>...</td>\n",
       "      <td>...</td>\n",
       "    </tr>\n",
       "    <tr>\n",
       "      <th>72043</th>\n",
       "      <td>02d509708a600000ac783800</td>\n",
       "      <td>1</td>\n",
       "      <td>76</td>\n",
       "      <td>12.0</td>\n",
       "      <td>0.0</td>\n",
       "      <td>99900.0</td>\n",
       "      <td>0</td>\n",
       "      <td>ISS</td>\n",
       "      <td>0.0</td>\n",
       "      <td>270.0</td>\n",
       "      <td>5.0</td>\n",
       "      <td>14.0</td>\n",
       "      <td>16.2</td>\n",
       "      <td>2019-06-21 20:30:00+02:00</td>\n",
       "      <td>2019-06-21 18:30:00+00:00</td>\n",
       "    </tr>\n",
       "    <tr>\n",
       "      <th>72044</th>\n",
       "      <td>02d508f096980000ac562c00</td>\n",
       "      <td>1</td>\n",
       "      <td>83</td>\n",
       "      <td>11.0</td>\n",
       "      <td>0.0</td>\n",
       "      <td>99800.0</td>\n",
       "      <td>0</td>\n",
       "      <td>ISS</td>\n",
       "      <td>0.0</td>\n",
       "      <td>247.5</td>\n",
       "      <td>5.0</td>\n",
       "      <td>11.0</td>\n",
       "      <td>16.5</td>\n",
       "      <td>2019-06-21 19:30:00+02:00</td>\n",
       "      <td>2019-06-21 17:30:00+00:00</td>\n",
       "    </tr>\n",
       "    <tr>\n",
       "      <th>72045</th>\n",
       "      <td>02d508b09aa00000ac583400</td>\n",
       "      <td>1</td>\n",
       "      <td>84</td>\n",
       "      <td>12.0</td>\n",
       "      <td>0.0</td>\n",
       "      <td>99800.0</td>\n",
       "      <td>0</td>\n",
       "      <td>ISS</td>\n",
       "      <td>0.0</td>\n",
       "      <td>270.0</td>\n",
       "      <td>5.0</td>\n",
       "      <td>13.0</td>\n",
       "      <td>16.6</td>\n",
       "      <td>2019-06-21 19:00:00+02:00</td>\n",
       "      <td>2019-06-21 17:00:00+00:00</td>\n",
       "    </tr>\n",
       "    <tr>\n",
       "      <th>72046</th>\n",
       "      <td>02d50770a2a002d14c384000</td>\n",
       "      <td>1</td>\n",
       "      <td>84</td>\n",
       "      <td>12.0</td>\n",
       "      <td>0.0</td>\n",
       "      <td>99700.0</td>\n",
       "      <td>90</td>\n",
       "      <td>ISS</td>\n",
       "      <td>0.0</td>\n",
       "      <td>270.0</td>\n",
       "      <td>10.0</td>\n",
       "      <td>16.0</td>\n",
       "      <td>16.8</td>\n",
       "      <td>2019-06-21 16:30:00+02:00</td>\n",
       "      <td>2019-06-21 14:30:00+00:00</td>\n",
       "    </tr>\n",
       "    <tr>\n",
       "      <th>72047</th>\n",
       "      <td>02d50730a2a000012c584800</td>\n",
       "      <td>1</td>\n",
       "      <td>84</td>\n",
       "      <td>12.0</td>\n",
       "      <td>0.0</td>\n",
       "      <td>99800.0</td>\n",
       "      <td>0</td>\n",
       "      <td>ISS</td>\n",
       "      <td>0.0</td>\n",
       "      <td>270.0</td>\n",
       "      <td>9.0</td>\n",
       "      <td>18.0</td>\n",
       "      <td>16.8</td>\n",
       "      <td>2019-06-21 16:00:00+02:00</td>\n",
       "      <td>2019-06-21 14:00:00+00:00</td>\n",
       "    </tr>\n",
       "  </tbody>\n",
       "</table>\n",
       "<p>2885 rows × 15 columns</p>\n",
       "</div>"
      ],
      "text/plain": [
       "                           data  id  humidite  \\\n",
       "6146   02dc0673a5d80300ac384000   1        59   \n",
       "6147   02da0ab3995000024c0a8000   1        42   \n",
       "6148   02d80873855800020b8a7400   1        43   \n",
       "6149   02d807738d6800020b887400   1        45   \n",
       "6150   02d706539d9800018b886000   1        51   \n",
       "...                         ...  ..       ...   \n",
       "72043  02d509708a600000ac783800   1        76   \n",
       "72044  02d508f096980000ac562c00   1        83   \n",
       "72045  02d508b09aa00000ac583400   1        84   \n",
       "72046  02d50770a2a002d14c384000   1        84   \n",
       "72047  02d50730a2a000012c584800   1        84   \n",
       "\n",
       "       direction_du_vecteur_de_vent_max  pluie_intensite_max  pression  \\\n",
       "6146                               12.0                  0.0   99700.0   \n",
       "6147                                5.0                  0.0   99600.0   \n",
       "6148                                5.0                  0.0   99200.0   \n",
       "6149                                4.0                  0.0   99200.0   \n",
       "6150                                4.0                  0.0   99200.0   \n",
       "...                                 ...                  ...       ...   \n",
       "72043                              12.0                  0.0   99900.0   \n",
       "72044                              11.0                  0.0   99800.0   \n",
       "72045                              12.0                  0.0   99800.0   \n",
       "72046                              12.0                  0.0   99700.0   \n",
       "72047                              12.0                  0.0   99800.0   \n",
       "\n",
       "       direction_du_vecteur_vent_moyen type_de_station  pluie  \\\n",
       "6146                                96             ISS    0.0   \n",
       "6147                                 0             ISS    0.0   \n",
       "6148                                 0             ISS    0.0   \n",
       "6149                                 0             ISS    0.0   \n",
       "6150                                 0             ISS    0.0   \n",
       "...                                ...             ...    ...   \n",
       "72043                                0             ISS    0.0   \n",
       "72044                                0             ISS    0.0   \n",
       "72045                                0             ISS    0.0   \n",
       "72046                               90             ISS    0.0   \n",
       "72047                                0             ISS    0.0   \n",
       "\n",
       "       direction_du_vecteur_de_rafale_de_vent_max  \\\n",
       "6146                                        270.0   \n",
       "6147                                        112.5   \n",
       "6148                                        112.5   \n",
       "6149                                         90.0   \n",
       "6150                                         90.0   \n",
       "...                                           ...   \n",
       "72043                                       270.0   \n",
       "72044                                       247.5   \n",
       "72045                                       270.0   \n",
       "72046                                       270.0   \n",
       "72047                                       270.0   \n",
       "\n",
       "       force_moyenne_du_vecteur_vent  force_rafale_max  temperature  \\\n",
       "6146                             5.0              16.0         28.9   \n",
       "6147                            18.0              32.0         28.6   \n",
       "6148                            16.0              29.0         28.1   \n",
       "6149                            16.0              29.0         28.3   \n",
       "6150                            12.0              24.0         28.7   \n",
       "...                              ...               ...          ...   \n",
       "72043                            5.0              14.0         16.2   \n",
       "72044                            5.0              11.0         16.5   \n",
       "72045                            5.0              13.0         16.6   \n",
       "72046                           10.0              16.0         16.8   \n",
       "72047                            9.0              18.0         16.8   \n",
       "\n",
       "                  heure_de_paris                 heure_utc  \n",
       "6146   2019-06-28 14:30:00+02:00 2019-06-28 12:30:00+00:00  \n",
       "6147   2019-06-26 23:00:00+02:00 2019-06-26 21:00:00+00:00  \n",
       "6148   2019-06-24 18:30:00+02:00 2019-06-24 16:30:00+00:00  \n",
       "6149   2019-06-24 16:30:00+02:00 2019-06-24 14:30:00+00:00  \n",
       "6150   2019-06-23 14:15:00+02:00 2019-06-23 12:15:00+00:00  \n",
       "...                          ...                       ...  \n",
       "72043  2019-06-21 20:30:00+02:00 2019-06-21 18:30:00+00:00  \n",
       "72044  2019-06-21 19:30:00+02:00 2019-06-21 17:30:00+00:00  \n",
       "72045  2019-06-21 19:00:00+02:00 2019-06-21 17:00:00+00:00  \n",
       "72046  2019-06-21 16:30:00+02:00 2019-06-21 14:30:00+00:00  \n",
       "72047  2019-06-21 16:00:00+02:00 2019-06-21 14:00:00+00:00  \n",
       "\n",
       "[2885 rows x 15 columns]"
      ]
     },
     "execution_count": 79,
     "metadata": {},
     "output_type": "execute_result"
    }
   ],
   "source": [
    "dfMeteoJune2019 = dfMeteo[\n",
    "        (dfMeteo.heure_utc.dt.month == 6) \n",
    "    & (dfMeteo.heure_utc.dt.year == 2019)]\n",
    "dfMeteoJune2019"
   ]
  },
  {
   "cell_type": "code",
   "execution_count": 80,
   "id": "db4ec7e5-658f-414a-bac3-2ad01e057c03",
   "metadata": {},
   "outputs": [
    {
     "data": {
      "text/plain": [
       "<AxesSubplot:xlabel='heure_utc'>"
      ]
     },
     "execution_count": 80,
     "metadata": {},
     "output_type": "execute_result"
    },
    {
     "data": {
      "image/png": "[encoded data removed]",
      "text/plain": [
       "<Figure size 432x288 with 1 Axes>"
      ]
     },
     "metadata": {
      "needs_background": "light"
     },
     "output_type": "display_data"
    }
   ],
   "source": [
    "dfMeteoJune2019.set_index('heure_utc').temperature.plot()"
   ]
  },
  {
   "cell_type": "code",
   "execution_count": 81,
   "id": "0e1604f8-5abb-4873-929c-f0f76954d41f",
   "metadata": {},
   "outputs": [
    {
     "data": {
      "text/html": [
       "<div>\n",
       "<style scoped>\n",
       "    .dataframe tbody tr th:only-of-type {\n",
       "        vertical-align: middle;\n",
       "    }\n",
       "\n",
       "    .dataframe tbody tr th {\n",
       "        vertical-align: top;\n",
       "    }\n",
       "\n",
       "    .dataframe thead th {\n",
       "        text-align: right;\n",
       "    }\n",
       "</style>\n",
       "<table border=\"1\" class=\"dataframe\">\n",
       "  <thead>\n",
       "    <tr style=\"text-align: right;\">\n",
       "      <th></th>\n",
       "      <th>data</th>\n",
       "      <th>id</th>\n",
       "      <th>humidite</th>\n",
       "      <th>direction_du_vecteur_de_vent_max</th>\n",
       "      <th>pluie_intensite_max</th>\n",
       "      <th>pression</th>\n",
       "      <th>direction_du_vecteur_vent_moyen</th>\n",
       "      <th>type_de_station</th>\n",
       "      <th>pluie</th>\n",
       "      <th>direction_du_vecteur_de_rafale_de_vent_max</th>\n",
       "      <th>force_moyenne_du_vecteur_vent</th>\n",
       "      <th>force_rafale_max</th>\n",
       "      <th>temperature</th>\n",
       "      <th>heure_de_paris</th>\n",
       "    </tr>\n",
       "    <tr>\n",
       "      <th>heure_utc</th>\n",
       "      <th></th>\n",
       "      <th></th>\n",
       "      <th></th>\n",
       "      <th></th>\n",
       "      <th></th>\n",
       "      <th></th>\n",
       "      <th></th>\n",
       "      <th></th>\n",
       "      <th></th>\n",
       "      <th></th>\n",
       "      <th></th>\n",
       "      <th></th>\n",
       "      <th></th>\n",
       "      <th></th>\n",
       "    </tr>\n",
       "  </thead>\n",
       "  <tbody>\n",
       "    <tr>\n",
       "      <th>2021-02-01 16:45:00+00:00</th>\n",
       "      <td>0241288f826808220b386c00</td>\n",
       "      <td>1</td>\n",
       "      <td>77</td>\n",
       "      <td>12.0</td>\n",
       "      <td>0.0</td>\n",
       "      <td>98900.0</td>\n",
       "      <td>260</td>\n",
       "      <td>ISS</td>\n",
       "      <td>0.0</td>\n",
       "      <td>270.0</td>\n",
       "      <td>16.0</td>\n",
       "      <td>27.0</td>\n",
       "      <td>12.0</td>\n",
       "      <td>2021-02-01 17:45:00+01:00</td>\n",
       "    </tr>\n",
       "    <tr>\n",
       "      <th>2021-02-01 18:15:00+00:00</th>\n",
       "      <td>0241294f52a80811a0186000</td>\n",
       "      <td>1</td>\n",
       "      <td>85</td>\n",
       "      <td>12.0</td>\n",
       "      <td>0.0</td>\n",
       "      <td>90000.0</td>\n",
       "      <td>258</td>\n",
       "      <td>ISS</td>\n",
       "      <td>0.0</td>\n",
       "      <td>270.0</td>\n",
       "      <td>13.0</td>\n",
       "      <td>24.0</td>\n",
       "      <td>11.4</td>\n",
       "      <td>2021-02-01 19:15:00+01:00</td>\n",
       "    </tr>\n",
       "    <tr>\n",
       "      <th>2021-02-01 19:00:00+00:00</th>\n",
       "      <td>024129af5eb007c1c0147400</td>\n",
       "      <td>1</td>\n",
       "      <td>86</td>\n",
       "      <td>10.0</td>\n",
       "      <td>0.0</td>\n",
       "      <td>90000.0</td>\n",
       "      <td>248</td>\n",
       "      <td>ISS</td>\n",
       "      <td>0.0</td>\n",
       "      <td>225.0</td>\n",
       "      <td>14.0</td>\n",
       "      <td>29.0</td>\n",
       "      <td>11.7</td>\n",
       "      <td>2021-02-01 20:00:00+01:00</td>\n",
       "    </tr>\n",
       "    <tr>\n",
       "      <th>2021-02-01 21:30:00+00:00</th>\n",
       "      <td>02412aef42a800000b960800</td>\n",
       "      <td>1</td>\n",
       "      <td>85</td>\n",
       "      <td>11.0</td>\n",
       "      <td>0.0</td>\n",
       "      <td>99200.0</td>\n",
       "      <td>0</td>\n",
       "      <td>ISS</td>\n",
       "      <td>0.0</td>\n",
       "      <td>247.5</td>\n",
       "      <td>0.0</td>\n",
       "      <td>2.0</td>\n",
       "      <td>11.0</td>\n",
       "      <td>2021-02-01 22:30:00+01:00</td>\n",
       "    </tr>\n",
       "    <tr>\n",
       "      <th>2021-02-02 05:15:00+00:00</th>\n",
       "      <td>024222cf1aa807706b941400</td>\n",
       "      <td>1</td>\n",
       "      <td>85</td>\n",
       "      <td>10.0</td>\n",
       "      <td>0.0</td>\n",
       "      <td>99200.0</td>\n",
       "      <td>238</td>\n",
       "      <td>ISS</td>\n",
       "      <td>0.0</td>\n",
       "      <td>225.0</td>\n",
       "      <td>3.0</td>\n",
       "      <td>5.0</td>\n",
       "      <td>10.6</td>\n",
       "      <td>2021-02-02 06:15:00+01:00</td>\n",
       "    </tr>\n",
       "  </tbody>\n",
       "</table>\n",
       "</div>"
      ],
      "text/plain": [
       "                                               data  id  humidite  \\\n",
       "heure_utc                                                           \n",
       "2021-02-01 16:45:00+00:00  0241288f826808220b386c00   1        77   \n",
       "2021-02-01 18:15:00+00:00  0241294f52a80811a0186000   1        85   \n",
       "2021-02-01 19:00:00+00:00  024129af5eb007c1c0147400   1        86   \n",
       "2021-02-01 21:30:00+00:00  02412aef42a800000b960800   1        85   \n",
       "2021-02-02 05:15:00+00:00  024222cf1aa807706b941400   1        85   \n",
       "\n",
       "                           direction_du_vecteur_de_vent_max  \\\n",
       "heure_utc                                                     \n",
       "2021-02-01 16:45:00+00:00                              12.0   \n",
       "2021-02-01 18:15:00+00:00                              12.0   \n",
       "2021-02-01 19:00:00+00:00                              10.0   \n",
       "2021-02-01 21:30:00+00:00                              11.0   \n",
       "2021-02-02 05:15:00+00:00                              10.0   \n",
       "\n",
       "                           pluie_intensite_max  pression  \\\n",
       "heure_utc                                                  \n",
       "2021-02-01 16:45:00+00:00                  0.0   98900.0   \n",
       "2021-02-01 18:15:00+00:00                  0.0   90000.0   \n",
       "2021-02-01 19:00:00+00:00                  0.0   90000.0   \n",
       "2021-02-01 21:30:00+00:00                  0.0   99200.0   \n",
       "2021-02-02 05:15:00+00:00                  0.0   99200.0   \n",
       "\n",
       "                           direction_du_vecteur_vent_moyen type_de_station  \\\n",
       "heure_utc                                                                    \n",
       "2021-02-01 16:45:00+00:00                              260             ISS   \n",
       "2021-02-01 18:15:00+00:00                              258             ISS   \n",
       "2021-02-01 19:00:00+00:00                              248             ISS   \n",
       "2021-02-01 21:30:00+00:00                                0             ISS   \n",
       "2021-02-02 05:15:00+00:00                              238             ISS   \n",
       "\n",
       "                           pluie  direction_du_vecteur_de_rafale_de_vent_max  \\\n",
       "heure_utc                                                                      \n",
       "2021-02-01 16:45:00+00:00    0.0                                       270.0   \n",
       "2021-02-01 18:15:00+00:00    0.0                                       270.0   \n",
       "2021-02-01 19:00:00+00:00    0.0                                       225.0   \n",
       "2021-02-01 21:30:00+00:00    0.0                                       247.5   \n",
       "2021-02-02 05:15:00+00:00    0.0                                       225.0   \n",
       "\n",
       "                           force_moyenne_du_vecteur_vent  force_rafale_max  \\\n",
       "heure_utc                                                                    \n",
       "2021-02-01 16:45:00+00:00                           16.0              27.0   \n",
       "2021-02-01 18:15:00+00:00                           13.0              24.0   \n",
       "2021-02-01 19:00:00+00:00                           14.0              29.0   \n",
       "2021-02-01 21:30:00+00:00                            0.0               2.0   \n",
       "2021-02-02 05:15:00+00:00                            3.0               5.0   \n",
       "\n",
       "                           temperature             heure_de_paris  \n",
       "heure_utc                                                          \n",
       "2021-02-01 16:45:00+00:00         12.0  2021-02-01 17:45:00+01:00  \n",
       "2021-02-01 18:15:00+00:00         11.4  2021-02-01 19:15:00+01:00  \n",
       "2021-02-01 19:00:00+00:00         11.7  2021-02-01 20:00:00+01:00  \n",
       "2021-02-01 21:30:00+00:00         11.0  2021-02-01 22:30:00+01:00  \n",
       "2021-02-02 05:15:00+00:00         10.6  2021-02-02 06:15:00+01:00  "
      ]
     },
     "execution_count": 81,
     "metadata": {},
     "output_type": "execute_result"
    }
   ],
   "source": [
    "dfMeteo.set_index('heure_utc', inplace=True)\n",
    "dfMeteo.head()"
   ]
  },
  {
   "cell_type": "code",
   "execution_count": 82,
   "id": "227993e0-9205-44bc-b658-51e52ba44b02",
   "metadata": {},
   "outputs": [
    {
     "data": {
      "text/html": [
       "<div>\n",
       "<style scoped>\n",
       "    .dataframe tbody tr th:only-of-type {\n",
       "        vertical-align: middle;\n",
       "    }\n",
       "\n",
       "    .dataframe tbody tr th {\n",
       "        vertical-align: top;\n",
       "    }\n",
       "\n",
       "    .dataframe thead th {\n",
       "        text-align: right;\n",
       "    }\n",
       "</style>\n",
       "<table border=\"1\" class=\"dataframe\">\n",
       "  <thead>\n",
       "    <tr style=\"text-align: right;\">\n",
       "      <th></th>\n",
       "      <th>data</th>\n",
       "      <th>id</th>\n",
       "      <th>humidite</th>\n",
       "      <th>direction_du_vecteur_de_vent_max</th>\n",
       "      <th>pluie_intensite_max</th>\n",
       "      <th>pression</th>\n",
       "      <th>direction_du_vecteur_vent_moyen</th>\n",
       "      <th>type_de_station</th>\n",
       "      <th>pluie</th>\n",
       "      <th>direction_du_vecteur_de_rafale_de_vent_max</th>\n",
       "      <th>force_moyenne_du_vecteur_vent</th>\n",
       "      <th>force_rafale_max</th>\n",
       "      <th>temperature</th>\n",
       "      <th>heure_de_paris</th>\n",
       "    </tr>\n",
       "    <tr>\n",
       "      <th>heure_utc</th>\n",
       "      <th></th>\n",
       "      <th></th>\n",
       "      <th></th>\n",
       "      <th></th>\n",
       "      <th></th>\n",
       "      <th></th>\n",
       "      <th></th>\n",
       "      <th></th>\n",
       "      <th></th>\n",
       "      <th></th>\n",
       "      <th></th>\n",
       "      <th></th>\n",
       "      <th></th>\n",
       "      <th></th>\n",
       "    </tr>\n",
       "  </thead>\n",
       "  <tbody>\n",
       "    <tr>\n",
       "      <th>2019-05-01 06:15:00+00:00</th>\n",
       "      <td>02a1034ea6b800004e49e140</td>\n",
       "      <td>1</td>\n",
       "      <td>87</td>\n",
       "      <td>4.0</td>\n",
       "      <td>1.0</td>\n",
       "      <td>101400.0</td>\n",
       "      <td>0</td>\n",
       "      <td>ISS</td>\n",
       "      <td>0.0</td>\n",
       "      <td>90.0</td>\n",
       "      <td>2.0</td>\n",
       "      <td>160.0</td>\n",
       "      <td>8.9</td>\n",
       "      <td>2019-05-01 08:15:00+02:00</td>\n",
       "    </tr>\n",
       "    <tr>\n",
       "      <th>2019-05-01 06:30:00+00:00</th>\n",
       "      <td>02a1036ed2a800004e4ca140</td>\n",
       "      <td>1</td>\n",
       "      <td>85</td>\n",
       "      <td>6.0</td>\n",
       "      <td>1.0</td>\n",
       "      <td>101400.0</td>\n",
       "      <td>0</td>\n",
       "      <td>ISS</td>\n",
       "      <td>0.0</td>\n",
       "      <td>135.0</td>\n",
       "      <td>2.0</td>\n",
       "      <td>40.0</td>\n",
       "      <td>9.4</td>\n",
       "      <td>2019-05-01 08:30:00+02:00</td>\n",
       "    </tr>\n",
       "    <tr>\n",
       "      <th>2019-05-01 06:45:00+00:00</th>\n",
       "      <td>02a1038f0e9800002e4b4140</td>\n",
       "      <td>1</td>\n",
       "      <td>83</td>\n",
       "      <td>5.0</td>\n",
       "      <td>1.0</td>\n",
       "      <td>101400.0</td>\n",
       "      <td>0</td>\n",
       "      <td>ISS</td>\n",
       "      <td>0.0</td>\n",
       "      <td>112.5</td>\n",
       "      <td>1.0</td>\n",
       "      <td>80.0</td>\n",
       "      <td>10.3</td>\n",
       "      <td>2019-05-01 08:45:00+02:00</td>\n",
       "    </tr>\n",
       "    <tr>\n",
       "      <th>2019-05-01 07:00:00+00:00</th>\n",
       "      <td>02a103af468000302e4ca180</td>\n",
       "      <td>1</td>\n",
       "      <td>80</td>\n",
       "      <td>6.0</td>\n",
       "      <td>1.2</td>\n",
       "      <td>101400.0</td>\n",
       "      <td>6</td>\n",
       "      <td>ISS</td>\n",
       "      <td>0.0</td>\n",
       "      <td>135.0</td>\n",
       "      <td>1.0</td>\n",
       "      <td>40.0</td>\n",
       "      <td>11.1</td>\n",
       "      <td>2019-05-01 09:00:00+02:00</td>\n",
       "    </tr>\n",
       "    <tr>\n",
       "      <th>2019-05-01 07:15:00+00:00</th>\n",
       "      <td>02a103cf5e7001a04e4f8180</td>\n",
       "      <td>1</td>\n",
       "      <td>78</td>\n",
       "      <td>7.0</td>\n",
       "      <td>1.2</td>\n",
       "      <td>101400.0</td>\n",
       "      <td>52</td>\n",
       "      <td>ISS</td>\n",
       "      <td>0.0</td>\n",
       "      <td>157.5</td>\n",
       "      <td>2.0</td>\n",
       "      <td>112.0</td>\n",
       "      <td>11.7</td>\n",
       "      <td>2019-05-01 09:15:00+02:00</td>\n",
       "    </tr>\n",
       "  </tbody>\n",
       "</table>\n",
       "</div>"
      ],
      "text/plain": [
       "                                               data  id  humidite  \\\n",
       "heure_utc                                                           \n",
       "2019-05-01 06:15:00+00:00  02a1034ea6b800004e49e140   1        87   \n",
       "2019-05-01 06:30:00+00:00  02a1036ed2a800004e4ca140   1        85   \n",
       "2019-05-01 06:45:00+00:00  02a1038f0e9800002e4b4140   1        83   \n",
       "2019-05-01 07:00:00+00:00  02a103af468000302e4ca180   1        80   \n",
       "2019-05-01 07:15:00+00:00  02a103cf5e7001a04e4f8180   1        78   \n",
       "\n",
       "                           direction_du_vecteur_de_vent_max  \\\n",
       "heure_utc                                                     \n",
       "2019-05-01 06:15:00+00:00                               4.0   \n",
       "2019-05-01 06:30:00+00:00                               6.0   \n",
       "2019-05-01 06:45:00+00:00                               5.0   \n",
       "2019-05-01 07:00:00+00:00                               6.0   \n",
       "2019-05-01 07:15:00+00:00                               7.0   \n",
       "\n",
       "                           pluie_intensite_max  pression  \\\n",
       "heure_utc                                                  \n",
       "2019-05-01 06:15:00+00:00                  1.0  101400.0   \n",
       "2019-05-01 06:30:00+00:00                  1.0  101400.0   \n",
       "2019-05-01 06:45:00+00:00                  1.0  101400.0   \n",
       "2019-05-01 07:00:00+00:00                  1.2  101400.0   \n",
       "2019-05-01 07:15:00+00:00                  1.2  101400.0   \n",
       "\n",
       "                           direction_du_vecteur_vent_moyen type_de_station  \\\n",
       "heure_utc                                                                    \n",
       "2019-05-01 06:15:00+00:00                                0             ISS   \n",
       "2019-05-01 06:30:00+00:00                                0             ISS   \n",
       "2019-05-01 06:45:00+00:00                                0             ISS   \n",
       "2019-05-01 07:00:00+00:00                                6             ISS   \n",
       "2019-05-01 07:15:00+00:00                               52             ISS   \n",
       "\n",
       "                           pluie  direction_du_vecteur_de_rafale_de_vent_max  \\\n",
       "heure_utc                                                                      \n",
       "2019-05-01 06:15:00+00:00    0.0                                        90.0   \n",
       "2019-05-01 06:30:00+00:00    0.0                                       135.0   \n",
       "2019-05-01 06:45:00+00:00    0.0                                       112.5   \n",
       "2019-05-01 07:00:00+00:00    0.0                                       135.0   \n",
       "2019-05-01 07:15:00+00:00    0.0                                       157.5   \n",
       "\n",
       "                           force_moyenne_du_vecteur_vent  force_rafale_max  \\\n",
       "heure_utc                                                                    \n",
       "2019-05-01 06:15:00+00:00                            2.0             160.0   \n",
       "2019-05-01 06:30:00+00:00                            2.0              40.0   \n",
       "2019-05-01 06:45:00+00:00                            1.0              80.0   \n",
       "2019-05-01 07:00:00+00:00                            1.0              40.0   \n",
       "2019-05-01 07:15:00+00:00                            2.0             112.0   \n",
       "\n",
       "                           temperature             heure_de_paris  \n",
       "heure_utc                                                          \n",
       "2019-05-01 06:15:00+00:00          8.9  2019-05-01 08:15:00+02:00  \n",
       "2019-05-01 06:30:00+00:00          9.4  2019-05-01 08:30:00+02:00  \n",
       "2019-05-01 06:45:00+00:00         10.3  2019-05-01 08:45:00+02:00  \n",
       "2019-05-01 07:00:00+00:00         11.1  2019-05-01 09:00:00+02:00  \n",
       "2019-05-01 07:15:00+00:00         11.7  2019-05-01 09:15:00+02:00  "
      ]
     },
     "execution_count": 82,
     "metadata": {},
     "output_type": "execute_result"
    }
   ],
   "source": [
    "dfMeteo.sort_index(inplace=True)\n",
    "dfMeteo.head(5)"
   ]
  },
  {
   "cell_type": "code",
   "execution_count": 83,
   "id": "e7d5cecc-2538-4dc9-8caf-78a2ff0bf9ff",
   "metadata": {},
   "outputs": [
    {
     "data": {
      "text/html": [
       "<div>\n",
       "<style scoped>\n",
       "    .dataframe tbody tr th:only-of-type {\n",
       "        vertical-align: middle;\n",
       "    }\n",
       "\n",
       "    .dataframe tbody tr th {\n",
       "        vertical-align: top;\n",
       "    }\n",
       "\n",
       "    .dataframe thead th {\n",
       "        text-align: right;\n",
       "    }\n",
       "</style>\n",
       "<table border=\"1\" class=\"dataframe\">\n",
       "  <thead>\n",
       "    <tr style=\"text-align: right;\">\n",
       "      <th></th>\n",
       "      <th>data</th>\n",
       "      <th>id</th>\n",
       "      <th>humidite</th>\n",
       "      <th>direction_du_vecteur_de_vent_max</th>\n",
       "      <th>pluie_intensite_max</th>\n",
       "      <th>pression</th>\n",
       "      <th>direction_du_vecteur_vent_moyen</th>\n",
       "      <th>type_de_station</th>\n",
       "      <th>pluie</th>\n",
       "      <th>direction_du_vecteur_de_rafale_de_vent_max</th>\n",
       "      <th>force_moyenne_du_vecteur_vent</th>\n",
       "      <th>force_rafale_max</th>\n",
       "      <th>temperature</th>\n",
       "      <th>heure_de_paris</th>\n",
       "    </tr>\n",
       "    <tr>\n",
       "      <th>heure_utc</th>\n",
       "      <th></th>\n",
       "      <th></th>\n",
       "      <th></th>\n",
       "      <th></th>\n",
       "      <th></th>\n",
       "      <th></th>\n",
       "      <th></th>\n",
       "      <th></th>\n",
       "      <th></th>\n",
       "      <th></th>\n",
       "      <th></th>\n",
       "      <th></th>\n",
       "      <th></th>\n",
       "      <th></th>\n",
       "    </tr>\n",
       "  </thead>\n",
       "  <tbody>\n",
       "    <tr>\n",
       "      <th>2019-06-01 00:00:00+00:00</th>\n",
       "      <td>02c1003056a808702f0000c0</td>\n",
       "      <td>1</td>\n",
       "      <td>85</td>\n",
       "      <td>0.0</td>\n",
       "      <td>0.6</td>\n",
       "      <td>102000.0</td>\n",
       "      <td>270</td>\n",
       "      <td>ISS</td>\n",
       "      <td>0.0</td>\n",
       "      <td>0.0</td>\n",
       "      <td>1.0</td>\n",
       "      <td>0.0</td>\n",
       "      <td>15.5</td>\n",
       "      <td>2019-06-01 02:00:00+02:00</td>\n",
       "    </tr>\n",
       "    <tr>\n",
       "      <th>2019-06-01 00:15:00+00:00</th>\n",
       "      <td>02c1005052a800000ee00000</td>\n",
       "      <td>1</td>\n",
       "      <td>85</td>\n",
       "      <td>0.0</td>\n",
       "      <td>0.0</td>\n",
       "      <td>101900.0</td>\n",
       "      <td>0</td>\n",
       "      <td>ISS</td>\n",
       "      <td>0.0</td>\n",
       "      <td>0.0</td>\n",
       "      <td>0.0</td>\n",
       "      <td>0.0</td>\n",
       "      <td>15.4</td>\n",
       "      <td>2019-06-01 02:15:00+02:00</td>\n",
       "    </tr>\n",
       "    <tr>\n",
       "      <th>2019-06-01 00:30:00+00:00</th>\n",
       "      <td>02c100704ab004f00ee000c0</td>\n",
       "      <td>1</td>\n",
       "      <td>86</td>\n",
       "      <td>0.0</td>\n",
       "      <td>0.6</td>\n",
       "      <td>101900.0</td>\n",
       "      <td>158</td>\n",
       "      <td>ISS</td>\n",
       "      <td>0.0</td>\n",
       "      <td>0.0</td>\n",
       "      <td>0.0</td>\n",
       "      <td>0.0</td>\n",
       "      <td>15.2</td>\n",
       "      <td>2019-06-01 02:30:00+02:00</td>\n",
       "    </tr>\n",
       "    <tr>\n",
       "      <th>2019-06-01 00:45:00+00:00</th>\n",
       "      <td>02c1009042b000000ee00000</td>\n",
       "      <td>1</td>\n",
       "      <td>86</td>\n",
       "      <td>0.0</td>\n",
       "      <td>0.0</td>\n",
       "      <td>101900.0</td>\n",
       "      <td>0</td>\n",
       "      <td>ISS</td>\n",
       "      <td>0.0</td>\n",
       "      <td>0.0</td>\n",
       "      <td>0.0</td>\n",
       "      <td>0.0</td>\n",
       "      <td>15.0</td>\n",
       "      <td>2019-06-01 02:45:00+02:00</td>\n",
       "    </tr>\n",
       "    <tr>\n",
       "      <th>2019-06-01 01:00:00+00:00</th>\n",
       "      <td>02c100b026b000000ee00080</td>\n",
       "      <td>1</td>\n",
       "      <td>86</td>\n",
       "      <td>0.0</td>\n",
       "      <td>0.4</td>\n",
       "      <td>101900.0</td>\n",
       "      <td>0</td>\n",
       "      <td>ISS</td>\n",
       "      <td>0.0</td>\n",
       "      <td>0.0</td>\n",
       "      <td>0.0</td>\n",
       "      <td>0.0</td>\n",
       "      <td>14.9</td>\n",
       "      <td>2019-06-01 03:00:00+02:00</td>\n",
       "    </tr>\n",
       "    <tr>\n",
       "      <th>...</th>\n",
       "      <td>...</td>\n",
       "      <td>...</td>\n",
       "      <td>...</td>\n",
       "      <td>...</td>\n",
       "      <td>...</td>\n",
       "      <td>...</td>\n",
       "      <td>...</td>\n",
       "      <td>...</td>\n",
       "      <td>...</td>\n",
       "      <td>...</td>\n",
       "      <td>...</td>\n",
       "      <td>...</td>\n",
       "      <td>...</td>\n",
       "      <td>...</td>\n",
       "    </tr>\n",
       "    <tr>\n",
       "      <th>2019-06-30 22:45:00+00:00</th>\n",
       "      <td>02de0b925a7003110c384000</td>\n",
       "      <td>1</td>\n",
       "      <td>78</td>\n",
       "      <td>12.0</td>\n",
       "      <td>0.0</td>\n",
       "      <td>99700.0</td>\n",
       "      <td>98</td>\n",
       "      <td>ISS</td>\n",
       "      <td>0.0</td>\n",
       "      <td>270.0</td>\n",
       "      <td>8.0</td>\n",
       "      <td>16.0</td>\n",
       "      <td>23.6</td>\n",
       "      <td>2019-07-01 00:45:00+02:00</td>\n",
       "    </tr>\n",
       "    <tr>\n",
       "      <th>2019-06-30 23:00:00+00:00</th>\n",
       "      <td>02de0bb24e780390cc3e3800</td>\n",
       "      <td>1</td>\n",
       "      <td>79</td>\n",
       "      <td>15.0</td>\n",
       "      <td>0.0</td>\n",
       "      <td>99700.0</td>\n",
       "      <td>114</td>\n",
       "      <td>ISS</td>\n",
       "      <td>0.0</td>\n",
       "      <td>337.5</td>\n",
       "      <td>6.0</td>\n",
       "      <td>14.0</td>\n",
       "      <td>23.3</td>\n",
       "      <td>2019-07-01 01:00:00+02:00</td>\n",
       "    </tr>\n",
       "    <tr>\n",
       "      <th>2019-06-30 23:15:00+00:00</th>\n",
       "      <td>02de0bd246780390ac5a3400</td>\n",
       "      <td>1</td>\n",
       "      <td>79</td>\n",
       "      <td>13.0</td>\n",
       "      <td>0.0</td>\n",
       "      <td>99800.0</td>\n",
       "      <td>114</td>\n",
       "      <td>ISS</td>\n",
       "      <td>0.0</td>\n",
       "      <td>292.5</td>\n",
       "      <td>5.0</td>\n",
       "      <td>13.0</td>\n",
       "      <td>23.1</td>\n",
       "      <td>2019-07-01 01:15:00+02:00</td>\n",
       "    </tr>\n",
       "    <tr>\n",
       "      <th>2019-06-30 23:30:00+00:00</th>\n",
       "      <td>02de0bf21e8803208c582800</td>\n",
       "      <td>1</td>\n",
       "      <td>81</td>\n",
       "      <td>12.0</td>\n",
       "      <td>0.0</td>\n",
       "      <td>99800.0</td>\n",
       "      <td>100</td>\n",
       "      <td>ISS</td>\n",
       "      <td>0.0</td>\n",
       "      <td>270.0</td>\n",
       "      <td>4.0</td>\n",
       "      <td>10.0</td>\n",
       "      <td>22.7</td>\n",
       "      <td>2019-07-01 01:30:00+02:00</td>\n",
       "    </tr>\n",
       "    <tr>\n",
       "      <th>2019-06-30 23:45:00+00:00</th>\n",
       "      <td>02de0c12168802d08c582800</td>\n",
       "      <td>1</td>\n",
       "      <td>81</td>\n",
       "      <td>12.0</td>\n",
       "      <td>0.0</td>\n",
       "      <td>99800.0</td>\n",
       "      <td>90</td>\n",
       "      <td>ISS</td>\n",
       "      <td>0.0</td>\n",
       "      <td>270.0</td>\n",
       "      <td>4.0</td>\n",
       "      <td>10.0</td>\n",
       "      <td>22.5</td>\n",
       "      <td>2019-07-01 01:45:00+02:00</td>\n",
       "    </tr>\n",
       "  </tbody>\n",
       "</table>\n",
       "<p>2885 rows × 14 columns</p>\n",
       "</div>"
      ],
      "text/plain": [
       "                                               data  id  humidite  \\\n",
       "heure_utc                                                           \n",
       "2019-06-01 00:00:00+00:00  02c1003056a808702f0000c0   1        85   \n",
       "2019-06-01 00:15:00+00:00  02c1005052a800000ee00000   1        85   \n",
       "2019-06-01 00:30:00+00:00  02c100704ab004f00ee000c0   1        86   \n",
       "2019-06-01 00:45:00+00:00  02c1009042b000000ee00000   1        86   \n",
       "2019-06-01 01:00:00+00:00  02c100b026b000000ee00080   1        86   \n",
       "...                                             ...  ..       ...   \n",
       "2019-06-30 22:45:00+00:00  02de0b925a7003110c384000   1        78   \n",
       "2019-06-30 23:00:00+00:00  02de0bb24e780390cc3e3800   1        79   \n",
       "2019-06-30 23:15:00+00:00  02de0bd246780390ac5a3400   1        79   \n",
       "2019-06-30 23:30:00+00:00  02de0bf21e8803208c582800   1        81   \n",
       "2019-06-30 23:45:00+00:00  02de0c12168802d08c582800   1        81   \n",
       "\n",
       "                           direction_du_vecteur_de_vent_max  \\\n",
       "heure_utc                                                     \n",
       "2019-06-01 00:00:00+00:00                               0.0   \n",
       "2019-06-01 00:15:00+00:00                               0.0   \n",
       "2019-06-01 00:30:00+00:00                               0.0   \n",
       "2019-06-01 00:45:00+00:00                               0.0   \n",
       "2019-06-01 01:00:00+00:00                               0.0   \n",
       "...                                                     ...   \n",
       "2019-06-30 22:45:00+00:00                              12.0   \n",
       "2019-06-30 23:00:00+00:00                              15.0   \n",
       "2019-06-30 23:15:00+00:00                              13.0   \n",
       "2019-06-30 23:30:00+00:00                              12.0   \n",
       "2019-06-30 23:45:00+00:00                              12.0   \n",
       "\n",
       "                           pluie_intensite_max  pression  \\\n",
       "heure_utc                                                  \n",
       "2019-06-01 00:00:00+00:00                  0.6  102000.0   \n",
       "2019-06-01 00:15:00+00:00                  0.0  101900.0   \n",
       "2019-06-01 00:30:00+00:00                  0.6  101900.0   \n",
       "2019-06-01 00:45:00+00:00                  0.0  101900.0   \n",
       "2019-06-01 01:00:00+00:00                  0.4  101900.0   \n",
       "...                                        ...       ...   \n",
       "2019-06-30 22:45:00+00:00                  0.0   99700.0   \n",
       "2019-06-30 23:00:00+00:00                  0.0   99700.0   \n",
       "2019-06-30 23:15:00+00:00                  0.0   99800.0   \n",
       "2019-06-30 23:30:00+00:00                  0.0   99800.0   \n",
       "2019-06-30 23:45:00+00:00                  0.0   99800.0   \n",
       "\n",
       "                           direction_du_vecteur_vent_moyen type_de_station  \\\n",
       "heure_utc                                                                    \n",
       "2019-06-01 00:00:00+00:00                              270             ISS   \n",
       "2019-06-01 00:15:00+00:00                                0             ISS   \n",
       "2019-06-01 00:30:00+00:00                              158             ISS   \n",
       "2019-06-01 00:45:00+00:00                                0             ISS   \n",
       "2019-06-01 01:00:00+00:00                                0             ISS   \n",
       "...                                                    ...             ...   \n",
       "2019-06-30 22:45:00+00:00                               98             ISS   \n",
       "2019-06-30 23:00:00+00:00                              114             ISS   \n",
       "2019-06-30 23:15:00+00:00                              114             ISS   \n",
       "2019-06-30 23:30:00+00:00                              100             ISS   \n",
       "2019-06-30 23:45:00+00:00                               90             ISS   \n",
       "\n",
       "                           pluie  direction_du_vecteur_de_rafale_de_vent_max  \\\n",
       "heure_utc                                                                      \n",
       "2019-06-01 00:00:00+00:00    0.0                                         0.0   \n",
       "2019-06-01 00:15:00+00:00    0.0                                         0.0   \n",
       "2019-06-01 00:30:00+00:00    0.0                                         0.0   \n",
       "2019-06-01 00:45:00+00:00    0.0                                         0.0   \n",
       "2019-06-01 01:00:00+00:00    0.0                                         0.0   \n",
       "...                          ...                                         ...   \n",
       "2019-06-30 22:45:00+00:00    0.0                                       270.0   \n",
       "2019-06-30 23:00:00+00:00    0.0                                       337.5   \n",
       "2019-06-30 23:15:00+00:00    0.0                                       292.5   \n",
       "2019-06-30 23:30:00+00:00    0.0                                       270.0   \n",
       "2019-06-30 23:45:00+00:00    0.0                                       270.0   \n",
       "\n",
       "                           force_moyenne_du_vecteur_vent  force_rafale_max  \\\n",
       "heure_utc                                                                    \n",
       "2019-06-01 00:00:00+00:00                            1.0               0.0   \n",
       "2019-06-01 00:15:00+00:00                            0.0               0.0   \n",
       "2019-06-01 00:30:00+00:00                            0.0               0.0   \n",
       "2019-06-01 00:45:00+00:00                            0.0               0.0   \n",
       "2019-06-01 01:00:00+00:00                            0.0               0.0   \n",
       "...                                                  ...               ...   \n",
       "2019-06-30 22:45:00+00:00                            8.0              16.0   \n",
       "2019-06-30 23:00:00+00:00                            6.0              14.0   \n",
       "2019-06-30 23:15:00+00:00                            5.0              13.0   \n",
       "2019-06-30 23:30:00+00:00                            4.0              10.0   \n",
       "2019-06-30 23:45:00+00:00                            4.0              10.0   \n",
       "\n",
       "                           temperature             heure_de_paris  \n",
       "heure_utc                                                          \n",
       "2019-06-01 00:00:00+00:00         15.5  2019-06-01 02:00:00+02:00  \n",
       "2019-06-01 00:15:00+00:00         15.4  2019-06-01 02:15:00+02:00  \n",
       "2019-06-01 00:30:00+00:00         15.2  2019-06-01 02:30:00+02:00  \n",
       "2019-06-01 00:45:00+00:00         15.0  2019-06-01 02:45:00+02:00  \n",
       "2019-06-01 01:00:00+00:00         14.9  2019-06-01 03:00:00+02:00  \n",
       "...                                ...                        ...  \n",
       "2019-06-30 22:45:00+00:00         23.6  2019-07-01 00:45:00+02:00  \n",
       "2019-06-30 23:00:00+00:00         23.3  2019-07-01 01:00:00+02:00  \n",
       "2019-06-30 23:15:00+00:00         23.1  2019-07-01 01:15:00+02:00  \n",
       "2019-06-30 23:30:00+00:00         22.7  2019-07-01 01:30:00+02:00  \n",
       "2019-06-30 23:45:00+00:00         22.5  2019-07-01 01:45:00+02:00  \n",
       "\n",
       "[2885 rows x 14 columns]"
      ]
     },
     "execution_count": 83,
     "metadata": {},
     "output_type": "execute_result"
    }
   ],
   "source": [
    "dfMeteo.loc['2019-06']"
   ]
  },
  {
   "cell_type": "code",
   "execution_count": 84,
   "id": "3e60406e-85d2-4230-8ae2-6b7e2a376f8d",
   "metadata": {},
   "outputs": [
    {
     "data": {
      "text/plain": [
       "<AxesSubplot:xlabel='heure_utc'>"
      ]
     },
     "execution_count": 84,
     "metadata": {},
     "output_type": "execute_result"
    },
    {
     "data": {
      "image/png": "[encoded data removed]",
      "text/plain": [
       "<Figure size 432x288 with 1 Axes>"
      ]
     },
     "metadata": {
      "needs_background": "light"
     },
     "output_type": "display_data"
    }
   ],
   "source": [
    "dfMeteo.loc['2019-06-25':'2019-06-30', 'temperature'].plot()"
   ]
  },
  {
   "cell_type": "code",
   "execution_count": 85,
   "id": "ec601dcd-ba71-45b8-92a8-d1fab7f8f5f2",
   "metadata": {},
   "outputs": [
    {
     "data": {
      "text/plain": [
       "<AxesSubplot:xlabel='heure_utc'>"
      ]
     },
     "execution_count": 85,
     "metadata": {},
     "output_type": "execute_result"
    },
    {
     "data": {
      "image/png": "[encoded data removed]",
      "text/plain": [
       "<Figure size 432x288 with 1 Axes>"
      ]
     },
     "metadata": {
      "needs_background": "light"
     },
     "output_type": "display_data"
    }
   ],
   "source": [
    "dfMeteo.temperature.plot()"
   ]
  },
  {
   "cell_type": "code",
   "execution_count": 86,
   "id": "f30e2f44-f9ec-4c01-8f8c-17772f08f078",
   "metadata": {},
   "outputs": [
    {
     "data": {
      "text/plain": [
       "(-50.0, 70.0)"
      ]
     },
     "execution_count": 86,
     "metadata": {},
     "output_type": "execute_result"
    }
   ],
   "source": [
    "dfMeteo.temperature.min(), dfMeteo.temperature.max()"
   ]
  },
  {
   "cell_type": "code",
   "execution_count": 88,
   "id": "a5472e00-3912-4c86-bcb3-3872ef9397a0",
   "metadata": {},
   "outputs": [
    {
     "data": {
      "text/plain": [
       "<AxesSubplot:xlabel='heure_utc'>"
      ]
     },
     "execution_count": 88,
     "metadata": {},
     "output_type": "execute_result"
    },
    {
     "data": {
      "image/png": "[encoded data removed]",
      "text/plain": [
       "<Figure size 432x288 with 1 Axes>"
      ]
     },
     "metadata": {
      "needs_background": "light"
     },
     "output_type": "display_data"
    }
   ],
   "source": [
    "dfMeteo.loc[dfMeteo.temperature.between(-40, 50), 'temperature'].plot()"
   ]
  },
  {
   "cell_type": "code",
   "execution_count": 89,
   "id": "a64e3720-d9c3-43a6-87e7-761f46aef05b",
   "metadata": {},
   "outputs": [],
   "source": [
    "indexBad = dfMeteo.loc[~dfMeteo.temperature.between(-40, 50)].index\n",
    "dfMeteo.drop(index=indexBad, inplace=True)"
   ]
  },
  {
   "cell_type": "code",
   "execution_count": 90,
   "id": "e5af3019-4488-474a-9da2-37a7aba0ee0f",
   "metadata": {},
   "outputs": [
    {
     "data": {
      "text/plain": [
       "<AxesSubplot:xlabel='heure_utc'>"
      ]
     },
     "execution_count": 90,
     "metadata": {},
     "output_type": "execute_result"
    },
    {
     "data": {
      "image/png": "[encoded data removed]",
      "text/plain": [
       "<Figure size 432x288 with 1 Axes>"
      ]
     },
     "metadata": {
      "needs_background": "light"
     },
     "output_type": "display_data"
    }
   ],
   "source": [
    "dfMeteo.temperature.plot()"
   ]
  },
  {
   "cell_type": "code",
   "execution_count": 91,
   "id": "094b26dc-59e7-4813-ab82-c358ed33c7e2",
   "metadata": {},
   "outputs": [
    {
     "data": {
      "text/plain": [
       "90000.0"
      ]
     },
     "execution_count": 91,
     "metadata": {},
     "output_type": "execute_result"
    }
   ],
   "source": [
    "dfMeteo.pression.min()"
   ]
  },
  {
   "cell_type": "code",
   "execution_count": 92,
   "id": "d889e7a8-3335-4962-abd4-bac307fc7f73",
   "metadata": {},
   "outputs": [
    {
     "data": {
      "text/plain": [
       "90000.0"
      ]
     },
     "execution_count": 92,
     "metadata": {},
     "output_type": "execute_result"
    }
   ],
   "source": [
    "min(dfMeteo.pression)"
   ]
  },
  {
   "cell_type": "code",
   "execution_count": 93,
   "id": "1a757bae-8dcf-493e-94da-b1f5250671bc",
   "metadata": {},
   "outputs": [
    {
     "data": {
      "text/plain": [
       "90000.0"
      ]
     },
     "execution_count": 93,
     "metadata": {},
     "output_type": "execute_result"
    }
   ],
   "source": [
    "np.min(dfMeteo.pression)"
   ]
  },
  {
   "cell_type": "code",
   "execution_count": 94,
   "id": "4b8b0209-19e9-44ed-9c7a-b76464ec40dd",
   "metadata": {},
   "outputs": [
    {
     "data": {
      "text/html": [
       "<div>\n",
       "<style scoped>\n",
       "    .dataframe tbody tr th:only-of-type {\n",
       "        vertical-align: middle;\n",
       "    }\n",
       "\n",
       "    .dataframe tbody tr th {\n",
       "        vertical-align: top;\n",
       "    }\n",
       "\n",
       "    .dataframe thead th {\n",
       "        text-align: right;\n",
       "    }\n",
       "</style>\n",
       "<table border=\"1\" class=\"dataframe\">\n",
       "  <thead>\n",
       "    <tr style=\"text-align: right;\">\n",
       "      <th></th>\n",
       "      <th>data</th>\n",
       "      <th>id</th>\n",
       "      <th>humidite</th>\n",
       "      <th>direction_du_vecteur_de_vent_max</th>\n",
       "      <th>pluie_intensite_max</th>\n",
       "      <th>pression</th>\n",
       "      <th>direction_du_vecteur_vent_moyen</th>\n",
       "      <th>type_de_station</th>\n",
       "      <th>pluie</th>\n",
       "      <th>direction_du_vecteur_de_rafale_de_vent_max</th>\n",
       "      <th>force_moyenne_du_vecteur_vent</th>\n",
       "      <th>force_rafale_max</th>\n",
       "      <th>temperature</th>\n",
       "      <th>heure_de_paris</th>\n",
       "      <th>temperature_f</th>\n",
       "    </tr>\n",
       "    <tr>\n",
       "      <th>heure_utc</th>\n",
       "      <th></th>\n",
       "      <th></th>\n",
       "      <th></th>\n",
       "      <th></th>\n",
       "      <th></th>\n",
       "      <th></th>\n",
       "      <th></th>\n",
       "      <th></th>\n",
       "      <th></th>\n",
       "      <th></th>\n",
       "      <th></th>\n",
       "      <th></th>\n",
       "      <th></th>\n",
       "      <th></th>\n",
       "      <th></th>\n",
       "    </tr>\n",
       "  </thead>\n",
       "  <tbody>\n",
       "    <tr>\n",
       "      <th>2019-05-01 06:15:00+00:00</th>\n",
       "      <td>02a1034ea6b800004e49e140</td>\n",
       "      <td>1</td>\n",
       "      <td>87</td>\n",
       "      <td>4.0</td>\n",
       "      <td>1.0</td>\n",
       "      <td>101400.0</td>\n",
       "      <td>0</td>\n",
       "      <td>ISS</td>\n",
       "      <td>0.0</td>\n",
       "      <td>90.0</td>\n",
       "      <td>2.0</td>\n",
       "      <td>160.0</td>\n",
       "      <td>8.9</td>\n",
       "      <td>2019-05-01 08:15:00+02:00</td>\n",
       "      <td>48.02</td>\n",
       "    </tr>\n",
       "    <tr>\n",
       "      <th>2019-05-01 06:30:00+00:00</th>\n",
       "      <td>02a1036ed2a800004e4ca140</td>\n",
       "      <td>1</td>\n",
       "      <td>85</td>\n",
       "      <td>6.0</td>\n",
       "      <td>1.0</td>\n",
       "      <td>101400.0</td>\n",
       "      <td>0</td>\n",
       "      <td>ISS</td>\n",
       "      <td>0.0</td>\n",
       "      <td>135.0</td>\n",
       "      <td>2.0</td>\n",
       "      <td>40.0</td>\n",
       "      <td>9.4</td>\n",
       "      <td>2019-05-01 08:30:00+02:00</td>\n",
       "      <td>48.92</td>\n",
       "    </tr>\n",
       "    <tr>\n",
       "      <th>2019-05-01 06:45:00+00:00</th>\n",
       "      <td>02a1038f0e9800002e4b4140</td>\n",
       "      <td>1</td>\n",
       "      <td>83</td>\n",
       "      <td>5.0</td>\n",
       "      <td>1.0</td>\n",
       "      <td>101400.0</td>\n",
       "      <td>0</td>\n",
       "      <td>ISS</td>\n",
       "      <td>0.0</td>\n",
       "      <td>112.5</td>\n",
       "      <td>1.0</td>\n",
       "      <td>80.0</td>\n",
       "      <td>10.3</td>\n",
       "      <td>2019-05-01 08:45:00+02:00</td>\n",
       "      <td>50.54</td>\n",
       "    </tr>\n",
       "    <tr>\n",
       "      <th>2019-05-01 07:00:00+00:00</th>\n",
       "      <td>02a103af468000302e4ca180</td>\n",
       "      <td>1</td>\n",
       "      <td>80</td>\n",
       "      <td>6.0</td>\n",
       "      <td>1.2</td>\n",
       "      <td>101400.0</td>\n",
       "      <td>6</td>\n",
       "      <td>ISS</td>\n",
       "      <td>0.0</td>\n",
       "      <td>135.0</td>\n",
       "      <td>1.0</td>\n",
       "      <td>40.0</td>\n",
       "      <td>11.1</td>\n",
       "      <td>2019-05-01 09:00:00+02:00</td>\n",
       "      <td>51.98</td>\n",
       "    </tr>\n",
       "    <tr>\n",
       "      <th>2019-05-01 07:15:00+00:00</th>\n",
       "      <td>02a103cf5e7001a04e4f8180</td>\n",
       "      <td>1</td>\n",
       "      <td>78</td>\n",
       "      <td>7.0</td>\n",
       "      <td>1.2</td>\n",
       "      <td>101400.0</td>\n",
       "      <td>52</td>\n",
       "      <td>ISS</td>\n",
       "      <td>0.0</td>\n",
       "      <td>157.5</td>\n",
       "      <td>2.0</td>\n",
       "      <td>112.0</td>\n",
       "      <td>11.7</td>\n",
       "      <td>2019-05-01 09:15:00+02:00</td>\n",
       "      <td>53.06</td>\n",
       "    </tr>\n",
       "  </tbody>\n",
       "</table>\n",
       "</div>"
      ],
      "text/plain": [
       "                                               data  id  humidite  \\\n",
       "heure_utc                                                           \n",
       "2019-05-01 06:15:00+00:00  02a1034ea6b800004e49e140   1        87   \n",
       "2019-05-01 06:30:00+00:00  02a1036ed2a800004e4ca140   1        85   \n",
       "2019-05-01 06:45:00+00:00  02a1038f0e9800002e4b4140   1        83   \n",
       "2019-05-01 07:00:00+00:00  02a103af468000302e4ca180   1        80   \n",
       "2019-05-01 07:15:00+00:00  02a103cf5e7001a04e4f8180   1        78   \n",
       "\n",
       "                           direction_du_vecteur_de_vent_max  \\\n",
       "heure_utc                                                     \n",
       "2019-05-01 06:15:00+00:00                               4.0   \n",
       "2019-05-01 06:30:00+00:00                               6.0   \n",
       "2019-05-01 06:45:00+00:00                               5.0   \n",
       "2019-05-01 07:00:00+00:00                               6.0   \n",
       "2019-05-01 07:15:00+00:00                               7.0   \n",
       "\n",
       "                           pluie_intensite_max  pression  \\\n",
       "heure_utc                                                  \n",
       "2019-05-01 06:15:00+00:00                  1.0  101400.0   \n",
       "2019-05-01 06:30:00+00:00                  1.0  101400.0   \n",
       "2019-05-01 06:45:00+00:00                  1.0  101400.0   \n",
       "2019-05-01 07:00:00+00:00                  1.2  101400.0   \n",
       "2019-05-01 07:15:00+00:00                  1.2  101400.0   \n",
       "\n",
       "                           direction_du_vecteur_vent_moyen type_de_station  \\\n",
       "heure_utc                                                                    \n",
       "2019-05-01 06:15:00+00:00                                0             ISS   \n",
       "2019-05-01 06:30:00+00:00                                0             ISS   \n",
       "2019-05-01 06:45:00+00:00                                0             ISS   \n",
       "2019-05-01 07:00:00+00:00                                6             ISS   \n",
       "2019-05-01 07:15:00+00:00                               52             ISS   \n",
       "\n",
       "                           pluie  direction_du_vecteur_de_rafale_de_vent_max  \\\n",
       "heure_utc                                                                      \n",
       "2019-05-01 06:15:00+00:00    0.0                                        90.0   \n",
       "2019-05-01 06:30:00+00:00    0.0                                       135.0   \n",
       "2019-05-01 06:45:00+00:00    0.0                                       112.5   \n",
       "2019-05-01 07:00:00+00:00    0.0                                       135.0   \n",
       "2019-05-01 07:15:00+00:00    0.0                                       157.5   \n",
       "\n",
       "                           force_moyenne_du_vecteur_vent  force_rafale_max  \\\n",
       "heure_utc                                                                    \n",
       "2019-05-01 06:15:00+00:00                            2.0             160.0   \n",
       "2019-05-01 06:30:00+00:00                            2.0              40.0   \n",
       "2019-05-01 06:45:00+00:00                            1.0              80.0   \n",
       "2019-05-01 07:00:00+00:00                            1.0              40.0   \n",
       "2019-05-01 07:15:00+00:00                            2.0             112.0   \n",
       "\n",
       "                           temperature             heure_de_paris  \\\n",
       "heure_utc                                                           \n",
       "2019-05-01 06:15:00+00:00          8.9  2019-05-01 08:15:00+02:00   \n",
       "2019-05-01 06:30:00+00:00          9.4  2019-05-01 08:30:00+02:00   \n",
       "2019-05-01 06:45:00+00:00         10.3  2019-05-01 08:45:00+02:00   \n",
       "2019-05-01 07:00:00+00:00         11.1  2019-05-01 09:00:00+02:00   \n",
       "2019-05-01 07:15:00+00:00         11.7  2019-05-01 09:15:00+02:00   \n",
       "\n",
       "                           temperature_f  \n",
       "heure_utc                                 \n",
       "2019-05-01 06:15:00+00:00          48.02  \n",
       "2019-05-01 06:30:00+00:00          48.92  \n",
       "2019-05-01 06:45:00+00:00          50.54  \n",
       "2019-05-01 07:00:00+00:00          51.98  \n",
       "2019-05-01 07:15:00+00:00          53.06  "
      ]
     },
     "execution_count": 94,
     "metadata": {},
     "output_type": "execute_result"
    }
   ],
   "source": [
    "dfMeteo['temperature_f'] = dfMeteo.temperature.apply(lambda t: 9/5*t+32)\n",
    "dfMeteo.head(5)"
   ]
  },
  {
   "cell_type": "code",
   "execution_count": 95,
   "id": "497c4c85-3b4d-456b-a4b0-c518532f4156",
   "metadata": {},
   "outputs": [
    {
     "data": {
      "text/plain": [
       "heure_utc\n",
       "2019-05-01 06:15:00+00:00    0.000088\n",
       "2019-05-01 06:30:00+00:00    0.000093\n",
       "2019-05-01 06:45:00+00:00    0.000102\n",
       "2019-05-01 07:00:00+00:00    0.000109\n",
       "2019-05-01 07:15:00+00:00    0.000115\n",
       "                               ...   \n",
       "2022-11-16 12:45:00+00:00    0.000186\n",
       "2022-11-16 13:00:00+00:00    0.000190\n",
       "2022-11-16 13:15:00+00:00    0.000192\n",
       "2022-11-16 13:30:00+00:00    0.000190\n",
       "2022-11-16 13:45:00+00:00    0.000191\n",
       "Length: 118706, dtype: float64"
      ]
     },
     "execution_count": 95,
     "metadata": {},
     "output_type": "execute_result"
    }
   ],
   "source": [
    "dfMeteo.apply(lambda row: row.temperature / row.pression, axis=1)"
   ]
  },
  {
   "cell_type": "code",
   "execution_count": 96,
   "id": "e6564e26-06f9-4675-82e0-32dec6c20155",
   "metadata": {},
   "outputs": [],
   "source": [
    "def convert(t, unit1, unit2):\n",
    "    if unit1 == 'c' and unit2 == 'f':\n",
    "        return 9/5*t + 32\n",
    "    elif unit1 == 'f' and unit2 == 'c':\n",
    "        return (t - 32) * 5/9\n",
    "    else:\n",
    "        return t"
   ]
  },
  {
   "cell_type": "code",
   "execution_count": 97,
   "id": "eaa86182-2b3b-4e96-8f00-160a3c2f3e21",
   "metadata": {},
   "outputs": [
    {
     "data": {
      "text/plain": [
       "heure_utc\n",
       "2019-05-01 06:15:00+00:00    48.02\n",
       "2019-05-01 06:30:00+00:00    48.92\n",
       "2019-05-01 06:45:00+00:00    50.54\n",
       "2019-05-01 07:00:00+00:00    51.98\n",
       "2019-05-01 07:15:00+00:00    53.06\n",
       "                             ...  \n",
       "2022-11-16 12:45:00+00:00    64.94\n",
       "2022-11-16 13:00:00+00:00    65.66\n",
       "2022-11-16 13:15:00+00:00    66.02\n",
       "2022-11-16 13:30:00+00:00    65.66\n",
       "2022-11-16 13:45:00+00:00    65.84\n",
       "Name: temperature, Length: 118706, dtype: float64"
      ]
     },
     "execution_count": 97,
     "metadata": {},
     "output_type": "execute_result"
    }
   ],
   "source": [
    "dfMeteo.temperature.apply(convert, args=('c','f'))"
   ]
  },
  {
   "cell_type": "code",
   "execution_count": 98,
   "id": "969deeb0-99fc-4b1e-813f-bedbdf3fcebc",
   "metadata": {},
   "outputs": [
    {
     "data": {
      "text/plain": [
       "heure_utc\n",
       "2019-05-01 06:15:00+00:00    48.02\n",
       "2019-05-01 06:30:00+00:00    48.92\n",
       "2019-05-01 06:45:00+00:00    50.54\n",
       "2019-05-01 07:00:00+00:00    51.98\n",
       "2019-05-01 07:15:00+00:00    53.06\n",
       "                             ...  \n",
       "2022-11-16 12:45:00+00:00    64.94\n",
       "2022-11-16 13:00:00+00:00    65.66\n",
       "2022-11-16 13:15:00+00:00    66.02\n",
       "2022-11-16 13:30:00+00:00    65.66\n",
       "2022-11-16 13:45:00+00:00    65.84\n",
       "Name: temperature, Length: 118706, dtype: float64"
      ]
     },
     "execution_count": 98,
     "metadata": {},
     "output_type": "execute_result"
    }
   ],
   "source": [
    "dfMeteo.temperature.apply(convert, unit1='c', unit2='f')"
   ]
  },
  {
   "cell_type": "code",
   "execution_count": 100,
   "id": "58141aa2-454d-4502-b2aa-d8ecf9a2e1e1",
   "metadata": {},
   "outputs": [
    {
     "data": {
      "text/html": [
       "<div>\n",
       "<style scoped>\n",
       "    .dataframe tbody tr th:only-of-type {\n",
       "        vertical-align: middle;\n",
       "    }\n",
       "\n",
       "    .dataframe tbody tr th {\n",
       "        vertical-align: top;\n",
       "    }\n",
       "\n",
       "    .dataframe thead th {\n",
       "        text-align: right;\n",
       "    }\n",
       "</style>\n",
       "<table border=\"1\" class=\"dataframe\">\n",
       "  <thead>\n",
       "    <tr style=\"text-align: right;\">\n",
       "      <th></th>\n",
       "      <th>data</th>\n",
       "      <th>id</th>\n",
       "      <th>humidite</th>\n",
       "      <th>direction_du_vecteur_de_vent_max</th>\n",
       "      <th>pluie_intensite_max</th>\n",
       "      <th>pression</th>\n",
       "      <th>direction_du_vecteur_vent_moyen</th>\n",
       "      <th>type_de_station</th>\n",
       "      <th>pluie</th>\n",
       "      <th>direction_du_vecteur_de_rafale_de_vent_max</th>\n",
       "      <th>force_moyenne_du_vecteur_vent</th>\n",
       "      <th>force_rafale_max</th>\n",
       "      <th>temperature</th>\n",
       "      <th>heure_de_paris</th>\n",
       "      <th>temperature_f</th>\n",
       "      <th>date_utc</th>\n",
       "      <th>heure_only_utc</th>\n",
       "    </tr>\n",
       "    <tr>\n",
       "      <th>heure_utc</th>\n",
       "      <th></th>\n",
       "      <th></th>\n",
       "      <th></th>\n",
       "      <th></th>\n",
       "      <th></th>\n",
       "      <th></th>\n",
       "      <th></th>\n",
       "      <th></th>\n",
       "      <th></th>\n",
       "      <th></th>\n",
       "      <th></th>\n",
       "      <th></th>\n",
       "      <th></th>\n",
       "      <th></th>\n",
       "      <th></th>\n",
       "      <th></th>\n",
       "      <th></th>\n",
       "    </tr>\n",
       "  </thead>\n",
       "  <tbody>\n",
       "    <tr>\n",
       "      <th>2019-05-01 06:15:00+00:00</th>\n",
       "      <td>02a1034ea6b800004e49e140</td>\n",
       "      <td>1</td>\n",
       "      <td>87</td>\n",
       "      <td>4.0</td>\n",
       "      <td>1.0</td>\n",
       "      <td>101400.0</td>\n",
       "      <td>0</td>\n",
       "      <td>ISS</td>\n",
       "      <td>0.0</td>\n",
       "      <td>90.0</td>\n",
       "      <td>2.0</td>\n",
       "      <td>160.0</td>\n",
       "      <td>8.9</td>\n",
       "      <td>2019-05-01 08:15:00+02:00</td>\n",
       "      <td>48.02</td>\n",
       "      <td>2019-05-01</td>\n",
       "      <td>06:15:00</td>\n",
       "    </tr>\n",
       "    <tr>\n",
       "      <th>2019-05-01 06:30:00+00:00</th>\n",
       "      <td>02a1036ed2a800004e4ca140</td>\n",
       "      <td>1</td>\n",
       "      <td>85</td>\n",
       "      <td>6.0</td>\n",
       "      <td>1.0</td>\n",
       "      <td>101400.0</td>\n",
       "      <td>0</td>\n",
       "      <td>ISS</td>\n",
       "      <td>0.0</td>\n",
       "      <td>135.0</td>\n",
       "      <td>2.0</td>\n",
       "      <td>40.0</td>\n",
       "      <td>9.4</td>\n",
       "      <td>2019-05-01 08:30:00+02:00</td>\n",
       "      <td>48.92</td>\n",
       "      <td>2019-05-01</td>\n",
       "      <td>06:30:00</td>\n",
       "    </tr>\n",
       "    <tr>\n",
       "      <th>2019-05-01 06:45:00+00:00</th>\n",
       "      <td>02a1038f0e9800002e4b4140</td>\n",
       "      <td>1</td>\n",
       "      <td>83</td>\n",
       "      <td>5.0</td>\n",
       "      <td>1.0</td>\n",
       "      <td>101400.0</td>\n",
       "      <td>0</td>\n",
       "      <td>ISS</td>\n",
       "      <td>0.0</td>\n",
       "      <td>112.5</td>\n",
       "      <td>1.0</td>\n",
       "      <td>80.0</td>\n",
       "      <td>10.3</td>\n",
       "      <td>2019-05-01 08:45:00+02:00</td>\n",
       "      <td>50.54</td>\n",
       "      <td>2019-05-01</td>\n",
       "      <td>06:45:00</td>\n",
       "    </tr>\n",
       "    <tr>\n",
       "      <th>2019-05-01 07:00:00+00:00</th>\n",
       "      <td>02a103af468000302e4ca180</td>\n",
       "      <td>1</td>\n",
       "      <td>80</td>\n",
       "      <td>6.0</td>\n",
       "      <td>1.2</td>\n",
       "      <td>101400.0</td>\n",
       "      <td>6</td>\n",
       "      <td>ISS</td>\n",
       "      <td>0.0</td>\n",
       "      <td>135.0</td>\n",
       "      <td>1.0</td>\n",
       "      <td>40.0</td>\n",
       "      <td>11.1</td>\n",
       "      <td>2019-05-01 09:00:00+02:00</td>\n",
       "      <td>51.98</td>\n",
       "      <td>2019-05-01</td>\n",
       "      <td>07:00:00</td>\n",
       "    </tr>\n",
       "    <tr>\n",
       "      <th>2019-05-01 07:15:00+00:00</th>\n",
       "      <td>02a103cf5e7001a04e4f8180</td>\n",
       "      <td>1</td>\n",
       "      <td>78</td>\n",
       "      <td>7.0</td>\n",
       "      <td>1.2</td>\n",
       "      <td>101400.0</td>\n",
       "      <td>52</td>\n",
       "      <td>ISS</td>\n",
       "      <td>0.0</td>\n",
       "      <td>157.5</td>\n",
       "      <td>2.0</td>\n",
       "      <td>112.0</td>\n",
       "      <td>11.7</td>\n",
       "      <td>2019-05-01 09:15:00+02:00</td>\n",
       "      <td>53.06</td>\n",
       "      <td>2019-05-01</td>\n",
       "      <td>07:15:00</td>\n",
       "    </tr>\n",
       "  </tbody>\n",
       "</table>\n",
       "</div>"
      ],
      "text/plain": [
       "                                               data  id  humidite  \\\n",
       "heure_utc                                                           \n",
       "2019-05-01 06:15:00+00:00  02a1034ea6b800004e49e140   1        87   \n",
       "2019-05-01 06:30:00+00:00  02a1036ed2a800004e4ca140   1        85   \n",
       "2019-05-01 06:45:00+00:00  02a1038f0e9800002e4b4140   1        83   \n",
       "2019-05-01 07:00:00+00:00  02a103af468000302e4ca180   1        80   \n",
       "2019-05-01 07:15:00+00:00  02a103cf5e7001a04e4f8180   1        78   \n",
       "\n",
       "                           direction_du_vecteur_de_vent_max  \\\n",
       "heure_utc                                                     \n",
       "2019-05-01 06:15:00+00:00                               4.0   \n",
       "2019-05-01 06:30:00+00:00                               6.0   \n",
       "2019-05-01 06:45:00+00:00                               5.0   \n",
       "2019-05-01 07:00:00+00:00                               6.0   \n",
       "2019-05-01 07:15:00+00:00                               7.0   \n",
       "\n",
       "                           pluie_intensite_max  pression  \\\n",
       "heure_utc                                                  \n",
       "2019-05-01 06:15:00+00:00                  1.0  101400.0   \n",
       "2019-05-01 06:30:00+00:00                  1.0  101400.0   \n",
       "2019-05-01 06:45:00+00:00                  1.0  101400.0   \n",
       "2019-05-01 07:00:00+00:00                  1.2  101400.0   \n",
       "2019-05-01 07:15:00+00:00                  1.2  101400.0   \n",
       "\n",
       "                           direction_du_vecteur_vent_moyen type_de_station  \\\n",
       "heure_utc                                                                    \n",
       "2019-05-01 06:15:00+00:00                                0             ISS   \n",
       "2019-05-01 06:30:00+00:00                                0             ISS   \n",
       "2019-05-01 06:45:00+00:00                                0             ISS   \n",
       "2019-05-01 07:00:00+00:00                                6             ISS   \n",
       "2019-05-01 07:15:00+00:00                               52             ISS   \n",
       "\n",
       "                           pluie  direction_du_vecteur_de_rafale_de_vent_max  \\\n",
       "heure_utc                                                                      \n",
       "2019-05-01 06:15:00+00:00    0.0                                        90.0   \n",
       "2019-05-01 06:30:00+00:00    0.0                                       135.0   \n",
       "2019-05-01 06:45:00+00:00    0.0                                       112.5   \n",
       "2019-05-01 07:00:00+00:00    0.0                                       135.0   \n",
       "2019-05-01 07:15:00+00:00    0.0                                       157.5   \n",
       "\n",
       "                           force_moyenne_du_vecteur_vent  force_rafale_max  \\\n",
       "heure_utc                                                                    \n",
       "2019-05-01 06:15:00+00:00                            2.0             160.0   \n",
       "2019-05-01 06:30:00+00:00                            2.0              40.0   \n",
       "2019-05-01 06:45:00+00:00                            1.0              80.0   \n",
       "2019-05-01 07:00:00+00:00                            1.0              40.0   \n",
       "2019-05-01 07:15:00+00:00                            2.0             112.0   \n",
       "\n",
       "                           temperature             heure_de_paris  \\\n",
       "heure_utc                                                           \n",
       "2019-05-01 06:15:00+00:00          8.9  2019-05-01 08:15:00+02:00   \n",
       "2019-05-01 06:30:00+00:00          9.4  2019-05-01 08:30:00+02:00   \n",
       "2019-05-01 06:45:00+00:00         10.3  2019-05-01 08:45:00+02:00   \n",
       "2019-05-01 07:00:00+00:00         11.1  2019-05-01 09:00:00+02:00   \n",
       "2019-05-01 07:15:00+00:00         11.7  2019-05-01 09:15:00+02:00   \n",
       "\n",
       "                           temperature_f    date_utc heure_only_utc  \n",
       "heure_utc                                                            \n",
       "2019-05-01 06:15:00+00:00          48.02  2019-05-01       06:15:00  \n",
       "2019-05-01 06:30:00+00:00          48.92  2019-05-01       06:30:00  \n",
       "2019-05-01 06:45:00+00:00          50.54  2019-05-01       06:45:00  \n",
       "2019-05-01 07:00:00+00:00          51.98  2019-05-01       07:00:00  \n",
       "2019-05-01 07:15:00+00:00          53.06  2019-05-01       07:15:00  "
      ]
     },
     "execution_count": 100,
     "metadata": {},
     "output_type": "execute_result"
    }
   ],
   "source": [
    "dfMeteo[['date_utc','heure_only_utc']] = dfMeteo.apply(\n",
    "        lambda row: (row.name.date(), row.name.time()),\n",
    "        axis = 1,\n",
    "        result_type='expand')\n",
    "dfMeteo.head(5)"
   ]
  },
  {
   "cell_type": "code",
   "execution_count": 101,
   "id": "2808a0a4-f54a-4988-a831-05c8b361b7f1",
   "metadata": {
    "tags": []
   },
   "outputs": [
    {
     "data": {
      "text/html": [
       "<div>\n",
       "<style scoped>\n",
       "    .dataframe tbody tr th:only-of-type {\n",
       "        vertical-align: middle;\n",
       "    }\n",
       "\n",
       "    .dataframe tbody tr th {\n",
       "        vertical-align: top;\n",
       "    }\n",
       "\n",
       "    .dataframe thead th {\n",
       "        text-align: right;\n",
       "    }\n",
       "</style>\n",
       "<table border=\"1\" class=\"dataframe\">\n",
       "  <thead>\n",
       "    <tr style=\"text-align: right;\">\n",
       "      <th></th>\n",
       "      <th>1</th>\n",
       "      <th>2</th>\n",
       "    </tr>\n",
       "    <tr>\n",
       "      <th>0</th>\n",
       "      <th></th>\n",
       "      <th></th>\n",
       "    </tr>\n",
       "  </thead>\n",
       "  <tbody>\n",
       "    <tr>\n",
       "      <th>2019-05-01 06:15:00+00:00</th>\n",
       "      <td>2019-05-01</td>\n",
       "      <td>06:15:00</td>\n",
       "    </tr>\n",
       "    <tr>\n",
       "      <th>2019-05-01 06:30:00+00:00</th>\n",
       "      <td>2019-05-01</td>\n",
       "      <td>06:30:00</td>\n",
       "    </tr>\n",
       "    <tr>\n",
       "      <th>2019-05-01 06:45:00+00:00</th>\n",
       "      <td>2019-05-01</td>\n",
       "      <td>06:45:00</td>\n",
       "    </tr>\n",
       "    <tr>\n",
       "      <th>2019-05-01 07:00:00+00:00</th>\n",
       "      <td>2019-05-01</td>\n",
       "      <td>07:00:00</td>\n",
       "    </tr>\n",
       "    <tr>\n",
       "      <th>2019-05-01 07:15:00+00:00</th>\n",
       "      <td>2019-05-01</td>\n",
       "      <td>07:15:00</td>\n",
       "    </tr>\n",
       "    <tr>\n",
       "      <th>...</th>\n",
       "      <td>...</td>\n",
       "      <td>...</td>\n",
       "    </tr>\n",
       "    <tr>\n",
       "      <th>2022-11-16 12:45:00+00:00</th>\n",
       "      <td>2022-11-16</td>\n",
       "      <td>12:45:00</td>\n",
       "    </tr>\n",
       "    <tr>\n",
       "      <th>2022-11-16 13:00:00+00:00</th>\n",
       "      <td>2022-11-16</td>\n",
       "      <td>13:00:00</td>\n",
       "    </tr>\n",
       "    <tr>\n",
       "      <th>2022-11-16 13:15:00+00:00</th>\n",
       "      <td>2022-11-16</td>\n",
       "      <td>13:15:00</td>\n",
       "    </tr>\n",
       "    <tr>\n",
       "      <th>2022-11-16 13:30:00+00:00</th>\n",
       "      <td>2022-11-16</td>\n",
       "      <td>13:30:00</td>\n",
       "    </tr>\n",
       "    <tr>\n",
       "      <th>2022-11-16 13:45:00+00:00</th>\n",
       "      <td>2022-11-16</td>\n",
       "      <td>13:45:00</td>\n",
       "    </tr>\n",
       "  </tbody>\n",
       "</table>\n",
       "<p>118706 rows × 2 columns</p>\n",
       "</div>"
      ],
      "text/plain": [
       "                                    1         2\n",
       "0                                              \n",
       "2019-05-01 06:15:00+00:00  2019-05-01  06:15:00\n",
       "2019-05-01 06:30:00+00:00  2019-05-01  06:30:00\n",
       "2019-05-01 06:45:00+00:00  2019-05-01  06:45:00\n",
       "2019-05-01 07:00:00+00:00  2019-05-01  07:00:00\n",
       "2019-05-01 07:15:00+00:00  2019-05-01  07:15:00\n",
       "...                               ...       ...\n",
       "2022-11-16 12:45:00+00:00  2022-11-16  12:45:00\n",
       "2022-11-16 13:00:00+00:00  2022-11-16  13:00:00\n",
       "2022-11-16 13:15:00+00:00  2022-11-16  13:15:00\n",
       "2022-11-16 13:30:00+00:00  2022-11-16  13:30:00\n",
       "2022-11-16 13:45:00+00:00  2022-11-16  13:45:00\n",
       "\n",
       "[118706 rows x 2 columns]"
      ]
     },
     "execution_count": 101,
     "metadata": {},
     "output_type": "execute_result"
    }
   ],
   "source": [
    "dfMeteo.reset_index().apply(\n",
    "        lambda row: (row.heure_utc, row.heure_utc.date(), row.heure_utc.time()),\n",
    "        axis = 1,\n",
    "        result_type='expand').set_index(0)"
   ]
  },
  {
   "cell_type": "code",
   "execution_count": 106,
   "id": "a1af1360-a712-436b-9f5c-1bdcc008a686",
   "metadata": {
    "tags": []
   },
   "outputs": [
    {
     "data": {
      "text/html": [
       "<div>\n",
       "<style scoped>\n",
       "    .dataframe tbody tr th:only-of-type {\n",
       "        vertical-align: middle;\n",
       "    }\n",
       "\n",
       "    .dataframe tbody tr th {\n",
       "        vertical-align: top;\n",
       "    }\n",
       "\n",
       "    .dataframe thead tr th {\n",
       "        text-align: left;\n",
       "    }\n",
       "\n",
       "    .dataframe thead tr:last-of-type th {\n",
       "        text-align: right;\n",
       "    }\n",
       "</style>\n",
       "<table border=\"1\" class=\"dataframe\">\n",
       "  <thead>\n",
       "    <tr>\n",
       "      <th></th>\n",
       "      <th colspan=\"3\" halign=\"left\">temperature</th>\n",
       "      <th>pression</th>\n",
       "    </tr>\n",
       "    <tr>\n",
       "      <th></th>\n",
       "      <th>min</th>\n",
       "      <th>max</th>\n",
       "      <th>mean</th>\n",
       "      <th>mean</th>\n",
       "    </tr>\n",
       "    <tr>\n",
       "      <th>heure_utc</th>\n",
       "      <th></th>\n",
       "      <th></th>\n",
       "      <th></th>\n",
       "      <th></th>\n",
       "    </tr>\n",
       "  </thead>\n",
       "  <tbody>\n",
       "    <tr>\n",
       "      <th>2019-05-31 00:00:00+00:00</th>\n",
       "      <td>0.9</td>\n",
       "      <td>27.7</td>\n",
       "      <td>14.712475</td>\n",
       "      <td>101538.372881</td>\n",
       "    </tr>\n",
       "    <tr>\n",
       "      <th>2019-06-30 00:00:00+00:00</th>\n",
       "      <td>7.4</td>\n",
       "      <td>39.8</td>\n",
       "      <td>20.657262</td>\n",
       "      <td>99852.582322</td>\n",
       "    </tr>\n",
       "    <tr>\n",
       "      <th>2019-07-31 00:00:00+00:00</th>\n",
       "      <td>13.0</td>\n",
       "      <td>38.4</td>\n",
       "      <td>24.687394</td>\n",
       "      <td>99199.059266</td>\n",
       "    </tr>\n",
       "    <tr>\n",
       "      <th>2019-08-31 00:00:00+00:00</th>\n",
       "      <td>11.8</td>\n",
       "      <td>35.8</td>\n",
       "      <td>23.214675</td>\n",
       "      <td>99712.622013</td>\n",
       "    </tr>\n",
       "    <tr>\n",
       "      <th>2019-09-30 00:00:00+00:00</th>\n",
       "      <td>7.3</td>\n",
       "      <td>32.6</td>\n",
       "      <td>19.936271</td>\n",
       "      <td>99906.225953</td>\n",
       "    </tr>\n",
       "    <tr>\n",
       "      <th>2019-10-31 00:00:00+00:00</th>\n",
       "      <td>6.2</td>\n",
       "      <td>28.2</td>\n",
       "      <td>16.115255</td>\n",
       "      <td>99622.681452</td>\n",
       "    </tr>\n",
       "    <tr>\n",
       "      <th>2019-11-30 00:00:00+00:00</th>\n",
       "      <td>-2.9</td>\n",
       "      <td>18.3</td>\n",
       "      <td>9.120292</td>\n",
       "      <td>98802.923773</td>\n",
       "    </tr>\n",
       "    <tr>\n",
       "      <th>2019-12-31 00:00:00+00:00</th>\n",
       "      <td>0.8</td>\n",
       "      <td>19.1</td>\n",
       "      <td>9.592782</td>\n",
       "      <td>99273.415493</td>\n",
       "    </tr>\n",
       "    <tr>\n",
       "      <th>2020-01-31 00:00:00+00:00</th>\n",
       "      <td>-3.9</td>\n",
       "      <td>17.9</td>\n",
       "      <td>8.052560</td>\n",
       "      <td>99541.473297</td>\n",
       "    </tr>\n",
       "    <tr>\n",
       "      <th>2020-02-29 00:00:00+00:00</th>\n",
       "      <td>-1.9</td>\n",
       "      <td>21.8</td>\n",
       "      <td>10.131358</td>\n",
       "      <td>99918.264151</td>\n",
       "    </tr>\n",
       "    <tr>\n",
       "      <th>2020-03-31 00:00:00+00:00</th>\n",
       "      <td>1.0</td>\n",
       "      <td>21.1</td>\n",
       "      <td>10.431700</td>\n",
       "      <td>99680.060831</td>\n",
       "    </tr>\n",
       "    <tr>\n",
       "      <th>2020-04-30 00:00:00+00:00</th>\n",
       "      <td>0.9</td>\n",
       "      <td>25.2</td>\n",
       "      <td>14.804451</td>\n",
       "      <td>99487.691238</td>\n",
       "    </tr>\n",
       "    <tr>\n",
       "      <th>2020-05-31 00:00:00+00:00</th>\n",
       "      <td>8.1</td>\n",
       "      <td>29.8</td>\n",
       "      <td>18.358669</td>\n",
       "      <td>99683.938172</td>\n",
       "    </tr>\n",
       "    <tr>\n",
       "      <th>2020-06-30 00:00:00+00:00</th>\n",
       "      <td>10.1</td>\n",
       "      <td>33.5</td>\n",
       "      <td>19.445833</td>\n",
       "      <td>99519.930556</td>\n",
       "    </tr>\n",
       "    <tr>\n",
       "      <th>2020-07-31 00:00:00+00:00</th>\n",
       "      <td>12.0</td>\n",
       "      <td>37.9</td>\n",
       "      <td>23.594456</td>\n",
       "      <td>99806.048387</td>\n",
       "    </tr>\n",
       "    <tr>\n",
       "      <th>2020-08-31 00:00:00+00:00</th>\n",
       "      <td>11.9</td>\n",
       "      <td>37.9</td>\n",
       "      <td>23.705713</td>\n",
       "      <td>99220.961387</td>\n",
       "    </tr>\n",
       "    <tr>\n",
       "      <th>2020-09-30 00:00:00+00:00</th>\n",
       "      <td>6.5</td>\n",
       "      <td>34.4</td>\n",
       "      <td>19.841101</td>\n",
       "      <td>99701.288750</td>\n",
       "    </tr>\n",
       "    <tr>\n",
       "      <th>2020-10-31 00:00:00+00:00</th>\n",
       "      <td>3.1</td>\n",
       "      <td>22.3</td>\n",
       "      <td>13.248030</td>\n",
       "      <td>99305.321355</td>\n",
       "    </tr>\n",
       "    <tr>\n",
       "      <th>2020-11-30 00:00:00+00:00</th>\n",
       "      <td>-2.8</td>\n",
       "      <td>29.0</td>\n",
       "      <td>11.914781</td>\n",
       "      <td>99323.039216</td>\n",
       "    </tr>\n",
       "    <tr>\n",
       "      <th>2020-12-31 00:00:00+00:00</th>\n",
       "      <td>-3.9</td>\n",
       "      <td>47.4</td>\n",
       "      <td>10.802323</td>\n",
       "      <td>98255.789086</td>\n",
       "    </tr>\n",
       "    <tr>\n",
       "      <th>2021-01-31 00:00:00+00:00</th>\n",
       "      <td>-6.9</td>\n",
       "      <td>44.9</td>\n",
       "      <td>4.689420</td>\n",
       "      <td>98678.422274</td>\n",
       "    </tr>\n",
       "    <tr>\n",
       "      <th>2021-02-28 00:00:00+00:00</th>\n",
       "      <td>1.8</td>\n",
       "      <td>18.5</td>\n",
       "      <td>10.696707</td>\n",
       "      <td>99137.789102</td>\n",
       "    </tr>\n",
       "    <tr>\n",
       "      <th>2021-03-31 00:00:00+00:00</th>\n",
       "      <td>-2.9</td>\n",
       "      <td>21.8</td>\n",
       "      <td>10.245835</td>\n",
       "      <td>100276.053963</td>\n",
       "    </tr>\n",
       "    <tr>\n",
       "      <th>2021-04-30 00:00:00+00:00</th>\n",
       "      <td>-2.9</td>\n",
       "      <td>24.2</td>\n",
       "      <td>12.030670</td>\n",
       "      <td>99620.493227</td>\n",
       "    </tr>\n",
       "    <tr>\n",
       "      <th>2021-05-31 00:00:00+00:00</th>\n",
       "      <td>3.3</td>\n",
       "      <td>28.0</td>\n",
       "      <td>14.809455</td>\n",
       "      <td>99656.359354</td>\n",
       "    </tr>\n",
       "    <tr>\n",
       "      <th>2021-06-30 00:00:00+00:00</th>\n",
       "      <td>11.1</td>\n",
       "      <td>33.9</td>\n",
       "      <td>20.913236</td>\n",
       "      <td>99711.703239</td>\n",
       "    </tr>\n",
       "    <tr>\n",
       "      <th>2021-07-31 00:00:00+00:00</th>\n",
       "      <td>12.8</td>\n",
       "      <td>36.3</td>\n",
       "      <td>21.611089</td>\n",
       "      <td>99635.349462</td>\n",
       "    </tr>\n",
       "    <tr>\n",
       "      <th>2021-08-31 00:00:00+00:00</th>\n",
       "      <td>9.8</td>\n",
       "      <td>36.4</td>\n",
       "      <td>21.632504</td>\n",
       "      <td>99705.915966</td>\n",
       "    </tr>\n",
       "    <tr>\n",
       "      <th>2021-09-30 00:00:00+00:00</th>\n",
       "      <td>11.7</td>\n",
       "      <td>33.2</td>\n",
       "      <td>20.581508</td>\n",
       "      <td>99775.449102</td>\n",
       "    </tr>\n",
       "    <tr>\n",
       "      <th>2021-10-31 00:00:00+00:00</th>\n",
       "      <td>1.3</td>\n",
       "      <td>37.4</td>\n",
       "      <td>14.190391</td>\n",
       "      <td>99672.955975</td>\n",
       "    </tr>\n",
       "    <tr>\n",
       "      <th>2021-11-30 00:00:00+00:00</th>\n",
       "      <td>-3.8</td>\n",
       "      <td>46.1</td>\n",
       "      <td>8.371169</td>\n",
       "      <td>98686.530297</td>\n",
       "    </tr>\n",
       "    <tr>\n",
       "      <th>2021-12-31 00:00:00+00:00</th>\n",
       "      <td>-2.9</td>\n",
       "      <td>20.4</td>\n",
       "      <td>8.304531</td>\n",
       "      <td>98792.307692</td>\n",
       "    </tr>\n",
       "    <tr>\n",
       "      <th>2022-01-31 00:00:00+00:00</th>\n",
       "      <td>-4.9</td>\n",
       "      <td>16.8</td>\n",
       "      <td>4.157303</td>\n",
       "      <td>99604.955291</td>\n",
       "    </tr>\n",
       "    <tr>\n",
       "      <th>2022-02-28 00:00:00+00:00</th>\n",
       "      <td>-2.9</td>\n",
       "      <td>20.9</td>\n",
       "      <td>9.675392</td>\n",
       "      <td>99933.855799</td>\n",
       "    </tr>\n",
       "    <tr>\n",
       "      <th>2022-03-31 00:00:00+00:00</th>\n",
       "      <td>0.3</td>\n",
       "      <td>21.1</td>\n",
       "      <td>11.107363</td>\n",
       "      <td>99761.757720</td>\n",
       "    </tr>\n",
       "    <tr>\n",
       "      <th>2022-04-30 00:00:00+00:00</th>\n",
       "      <td>-4.9</td>\n",
       "      <td>23.7</td>\n",
       "      <td>12.115978</td>\n",
       "      <td>99446.405002</td>\n",
       "    </tr>\n",
       "    <tr>\n",
       "      <th>2022-05-31 00:00:00+00:00</th>\n",
       "      <td>9.3</td>\n",
       "      <td>33.3</td>\n",
       "      <td>19.554689</td>\n",
       "      <td>99768.806723</td>\n",
       "    </tr>\n",
       "    <tr>\n",
       "      <th>2022-06-30 00:00:00+00:00</th>\n",
       "      <td>12.0</td>\n",
       "      <td>39.4</td>\n",
       "      <td>22.907743</td>\n",
       "      <td>99547.534722</td>\n",
       "    </tr>\n",
       "    <tr>\n",
       "      <th>2022-07-31 00:00:00+00:00</th>\n",
       "      <td>11.8</td>\n",
       "      <td>40.1</td>\n",
       "      <td>25.582493</td>\n",
       "      <td>99874.764785</td>\n",
       "    </tr>\n",
       "    <tr>\n",
       "      <th>2022-08-31 00:00:00+00:00</th>\n",
       "      <td>15.6</td>\n",
       "      <td>39.9</td>\n",
       "      <td>25.833333</td>\n",
       "      <td>99470.362903</td>\n",
       "    </tr>\n",
       "    <tr>\n",
       "      <th>2022-09-30 00:00:00+00:00</th>\n",
       "      <td>6.5</td>\n",
       "      <td>34.0</td>\n",
       "      <td>20.203759</td>\n",
       "      <td>99408.527671</td>\n",
       "    </tr>\n",
       "    <tr>\n",
       "      <th>2022-10-31 00:00:00+00:00</th>\n",
       "      <td>9.3</td>\n",
       "      <td>29.5</td>\n",
       "      <td>19.226912</td>\n",
       "      <td>99539.221140</td>\n",
       "    </tr>\n",
       "    <tr>\n",
       "      <th>2022-11-30 00:00:00+00:00</th>\n",
       "      <td>3.4</td>\n",
       "      <td>21.9</td>\n",
       "      <td>14.310255</td>\n",
       "      <td>99030.472727</td>\n",
       "    </tr>\n",
       "  </tbody>\n",
       "</table>\n",
       "</div>"
      ],
      "text/plain": [
       "                          temperature                        pression\n",
       "                                  min   max       mean           mean\n",
       "heure_utc                                                            \n",
       "2019-05-31 00:00:00+00:00         0.9  27.7  14.712475  101538.372881\n",
       "2019-06-30 00:00:00+00:00         7.4  39.8  20.657262   99852.582322\n",
       "2019-07-31 00:00:00+00:00        13.0  38.4  24.687394   99199.059266\n",
       "2019-08-31 00:00:00+00:00        11.8  35.8  23.214675   99712.622013\n",
       "2019-09-30 00:00:00+00:00         7.3  32.6  19.936271   99906.225953\n",
       "2019-10-31 00:00:00+00:00         6.2  28.2  16.115255   99622.681452\n",
       "2019-11-30 00:00:00+00:00        -2.9  18.3   9.120292   98802.923773\n",
       "2019-12-31 00:00:00+00:00         0.8  19.1   9.592782   99273.415493\n",
       "2020-01-31 00:00:00+00:00        -3.9  17.9   8.052560   99541.473297\n",
       "2020-02-29 00:00:00+00:00        -1.9  21.8  10.131358   99918.264151\n",
       "2020-03-31 00:00:00+00:00         1.0  21.1  10.431700   99680.060831\n",
       "2020-04-30 00:00:00+00:00         0.9  25.2  14.804451   99487.691238\n",
       "2020-05-31 00:00:00+00:00         8.1  29.8  18.358669   99683.938172\n",
       "2020-06-30 00:00:00+00:00        10.1  33.5  19.445833   99519.930556\n",
       "2020-07-31 00:00:00+00:00        12.0  37.9  23.594456   99806.048387\n",
       "2020-08-31 00:00:00+00:00        11.9  37.9  23.705713   99220.961387\n",
       "2020-09-30 00:00:00+00:00         6.5  34.4  19.841101   99701.288750\n",
       "2020-10-31 00:00:00+00:00         3.1  22.3  13.248030   99305.321355\n",
       "2020-11-30 00:00:00+00:00        -2.8  29.0  11.914781   99323.039216\n",
       "2020-12-31 00:00:00+00:00        -3.9  47.4  10.802323   98255.789086\n",
       "2021-01-31 00:00:00+00:00        -6.9  44.9   4.689420   98678.422274\n",
       "2021-02-28 00:00:00+00:00         1.8  18.5  10.696707   99137.789102\n",
       "2021-03-31 00:00:00+00:00        -2.9  21.8  10.245835  100276.053963\n",
       "2021-04-30 00:00:00+00:00        -2.9  24.2  12.030670   99620.493227\n",
       "2021-05-31 00:00:00+00:00         3.3  28.0  14.809455   99656.359354\n",
       "2021-06-30 00:00:00+00:00        11.1  33.9  20.913236   99711.703239\n",
       "2021-07-31 00:00:00+00:00        12.8  36.3  21.611089   99635.349462\n",
       "2021-08-31 00:00:00+00:00         9.8  36.4  21.632504   99705.915966\n",
       "2021-09-30 00:00:00+00:00        11.7  33.2  20.581508   99775.449102\n",
       "2021-10-31 00:00:00+00:00         1.3  37.4  14.190391   99672.955975\n",
       "2021-11-30 00:00:00+00:00        -3.8  46.1   8.371169   98686.530297\n",
       "2021-12-31 00:00:00+00:00        -2.9  20.4   8.304531   98792.307692\n",
       "2022-01-31 00:00:00+00:00        -4.9  16.8   4.157303   99604.955291\n",
       "2022-02-28 00:00:00+00:00        -2.9  20.9   9.675392   99933.855799\n",
       "2022-03-31 00:00:00+00:00         0.3  21.1  11.107363   99761.757720\n",
       "2022-04-30 00:00:00+00:00        -4.9  23.7  12.115978   99446.405002\n",
       "2022-05-31 00:00:00+00:00         9.3  33.3  19.554689   99768.806723\n",
       "2022-06-30 00:00:00+00:00        12.0  39.4  22.907743   99547.534722\n",
       "2022-07-31 00:00:00+00:00        11.8  40.1  25.582493   99874.764785\n",
       "2022-08-31 00:00:00+00:00        15.6  39.9  25.833333   99470.362903\n",
       "2022-09-30 00:00:00+00:00         6.5  34.0  20.203759   99408.527671\n",
       "2022-10-31 00:00:00+00:00         9.3  29.5  19.226912   99539.221140\n",
       "2022-11-30 00:00:00+00:00         3.4  21.9  14.310255   99030.472727"
      ]
     },
     "execution_count": 106,
     "metadata": {},
     "output_type": "execute_result"
    }
   ],
   "source": [
    "stats = dfMeteo.groupby(pd.Grouper(freq='1M')).agg({\n",
    "        'temperature': ['min','max','mean'],\n",
    "        'pression': 'mean'\n",
    "})\n",
    "stats"
   ]
  },
  {
   "cell_type": "code",
   "execution_count": 107,
   "id": "67566fcd-40c7-41c8-b4d3-694540cb18da",
   "metadata": {},
   "outputs": [
    {
     "data": {
      "text/plain": [
       "<AxesSubplot:xlabel='heure_utc'>"
      ]
     },
     "execution_count": 107,
     "metadata": {},
     "output_type": "execute_result"
    },
    {
     "data": {
      "image/png": "[encoded data removed]",
      "text/plain": [
       "<Figure size 432x288 with 1 Axes>"
      ]
     },
     "metadata": {
      "needs_background": "light"
     },
     "output_type": "display_data"
    }
   ],
   "source": [
    "stats.temperature.plot()"
   ]
  },
  {
   "cell_type": "code",
   "execution_count": 114,
   "id": "9782ae32-4de4-4e5b-a714-51565ec978a4",
   "metadata": {},
   "outputs": [
    {
     "data": {
      "image/png": "[encoded data removed]",
      "text/plain": [
       "<Figure size 720x360 with 2 Axes>"
      ]
     },
     "metadata": {
      "needs_background": "light"
     },
     "output_type": "display_data"
    }
   ],
   "source": [
    "fig, (ax1, ax2) = plt.subplots(1, 2, figsize=(10,5))\n",
    "stats.temperature.plot(ax=ax1)\n",
    "stats.pression.plot(ax=ax2)\n",
    "plt.tight_layout()"
   ]
  },
  {
   "cell_type": "code",
   "execution_count": 115,
   "id": "aa8b236e-1b83-4731-9aaa-7511abb345fb",
   "metadata": {},
   "outputs": [
    {
     "data": {
      "image/png": "[encoded data removed]",
      "text/plain": [
       "<Figure size 720x360 with 2 Axes>"
      ]
     },
     "metadata": {
      "needs_background": "light"
     },
     "output_type": "display_data"
    }
   ],
   "source": [
    "fig, (ax1, ax2) = plt.subplots(1, 2, figsize=(10,5))\n",
    "ax1.plot(stats.temperature)\n",
    "ax2.plot(stats.pression)\n",
    "plt.tight_layout()"
   ]
  }
 ],
 "metadata": {
  "kernelspec": {
   "display_name": "Python 3 (ipykernel)",
   "language": "python",
   "name": "python3"
  },
  "language_info": {
   "codemirror_mode": {
    "name": "ipython",
    "version": 3
   },
   "file_extension": ".py",
   "mimetype": "text/x-python",
   "name": "python",
   "nbconvert_exporter": "python",
   "pygments_lexer": "ipython3",
   "version": "3.9.12"
  },
  "vscode": {
   "interpreter": {
    "hash": "a42704ac41a61a688343fec3580f7dab585536e630effb53d2c7a2b03cac372a"
   }
  }
 },
 "nbformat": 4,
 "nbformat_minor": 5
}
