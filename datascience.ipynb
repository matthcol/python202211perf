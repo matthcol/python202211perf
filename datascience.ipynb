{
 "cells": [
  {
   "cell_type": "code",
   "execution_count": 1,
   "id": "173eac5d-1899-4017-826d-66020dad99af",
   "metadata": {},
   "outputs": [],
   "source": [
    "import numpy as np\n",
    "import matplotlib.pyplot as plt"
   ]
  },
  {
   "cell_type": "code",
   "execution_count": 2,
   "id": "a3e29450-0cb4-4d31-b0a3-e6d4c84fe319",
   "metadata": {},
   "outputs": [],
   "source": [
    "y = np.random.normal(10, 3, 10000)"
   ]
  },
  {
   "cell_type": "code",
   "execution_count": 3,
   "id": "93d19bde-b62c-45c1-8bca-a87cfa648432",
   "metadata": {},
   "outputs": [
    {
     "data": {
      "image/png": "[encoded data removed]",
      "text/plain": [
       "<Figure size 432x288 with 1 Axes>"
      ]
     },
     "metadata": {
      "needs_background": "light"
     },
     "output_type": "display_data"
    }
   ],
   "source": [
    "_ = plt.hist(y, 1000)"
   ]
  },
  {
   "cell_type": "code",
   "execution_count": 4,
   "id": "34dd930c-e883-4101-96ad-f25d7f24be63",
   "metadata": {},
   "outputs": [
    {
     "name": "stdout",
     "output_type": "stream",
     "text": [
      "ValueError: The truth value of an array with more than one element is ambiguous. Use a.any() or a.all()\n"
     ]
    }
   ],
   "source": [
    "# ndarray has no truth value\n",
    "try:\n",
    "    bool(y)\n",
    "except ValueError as e:\n",
    "    print(\"ValueError:\", e)"
   ]
  },
  {
   "cell_type": "code",
   "execution_count": 5,
   "id": "ab510013-0d2b-4a84-b408-8d06cc136265",
   "metadata": {},
   "outputs": [
    {
     "data": {
      "text/plain": [
       "array([False, False, False, ..., False, False, False])"
      ]
     },
     "execution_count": 5,
     "metadata": {},
     "output_type": "execute_result"
    }
   ],
   "source": [
    "y == 3"
   ]
  },
  {
   "cell_type": "code",
   "execution_count": 6,
   "id": "b94d99b3-c2ec-46ca-9f4b-7ed930098d18",
   "metadata": {},
   "outputs": [
    {
     "data": {
      "text/plain": [
       "array([False, False, False, ..., False, False, False])"
      ]
     },
     "execution_count": 6,
     "metadata": {},
     "output_type": "execute_result"
    }
   ],
   "source": [
    "3 == y"
   ]
  },
  {
   "cell_type": "code",
   "execution_count": 7,
   "id": "07517028-a555-40eb-9730-cfdd1c77eaf4",
   "metadata": {},
   "outputs": [
    {
     "data": {
      "text/plain": [
       "array([11.88674706, 10.08668122, 10.77635479, ..., 14.99823767,\n",
       "       11.20331135, 13.25354645])"
      ]
     },
     "execution_count": 7,
     "metadata": {},
     "output_type": "execute_result"
    }
   ],
   "source": [
    "3 + y"
   ]
  },
  {
   "cell_type": "code",
   "execution_count": 8,
   "id": "0862a65e-d67a-4368-b91b-f5acbabe55af",
   "metadata": {},
   "outputs": [
    {
     "data": {
      "text/plain": [
       "array([10.53019613, 14.80801459, 13.49800455, ..., 10.2044623 ,\n",
       "       11.99823767, 10.25354645])"
      ]
     },
     "execution_count": 8,
     "metadata": {},
     "output_type": "execute_result"
    }
   ],
   "source": [
    "y[y>10]"
   ]
  },
  {
   "cell_type": "code",
   "execution_count": 9,
   "id": "483841de-5c00-492d-8158-762b01d8963e",
   "metadata": {},
   "outputs": [],
   "source": [
    "assert y.__getitem__(0) == y[0]"
   ]
  },
  {
   "cell_type": "code",
   "execution_count": 10,
   "id": "9684314f-e85c-403e-a604-4086f6ff18f6",
   "metadata": {},
   "outputs": [
    {
     "data": {
      "text/plain": [
       "1"
      ]
     },
     "execution_count": 10,
     "metadata": {},
     "output_type": "execute_result"
    }
   ],
   "source": [
    "(1,2,3)[0]"
   ]
  },
  {
   "cell_type": "code",
   "execution_count": 11,
   "id": "bfd7e262-f799-4f5e-ab14-07ce60afa6cb",
   "metadata": {},
   "outputs": [
    {
     "name": "stdout",
     "output_type": "stream",
     "text": [
      "TypeError: 'tuple' object does not support item assignment\n"
     ]
    }
   ],
   "source": [
    "# TypeError: 'tuple' object does not support item assignment\n",
    "t = (1,2,3)\n",
    "try:\n",
    "    t[0] = 2\n",
    "except TypeError as e:\n",
    "    print(\"TypeError:\",e)"
   ]
  }
 ],
 "metadata": {
  "kernelspec": {
   "display_name": "Python 3.9.12 ('base')",
   "language": "python",
   "name": "python3"
  },
  "language_info": {
   "codemirror_mode": {
    "name": "ipython",
    "version": 3
   },
   "file_extension": ".py",
   "mimetype": "text/x-python",
   "name": "python",
   "nbconvert_exporter": "python",
   "pygments_lexer": "ipython3",
   "version": "3.9.12"
  },
  "vscode": {
   "interpreter": {
    "hash": "a42704ac41a61a688343fec3580f7dab585536e630effb53d2c7a2b03cac372a"
   }
  }
 },
 "nbformat": 4,
 "nbformat_minor": 5
}
