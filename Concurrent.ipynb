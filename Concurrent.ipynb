{
 "cells": [
  {
   "cell_type": "markdown",
   "id": "ca87a293-3d40-41e4-b578-b16fcf811027",
   "metadata": {},
   "source": [
    "# Optimisation, Perf, Parallelisation"
   ]
  },
  {
   "cell_type": "code",
   "execution_count": 8,
   "id": "1bdffdb2-ac15-43f0-a929-e93b1652c2a7",
   "metadata": {},
   "outputs": [],
   "source": [
    "from pathlib import Path\n",
    "import shutil"
   ]
  },
  {
   "cell_type": "code",
   "execution_count": 2,
   "id": "e01626bc-dd29-41cc-8a9f-4f08dcfb2983",
   "metadata": {},
   "outputs": [
    {
     "data": {
      "text/plain": [
       "WindowsPath('.')"
      ]
     },
     "execution_count": 2,
     "metadata": {},
     "output_type": "execute_result"
    }
   ],
   "source": [
    "p = Path('.')\n",
    "p"
   ]
  },
  {
   "cell_type": "code",
   "execution_count": 3,
   "id": "508367ac-96be-4795-a152-c6fc4fab03ba",
   "metadata": {},
   "outputs": [
    {
     "data": {
      "text/plain": [
       "WindowsPath('data/01-station-meteo-toulouse-meteopole.csv')"
      ]
     },
     "execution_count": 3,
     "metadata": {},
     "output_type": "execute_result"
    }
   ],
   "source": [
    "pathData = p / \"data\" / \"01-station-meteo-toulouse-meteopole.csv\"\n",
    "pathData"
   ]
  },
  {
   "cell_type": "code",
   "execution_count": 13,
   "id": "762a3d9e-6d40-46ad-ba84-bd1939f71c3c",
   "metadata": {},
   "outputs": [
    {
     "data": {
      "text/plain": [
       "os.stat_result(st_mode=33206, st_ino=844424930539961, st_dev=3053894559, st_nlink=1, st_uid=0, st_gid=0, st_size=14912248, st_atime=1668679641, st_mtime=1668606536, st_ctime=1668606469)"
      ]
     },
     "execution_count": 13,
     "metadata": {},
     "output_type": "execute_result"
    }
   ],
   "source": [
    "pathData.stat()"
   ]
  },
  {
   "cell_type": "code",
   "execution_count": 9,
   "id": "14129ee9-8f81-4509-95d9-2366c71898ae",
   "metadata": {},
   "outputs": [
    {
     "name": "stdout",
     "output_type": "stream",
     "text": [
      "C:\\Users\\Matthias\\Documents\\Formations\\Python\\Stage20221114\n"
     ]
    },
    {
     "data": {
      "text/plain": [
       "WindowsPath('C:/Users/Matthias/Documents/Formations/Python/Stage20221114')"
      ]
     },
     "execution_count": 9,
     "metadata": {},
     "output_type": "execute_result"
    }
   ],
   "source": [
    "pAbsolute = p.resolve()\n",
    "print(pAbsolute)\n",
    "pAbsolute"
   ]
  },
  {
   "cell_type": "code",
   "execution_count": 7,
   "id": "f240df66-8f4a-4ef0-bf61-2024d31c2020",
   "metadata": {},
   "outputs": [
    {
     "data": {
      "text/plain": [
       "[WindowsPath('carremagic_ex_np.py'),\n",
       " WindowsPath('codeWithDecorator.py'),\n",
       " WindowsPath('codeWithDecorator2.py'),\n",
       " WindowsPath('plot_example.py'),\n",
       " WindowsPath('queens.py'),\n",
       " WindowsPath('testWordPlay.py'),\n",
       " WindowsPath('testWordPlayDummy.py'),\n",
       " WindowsPath('wordplay.py'),\n",
       " WindowsPath('.ipynb_checkpoints/carremagic_ex_np-checkpoint.py'),\n",
       " WindowsPath('.ipynb_checkpoints/queens-checkpoint.py'),\n",
       " WindowsPath('geometry/point.py'),\n",
       " WindowsPath('geometry/test_point.py'),\n",
       " WindowsPath('geometry/test_weightedcoloredpoint.py'),\n",
       " WindowsPath('geometry/test_weightedpoint.py')]"
      ]
     },
     "execution_count": 7,
     "metadata": {},
     "output_type": "execute_result"
    }
   ],
   "source": [
    "list(p.glob('**/*.py'))"
   ]
  },
  {
   "cell_type": "markdown",
   "id": "bf2ae829-63f0-4631-9d1c-63858d9fa20e",
   "metadata": {},
   "source": [
    "## Parallelism, Concurrent\n",
    "- process: 1 app = 1 process\n",
    "    . parent/children (transmission environnement)\n",
    "    - cloisonné (propre RAM)\n",
    "    - mémoire partagée (TODO)\n",
    "- thread (fil d'exécution): 1 process contient 1 ou plusieurs threads\n",
    "    - 1 process = 1 thread (defaut)\n",
    "    - possibilité multi threading\n",
    "    - mémoire:\n",
    "        - stack : chaque thread a son propre stack\n",
    "            - appel fonction (param, var locales, return value)\n",
    "            - @retour (Program Counter)\n",
    "        - heap (allocation dynamique, extensible) : partagée \n",
    "- ordonnancement: process + thread par OS"
   ]
  },
  {
   "cell_type": "code",
   "execution_count": 25,
   "id": "b8350201-e81d-4cc8-8033-89558ee9914b",
   "metadata": {},
   "outputs": [],
   "source": [
    "from concurrent.futures import ThreadPoolExecutor\n",
    "import time"
   ]
  },
  {
   "cell_type": "code",
   "execution_count": 15,
   "id": "ab26f815-a660-4f73-8091-39ae5f394c4d",
   "metadata": {},
   "outputs": [],
   "source": [
    "pool = ThreadPoolExecutor(3)"
   ]
  },
  {
   "cell_type": "code",
   "execution_count": 27,
   "id": "f643e6ba-066b-49ad-8c68-7afa035a4b7a",
   "metadata": {},
   "outputs": [],
   "source": [
    "def compute(x, wait=2):\n",
    "    print(\"Compute:\",x)\n",
    "    time.sleep(wait)\n",
    "    return x**2+1"
   ]
  },
  {
   "cell_type": "code",
   "execution_count": 33,
   "id": "4e373ce0-d43f-4760-ba9b-61a6da427338",
   "metadata": {},
   "outputs": [
    {
     "name": "stdout",
     "output_type": "stream",
     "text": [
      "<Future at 0x24ecdd20a00 state=pending>Compute: 3\n",
      "\n",
      "False\n"
     ]
    },
    {
     "data": {
      "text/plain": [
       "10"
      ]
     },
     "execution_count": 33,
     "metadata": {},
     "output_type": "execute_result"
    }
   ],
   "source": [
    "j = pool.submit(compute, 3, wait=10)\n",
    "print(repr(j))\n",
    "print(j.done())\n",
    "j.result() # join if not done"
   ]
  },
  {
   "cell_type": "code",
   "execution_count": 38,
   "id": "4b938b74-8a89-42dc-8f19-1d8c932b0b38",
   "metadata": {},
   "outputs": [
    {
     "name": "stdout",
     "output_type": "stream",
     "text": [
      "Compute:Compute: 1\n",
      "Compute: 2\n",
      " 0\n",
      "Compute: 3\n",
      "Compute: 4\n",
      "Compute: 5\n"
     ]
    }
   ],
   "source": [
    "x = range(10)\n",
    "res = pool.map(lambda x: compute(x, wait=15-x), x)"
   ]
  },
  {
   "cell_type": "code",
   "execution_count": 39,
   "id": "3e079994-198a-44f4-8a39-0d987684bba8",
   "metadata": {},
   "outputs": [
    {
     "name": "stdout",
     "output_type": "stream",
     "text": [
      "Compute: 6\n",
      "Compute: 7\n",
      "Compute: 8\n",
      "Compute: 9\n"
     ]
    },
    {
     "data": {
      "text/plain": [
       "[1, 2, 5, 10, 17, 26, 37, 50, 65, 82]"
      ]
     },
     "execution_count": 39,
     "metadata": {},
     "output_type": "execute_result"
    }
   ],
   "source": [
    "list(res)"
   ]
  },
  {
   "cell_type": "markdown",
   "id": "ed07a925-ca12-4078-917b-849e1242be40",
   "metadata": {},
   "source": [
    "## Mesure perf"
   ]
  },
  {
   "cell_type": "code",
   "execution_count": 42,
   "id": "cf459779-ba3e-4c50-8efd-db0926ced55e",
   "metadata": {},
   "outputs": [],
   "source": [
    "import fibo"
   ]
  },
  {
   "cell_type": "code",
   "execution_count": 44,
   "id": "dd0764d4-356c-4476-b995-076b28d09928",
   "metadata": {},
   "outputs": [
    {
     "name": "stdout",
     "output_type": "stream",
     "text": [
      "Wall time: 0 ns\n"
     ]
    },
    {
     "data": {
      "text/plain": [
       "102334155"
      ]
     },
     "execution_count": 44,
     "metadata": {},
     "output_type": "execute_result"
    }
   ],
   "source": [
    "%time fibo.fiboCallGen(40)"
   ]
  },
  {
   "cell_type": "code",
   "execution_count": 53,
   "id": "0e7d7326-c3ce-41fa-93ba-256d739797da",
   "metadata": {},
   "outputs": [
    {
     "name": "stdout",
     "output_type": "stream",
     "text": [
      "5.26 µs ± 253 ns per loop (mean ± std. dev. of 10 runs, 10 loops each)\n"
     ]
    },
    {
     "data": {
      "text/plain": [
       "<TimeitResult : 5.26 µs ± 253 ns per loop (mean ± std. dev. of 10 runs, 10 loops each)>"
      ]
     },
     "execution_count": 53,
     "metadata": {},
     "output_type": "execute_result"
    }
   ],
   "source": [
    "# %timeit eq to timeit.repeat\n",
    "t = %timeit -n 10 -r 10 -o fibo.fiboCallGen(40)\n",
    "t"
   ]
  },
  {
   "cell_type": "code",
   "execution_count": 54,
   "id": "af8f4fde-44ef-4a97-83c2-ca90da5f4030",
   "metadata": {},
   "outputs": [
    {
     "data": {
      "text/plain": [
       "<TimeitResult : 5.26 µs ± 253 ns per loop (mean ± std. dev. of 10 runs, 10 loops each)>"
      ]
     },
     "execution_count": 54,
     "metadata": {},
     "output_type": "execute_result"
    }
   ],
   "source": [
    "t"
   ]
  }
 ],
 "metadata": {
  "kernelspec": {
   "display_name": "Python 3 (ipykernel)",
   "language": "python",
   "name": "python3"
  },
  "language_info": {
   "codemirror_mode": {
    "name": "ipython",
    "version": 3
   },
   "file_extension": ".py",
   "mimetype": "text/x-python",
   "name": "python",
   "nbconvert_exporter": "python",
   "pygments_lexer": "ipython3",
   "version": "3.9.12"
  }
 },
 "nbformat": 4,
 "nbformat_minor": 5
}
