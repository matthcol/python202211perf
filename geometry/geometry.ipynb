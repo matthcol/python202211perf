{
 "cells": [
  {
   "cell_type": "markdown",
   "id": "dc48972d-37e9-429a-829d-b35c8bfec335",
   "metadata": {},
   "source": [
    "# Geometry"
   ]
  },
  {
   "cell_type": "code",
   "execution_count": 24,
   "id": "f80a52eb-ffe5-434a-9e53-2d859582bd74",
   "metadata": {},
   "outputs": [],
   "source": [
    "from point import Point\n",
    "from operator import attrgetter\n",
    "from functools import cmp_to_key\n",
    "import locale"
   ]
  },
  {
   "cell_type": "code",
   "execution_count": 2,
   "id": "8ea9acef-3f8f-4562-a79e-a20d9475457a",
   "metadata": {},
   "outputs": [],
   "source": [
    "points = [\n",
    "    Point(\"A\", 2, 3),\n",
    "    Point(\"B\", 1, 5),\n",
    "    Point(\"C\", 4, -1),\n",
    "    Point(\"D\", 2, 5),\n",
    "]"
   ]
  },
  {
   "cell_type": "code",
   "execution_count": 3,
   "id": "3d19ec6b-7660-4162-b268-a47e14770501",
   "metadata": {},
   "outputs": [
    {
     "data": {
      "text/plain": [
       "[A(2,3), B(1,5), C(4,-1), D(2,5)]"
      ]
     },
     "execution_count": 3,
     "metadata": {},
     "output_type": "execute_result"
    }
   ],
   "source": [
    "points.sort()\n",
    "points"
   ]
  },
  {
   "cell_type": "code",
   "execution_count": 4,
   "id": "f1622ad2-0252-4b19-8c2c-6d5c74940505",
   "metadata": {},
   "outputs": [
    {
     "data": {
      "text/plain": [
       "[D(2,5), C(4,-1), B(1,5), A(2,3)]"
      ]
     },
     "execution_count": 4,
     "metadata": {},
     "output_type": "execute_result"
    }
   ],
   "source": [
    "points.sort(reverse=True)\n",
    "points"
   ]
  },
  {
   "cell_type": "code",
   "execution_count": 5,
   "id": "8f19ff17-4ae3-4d83-bbeb-f4a35480f8c8",
   "metadata": {},
   "outputs": [
    {
     "data": {
      "text/plain": [
       "[B(1,5), D(2,5), A(2,3), C(4,-1)]"
      ]
     },
     "execution_count": 5,
     "metadata": {},
     "output_type": "execute_result"
    }
   ],
   "source": [
    "# new list returned\n",
    "sorted(points, key=lambda p: p.x) "
   ]
  },
  {
   "cell_type": "code",
   "execution_count": 9,
   "id": "202e2c6b-bb60-4330-ae83-a54bae311409",
   "metadata": {},
   "outputs": [
    {
     "data": {
      "text/plain": [
       "[C(4,-1), A(2,3), D(2,5), B(1,5)]"
      ]
     },
     "execution_count": 9,
     "metadata": {},
     "output_type": "execute_result"
    }
   ],
   "source": [
    "sorted(points, key=attrgetter('y'))"
   ]
  },
  {
   "cell_type": "code",
   "execution_count": 10,
   "id": "ee339bff-769f-49ed-a9c1-29242b15241f",
   "metadata": {},
   "outputs": [
    {
     "data": {
      "text/plain": [
       "[C(4,-1), A(2,3), B(1,5), D(2,5)]"
      ]
     },
     "execution_count": 10,
     "metadata": {},
     "output_type": "execute_result"
    }
   ],
   "source": [
    "sorted(points, key=attrgetter('y', 'x'))"
   ]
  },
  {
   "cell_type": "code",
   "execution_count": 11,
   "id": "18ce7149-95ff-47f1-a991-2382f5c996aa",
   "metadata": {},
   "outputs": [
    {
     "data": {
      "text/plain": [
       "[C(4,-1), A(2,3), D(2,5), B(1,5)]"
      ]
     },
     "execution_count": 11,
     "metadata": {},
     "output_type": "execute_result"
    }
   ],
   "source": [
    "sorted(points, key=lambda p: (-p.x, p.y))"
   ]
  },
  {
   "cell_type": "code",
   "execution_count": 13,
   "id": "a05f3aea-da28-4c5b-a2de-9cbd35840b5b",
   "metadata": {},
   "outputs": [],
   "source": [
    "pointsFr = [\n",
    "    Point(\"été\", 2, 3),\n",
    "    Point(\"étuve\", 1, 5),\n",
    "    Point(\"étage\", 4, -1),\n",
    "    Point(\"forêt\", 2, 5),\n",
    "]"
   ]
  },
  {
   "cell_type": "code",
   "execution_count": 14,
   "id": "d6325e0c-74c2-4c6f-a433-7dd4e27905c9",
   "metadata": {},
   "outputs": [
    {
     "data": {
      "text/plain": [
       "[forêt(2,5), étage(4,-1), étuve(1,5), été(2,3)]"
      ]
     },
     "execution_count": 14,
     "metadata": {},
     "output_type": "execute_result"
    }
   ],
   "source": [
    "sorted(pointsFr)"
   ]
  },
  {
   "cell_type": "code",
   "execution_count": 16,
   "id": "85ad62b9-e764-4a13-b4c2-bcb676e35f33",
   "metadata": {},
   "outputs": [
    {
     "data": {
      "text/plain": [
       "('fr_FR', 'cp1252')"
      ]
     },
     "execution_count": 16,
     "metadata": {},
     "output_type": "execute_result"
    }
   ],
   "source": [
    "locale.getlocale()"
   ]
  },
  {
   "cell_type": "code",
   "execution_count": 17,
   "id": "53367107-1013-4b01-a77b-2c8b89c99bd7",
   "metadata": {},
   "outputs": [
    {
     "data": {
      "text/plain": [
       "'fr_FR.UTF-8'"
      ]
     },
     "execution_count": 17,
     "metadata": {},
     "output_type": "execute_result"
    }
   ],
   "source": [
    "locale.setlocale(locale.LC_ALL,'fr_FR.UTF-8') "
   ]
  },
  {
   "cell_type": "code",
   "execution_count": 20,
   "id": "cc0b5687-39ec-4376-ba82-2c2d778bbd32",
   "metadata": {},
   "outputs": [],
   "source": [
    "assert locale.strcoll('été', 'étuve') < 0"
   ]
  },
  {
   "cell_type": "code",
   "execution_count": 25,
   "id": "a8b6a97b-5588-4ff5-b57c-3933bf725e57",
   "metadata": {},
   "outputs": [
    {
     "data": {
      "text/plain": [
       "['étage', 'été', 'étuve', 'forêt']"
      ]
     },
     "execution_count": 25,
     "metadata": {},
     "output_type": "execute_result"
    }
   ],
   "source": [
    "sorted([\"été\", \"étage\", \"étuve\", \"forêt\"], key=cmp_to_key(locale.strcoll))"
   ]
  },
  {
   "cell_type": "code",
   "execution_count": 26,
   "id": "3736d3c5-82c0-4e4a-862c-8edcaa27fde4",
   "metadata": {},
   "outputs": [
    {
     "data": {
      "text/plain": [
       "[étage(4,-1), été(2,3), étuve(1,5), forêt(2,5)]"
      ]
     },
     "execution_count": 26,
     "metadata": {},
     "output_type": "execute_result"
    }
   ],
   "source": [
    "key_fr = cmp_to_key(locale.strcoll)\n",
    "sorted(pointsFr, key= lambda p: key_fr(p.name))"
   ]
  }
 ],
 "metadata": {
  "kernelspec": {
   "display_name": "Python 3 (ipykernel)",
   "language": "python",
   "name": "python3"
  },
  "language_info": {
   "codemirror_mode": {
    "name": "ipython",
    "version": 3
   },
   "file_extension": ".py",
   "mimetype": "text/x-python",
   "name": "python",
   "nbconvert_exporter": "python",
   "pygments_lexer": "ipython3",
   "version": "3.9.12"
  }
 },
 "nbformat": 4,
 "nbformat_minor": 5
}
